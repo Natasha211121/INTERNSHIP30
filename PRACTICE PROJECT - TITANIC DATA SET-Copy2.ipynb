{
 "cells": [
  {
   "cell_type": "markdown",
   "id": "9bc75ef8",
   "metadata": {},
   "source": [
    "# PRACTICE PROJECT - TITANIC DATA SET -USE POWER TRANSFORM AND ZSCORE AGAIN "
   ]
  },
  {
   "cell_type": "code",
   "execution_count": 2,
   "id": "d86b7dc3",
   "metadata": {},
   "outputs": [],
   "source": [
    "import pandas as pd\n",
    "import numpy as np"
   ]
  },
  {
   "cell_type": "code",
   "execution_count": 3,
   "id": "bf185cae",
   "metadata": {},
   "outputs": [],
   "source": [
    "dd=pd.read_csv('titanicdatasetfinal.csv')"
   ]
  },
  {
   "cell_type": "code",
   "execution_count": 4,
   "id": "3645dc7f",
   "metadata": {},
   "outputs": [],
   "source": [
    "df=pd.DataFrame(data=dd)"
   ]
  },
  {
   "cell_type": "code",
   "execution_count": 5,
   "id": "adcca3ee",
   "metadata": {},
   "outputs": [
    {
     "data": {
      "text/html": [
       "<div>\n",
       "<style scoped>\n",
       "    .dataframe tbody tr th:only-of-type {\n",
       "        vertical-align: middle;\n",
       "    }\n",
       "\n",
       "    .dataframe tbody tr th {\n",
       "        vertical-align: top;\n",
       "    }\n",
       "\n",
       "    .dataframe thead th {\n",
       "        text-align: right;\n",
       "    }\n",
       "</style>\n",
       "<table border=\"1\" class=\"dataframe\">\n",
       "  <thead>\n",
       "    <tr style=\"text-align: right;\">\n",
       "      <th></th>\n",
       "      <th>PassengerId</th>\n",
       "      <th>Survived</th>\n",
       "      <th>Pclass</th>\n",
       "      <th>Name</th>\n",
       "      <th>Sex</th>\n",
       "      <th>Age</th>\n",
       "      <th>SibSp</th>\n",
       "      <th>Parch</th>\n",
       "      <th>Ticket</th>\n",
       "      <th>Fare</th>\n",
       "      <th>Cabin</th>\n",
       "      <th>Embarked</th>\n",
       "    </tr>\n",
       "  </thead>\n",
       "  <tbody>\n",
       "    <tr>\n",
       "      <th>0</th>\n",
       "      <td>1</td>\n",
       "      <td>0</td>\n",
       "      <td>3</td>\n",
       "      <td>Braund, Mr. Owen Harris</td>\n",
       "      <td>male</td>\n",
       "      <td>22.0</td>\n",
       "      <td>1</td>\n",
       "      <td>0</td>\n",
       "      <td>A/5 21171</td>\n",
       "      <td>7.2500</td>\n",
       "      <td>NaN</td>\n",
       "      <td>S</td>\n",
       "    </tr>\n",
       "    <tr>\n",
       "      <th>1</th>\n",
       "      <td>2</td>\n",
       "      <td>1</td>\n",
       "      <td>1</td>\n",
       "      <td>Cumings, Mrs. John Bradley (Florence Briggs Th...</td>\n",
       "      <td>female</td>\n",
       "      <td>38.0</td>\n",
       "      <td>1</td>\n",
       "      <td>0</td>\n",
       "      <td>PC 17599</td>\n",
       "      <td>71.2833</td>\n",
       "      <td>C85</td>\n",
       "      <td>C</td>\n",
       "    </tr>\n",
       "    <tr>\n",
       "      <th>2</th>\n",
       "      <td>3</td>\n",
       "      <td>1</td>\n",
       "      <td>3</td>\n",
       "      <td>Heikkinen, Miss. Laina</td>\n",
       "      <td>female</td>\n",
       "      <td>26.0</td>\n",
       "      <td>0</td>\n",
       "      <td>0</td>\n",
       "      <td>STON/O2. 3101282</td>\n",
       "      <td>7.9250</td>\n",
       "      <td>NaN</td>\n",
       "      <td>S</td>\n",
       "    </tr>\n",
       "    <tr>\n",
       "      <th>3</th>\n",
       "      <td>4</td>\n",
       "      <td>1</td>\n",
       "      <td>1</td>\n",
       "      <td>Futrelle, Mrs. Jacques Heath (Lily May Peel)</td>\n",
       "      <td>female</td>\n",
       "      <td>35.0</td>\n",
       "      <td>1</td>\n",
       "      <td>0</td>\n",
       "      <td>113803</td>\n",
       "      <td>53.1000</td>\n",
       "      <td>C123</td>\n",
       "      <td>S</td>\n",
       "    </tr>\n",
       "    <tr>\n",
       "      <th>4</th>\n",
       "      <td>5</td>\n",
       "      <td>0</td>\n",
       "      <td>3</td>\n",
       "      <td>Allen, Mr. William Henry</td>\n",
       "      <td>male</td>\n",
       "      <td>35.0</td>\n",
       "      <td>0</td>\n",
       "      <td>0</td>\n",
       "      <td>373450</td>\n",
       "      <td>8.0500</td>\n",
       "      <td>NaN</td>\n",
       "      <td>S</td>\n",
       "    </tr>\n",
       "    <tr>\n",
       "      <th>...</th>\n",
       "      <td>...</td>\n",
       "      <td>...</td>\n",
       "      <td>...</td>\n",
       "      <td>...</td>\n",
       "      <td>...</td>\n",
       "      <td>...</td>\n",
       "      <td>...</td>\n",
       "      <td>...</td>\n",
       "      <td>...</td>\n",
       "      <td>...</td>\n",
       "      <td>...</td>\n",
       "      <td>...</td>\n",
       "    </tr>\n",
       "    <tr>\n",
       "      <th>886</th>\n",
       "      <td>887</td>\n",
       "      <td>0</td>\n",
       "      <td>2</td>\n",
       "      <td>Montvila, Rev. Juozas</td>\n",
       "      <td>male</td>\n",
       "      <td>27.0</td>\n",
       "      <td>0</td>\n",
       "      <td>0</td>\n",
       "      <td>211536</td>\n",
       "      <td>13.0000</td>\n",
       "      <td>NaN</td>\n",
       "      <td>S</td>\n",
       "    </tr>\n",
       "    <tr>\n",
       "      <th>887</th>\n",
       "      <td>888</td>\n",
       "      <td>1</td>\n",
       "      <td>1</td>\n",
       "      <td>Graham, Miss. Margaret Edith</td>\n",
       "      <td>female</td>\n",
       "      <td>19.0</td>\n",
       "      <td>0</td>\n",
       "      <td>0</td>\n",
       "      <td>112053</td>\n",
       "      <td>30.0000</td>\n",
       "      <td>B42</td>\n",
       "      <td>S</td>\n",
       "    </tr>\n",
       "    <tr>\n",
       "      <th>888</th>\n",
       "      <td>889</td>\n",
       "      <td>0</td>\n",
       "      <td>3</td>\n",
       "      <td>Johnston, Miss. Catherine Helen \"Carrie\"</td>\n",
       "      <td>female</td>\n",
       "      <td>NaN</td>\n",
       "      <td>1</td>\n",
       "      <td>2</td>\n",
       "      <td>W./C. 6607</td>\n",
       "      <td>23.4500</td>\n",
       "      <td>NaN</td>\n",
       "      <td>S</td>\n",
       "    </tr>\n",
       "    <tr>\n",
       "      <th>889</th>\n",
       "      <td>890</td>\n",
       "      <td>1</td>\n",
       "      <td>1</td>\n",
       "      <td>Behr, Mr. Karl Howell</td>\n",
       "      <td>male</td>\n",
       "      <td>26.0</td>\n",
       "      <td>0</td>\n",
       "      <td>0</td>\n",
       "      <td>111369</td>\n",
       "      <td>30.0000</td>\n",
       "      <td>C148</td>\n",
       "      <td>C</td>\n",
       "    </tr>\n",
       "    <tr>\n",
       "      <th>890</th>\n",
       "      <td>891</td>\n",
       "      <td>0</td>\n",
       "      <td>3</td>\n",
       "      <td>Dooley, Mr. Patrick</td>\n",
       "      <td>male</td>\n",
       "      <td>32.0</td>\n",
       "      <td>0</td>\n",
       "      <td>0</td>\n",
       "      <td>370376</td>\n",
       "      <td>7.7500</td>\n",
       "      <td>NaN</td>\n",
       "      <td>Q</td>\n",
       "    </tr>\n",
       "  </tbody>\n",
       "</table>\n",
       "<p>891 rows × 12 columns</p>\n",
       "</div>"
      ],
      "text/plain": [
       "     PassengerId  Survived  Pclass  \\\n",
       "0              1         0       3   \n",
       "1              2         1       1   \n",
       "2              3         1       3   \n",
       "3              4         1       1   \n",
       "4              5         0       3   \n",
       "..           ...       ...     ...   \n",
       "886          887         0       2   \n",
       "887          888         1       1   \n",
       "888          889         0       3   \n",
       "889          890         1       1   \n",
       "890          891         0       3   \n",
       "\n",
       "                                                  Name     Sex   Age  SibSp  \\\n",
       "0                              Braund, Mr. Owen Harris    male  22.0      1   \n",
       "1    Cumings, Mrs. John Bradley (Florence Briggs Th...  female  38.0      1   \n",
       "2                               Heikkinen, Miss. Laina  female  26.0      0   \n",
       "3         Futrelle, Mrs. Jacques Heath (Lily May Peel)  female  35.0      1   \n",
       "4                             Allen, Mr. William Henry    male  35.0      0   \n",
       "..                                                 ...     ...   ...    ...   \n",
       "886                              Montvila, Rev. Juozas    male  27.0      0   \n",
       "887                       Graham, Miss. Margaret Edith  female  19.0      0   \n",
       "888           Johnston, Miss. Catherine Helen \"Carrie\"  female   NaN      1   \n",
       "889                              Behr, Mr. Karl Howell    male  26.0      0   \n",
       "890                                Dooley, Mr. Patrick    male  32.0      0   \n",
       "\n",
       "     Parch            Ticket     Fare Cabin Embarked  \n",
       "0        0         A/5 21171   7.2500   NaN        S  \n",
       "1        0          PC 17599  71.2833   C85        C  \n",
       "2        0  STON/O2. 3101282   7.9250   NaN        S  \n",
       "3        0            113803  53.1000  C123        S  \n",
       "4        0            373450   8.0500   NaN        S  \n",
       "..     ...               ...      ...   ...      ...  \n",
       "886      0            211536  13.0000   NaN        S  \n",
       "887      0            112053  30.0000   B42        S  \n",
       "888      2        W./C. 6607  23.4500   NaN        S  \n",
       "889      0            111369  30.0000  C148        C  \n",
       "890      0            370376   7.7500   NaN        Q  \n",
       "\n",
       "[891 rows x 12 columns]"
      ]
     },
     "execution_count": 5,
     "metadata": {},
     "output_type": "execute_result"
    }
   ],
   "source": [
    "df"
   ]
  },
  {
   "cell_type": "markdown",
   "id": "ab184859",
   "metadata": {},
   "source": [
    "## DULPICATE VALUES CHECK "
   ]
  },
  {
   "cell_type": "code",
   "execution_count": 6,
   "id": "782e683a",
   "metadata": {},
   "outputs": [],
   "source": [
    "newdf=df.drop_duplicates()"
   ]
  },
  {
   "cell_type": "code",
   "execution_count": 7,
   "id": "4562f8cf",
   "metadata": {},
   "outputs": [
    {
     "data": {
      "text/html": [
       "<div>\n",
       "<style scoped>\n",
       "    .dataframe tbody tr th:only-of-type {\n",
       "        vertical-align: middle;\n",
       "    }\n",
       "\n",
       "    .dataframe tbody tr th {\n",
       "        vertical-align: top;\n",
       "    }\n",
       "\n",
       "    .dataframe thead th {\n",
       "        text-align: right;\n",
       "    }\n",
       "</style>\n",
       "<table border=\"1\" class=\"dataframe\">\n",
       "  <thead>\n",
       "    <tr style=\"text-align: right;\">\n",
       "      <th></th>\n",
       "      <th>PassengerId</th>\n",
       "      <th>Survived</th>\n",
       "      <th>Pclass</th>\n",
       "      <th>Name</th>\n",
       "      <th>Sex</th>\n",
       "      <th>Age</th>\n",
       "      <th>SibSp</th>\n",
       "      <th>Parch</th>\n",
       "      <th>Ticket</th>\n",
       "      <th>Fare</th>\n",
       "      <th>Cabin</th>\n",
       "      <th>Embarked</th>\n",
       "    </tr>\n",
       "  </thead>\n",
       "  <tbody>\n",
       "    <tr>\n",
       "      <th>0</th>\n",
       "      <td>1</td>\n",
       "      <td>0</td>\n",
       "      <td>3</td>\n",
       "      <td>Braund, Mr. Owen Harris</td>\n",
       "      <td>male</td>\n",
       "      <td>22.0</td>\n",
       "      <td>1</td>\n",
       "      <td>0</td>\n",
       "      <td>A/5 21171</td>\n",
       "      <td>7.2500</td>\n",
       "      <td>NaN</td>\n",
       "      <td>S</td>\n",
       "    </tr>\n",
       "    <tr>\n",
       "      <th>1</th>\n",
       "      <td>2</td>\n",
       "      <td>1</td>\n",
       "      <td>1</td>\n",
       "      <td>Cumings, Mrs. John Bradley (Florence Briggs Th...</td>\n",
       "      <td>female</td>\n",
       "      <td>38.0</td>\n",
       "      <td>1</td>\n",
       "      <td>0</td>\n",
       "      <td>PC 17599</td>\n",
       "      <td>71.2833</td>\n",
       "      <td>C85</td>\n",
       "      <td>C</td>\n",
       "    </tr>\n",
       "    <tr>\n",
       "      <th>2</th>\n",
       "      <td>3</td>\n",
       "      <td>1</td>\n",
       "      <td>3</td>\n",
       "      <td>Heikkinen, Miss. Laina</td>\n",
       "      <td>female</td>\n",
       "      <td>26.0</td>\n",
       "      <td>0</td>\n",
       "      <td>0</td>\n",
       "      <td>STON/O2. 3101282</td>\n",
       "      <td>7.9250</td>\n",
       "      <td>NaN</td>\n",
       "      <td>S</td>\n",
       "    </tr>\n",
       "    <tr>\n",
       "      <th>3</th>\n",
       "      <td>4</td>\n",
       "      <td>1</td>\n",
       "      <td>1</td>\n",
       "      <td>Futrelle, Mrs. Jacques Heath (Lily May Peel)</td>\n",
       "      <td>female</td>\n",
       "      <td>35.0</td>\n",
       "      <td>1</td>\n",
       "      <td>0</td>\n",
       "      <td>113803</td>\n",
       "      <td>53.1000</td>\n",
       "      <td>C123</td>\n",
       "      <td>S</td>\n",
       "    </tr>\n",
       "    <tr>\n",
       "      <th>4</th>\n",
       "      <td>5</td>\n",
       "      <td>0</td>\n",
       "      <td>3</td>\n",
       "      <td>Allen, Mr. William Henry</td>\n",
       "      <td>male</td>\n",
       "      <td>35.0</td>\n",
       "      <td>0</td>\n",
       "      <td>0</td>\n",
       "      <td>373450</td>\n",
       "      <td>8.0500</td>\n",
       "      <td>NaN</td>\n",
       "      <td>S</td>\n",
       "    </tr>\n",
       "    <tr>\n",
       "      <th>...</th>\n",
       "      <td>...</td>\n",
       "      <td>...</td>\n",
       "      <td>...</td>\n",
       "      <td>...</td>\n",
       "      <td>...</td>\n",
       "      <td>...</td>\n",
       "      <td>...</td>\n",
       "      <td>...</td>\n",
       "      <td>...</td>\n",
       "      <td>...</td>\n",
       "      <td>...</td>\n",
       "      <td>...</td>\n",
       "    </tr>\n",
       "    <tr>\n",
       "      <th>886</th>\n",
       "      <td>887</td>\n",
       "      <td>0</td>\n",
       "      <td>2</td>\n",
       "      <td>Montvila, Rev. Juozas</td>\n",
       "      <td>male</td>\n",
       "      <td>27.0</td>\n",
       "      <td>0</td>\n",
       "      <td>0</td>\n",
       "      <td>211536</td>\n",
       "      <td>13.0000</td>\n",
       "      <td>NaN</td>\n",
       "      <td>S</td>\n",
       "    </tr>\n",
       "    <tr>\n",
       "      <th>887</th>\n",
       "      <td>888</td>\n",
       "      <td>1</td>\n",
       "      <td>1</td>\n",
       "      <td>Graham, Miss. Margaret Edith</td>\n",
       "      <td>female</td>\n",
       "      <td>19.0</td>\n",
       "      <td>0</td>\n",
       "      <td>0</td>\n",
       "      <td>112053</td>\n",
       "      <td>30.0000</td>\n",
       "      <td>B42</td>\n",
       "      <td>S</td>\n",
       "    </tr>\n",
       "    <tr>\n",
       "      <th>888</th>\n",
       "      <td>889</td>\n",
       "      <td>0</td>\n",
       "      <td>3</td>\n",
       "      <td>Johnston, Miss. Catherine Helen \"Carrie\"</td>\n",
       "      <td>female</td>\n",
       "      <td>NaN</td>\n",
       "      <td>1</td>\n",
       "      <td>2</td>\n",
       "      <td>W./C. 6607</td>\n",
       "      <td>23.4500</td>\n",
       "      <td>NaN</td>\n",
       "      <td>S</td>\n",
       "    </tr>\n",
       "    <tr>\n",
       "      <th>889</th>\n",
       "      <td>890</td>\n",
       "      <td>1</td>\n",
       "      <td>1</td>\n",
       "      <td>Behr, Mr. Karl Howell</td>\n",
       "      <td>male</td>\n",
       "      <td>26.0</td>\n",
       "      <td>0</td>\n",
       "      <td>0</td>\n",
       "      <td>111369</td>\n",
       "      <td>30.0000</td>\n",
       "      <td>C148</td>\n",
       "      <td>C</td>\n",
       "    </tr>\n",
       "    <tr>\n",
       "      <th>890</th>\n",
       "      <td>891</td>\n",
       "      <td>0</td>\n",
       "      <td>3</td>\n",
       "      <td>Dooley, Mr. Patrick</td>\n",
       "      <td>male</td>\n",
       "      <td>32.0</td>\n",
       "      <td>0</td>\n",
       "      <td>0</td>\n",
       "      <td>370376</td>\n",
       "      <td>7.7500</td>\n",
       "      <td>NaN</td>\n",
       "      <td>Q</td>\n",
       "    </tr>\n",
       "  </tbody>\n",
       "</table>\n",
       "<p>891 rows × 12 columns</p>\n",
       "</div>"
      ],
      "text/plain": [
       "     PassengerId  Survived  Pclass  \\\n",
       "0              1         0       3   \n",
       "1              2         1       1   \n",
       "2              3         1       3   \n",
       "3              4         1       1   \n",
       "4              5         0       3   \n",
       "..           ...       ...     ...   \n",
       "886          887         0       2   \n",
       "887          888         1       1   \n",
       "888          889         0       3   \n",
       "889          890         1       1   \n",
       "890          891         0       3   \n",
       "\n",
       "                                                  Name     Sex   Age  SibSp  \\\n",
       "0                              Braund, Mr. Owen Harris    male  22.0      1   \n",
       "1    Cumings, Mrs. John Bradley (Florence Briggs Th...  female  38.0      1   \n",
       "2                               Heikkinen, Miss. Laina  female  26.0      0   \n",
       "3         Futrelle, Mrs. Jacques Heath (Lily May Peel)  female  35.0      1   \n",
       "4                             Allen, Mr. William Henry    male  35.0      0   \n",
       "..                                                 ...     ...   ...    ...   \n",
       "886                              Montvila, Rev. Juozas    male  27.0      0   \n",
       "887                       Graham, Miss. Margaret Edith  female  19.0      0   \n",
       "888           Johnston, Miss. Catherine Helen \"Carrie\"  female   NaN      1   \n",
       "889                              Behr, Mr. Karl Howell    male  26.0      0   \n",
       "890                                Dooley, Mr. Patrick    male  32.0      0   \n",
       "\n",
       "     Parch            Ticket     Fare Cabin Embarked  \n",
       "0        0         A/5 21171   7.2500   NaN        S  \n",
       "1        0          PC 17599  71.2833   C85        C  \n",
       "2        0  STON/O2. 3101282   7.9250   NaN        S  \n",
       "3        0            113803  53.1000  C123        S  \n",
       "4        0            373450   8.0500   NaN        S  \n",
       "..     ...               ...      ...   ...      ...  \n",
       "886      0            211536  13.0000   NaN        S  \n",
       "887      0            112053  30.0000   B42        S  \n",
       "888      2        W./C. 6607  23.4500   NaN        S  \n",
       "889      0            111369  30.0000  C148        C  \n",
       "890      0            370376   7.7500   NaN        Q  \n",
       "\n",
       "[891 rows x 12 columns]"
      ]
     },
     "execution_count": 7,
     "metadata": {},
     "output_type": "execute_result"
    }
   ],
   "source": [
    "newdf"
   ]
  },
  {
   "cell_type": "markdown",
   "id": "7760b056",
   "metadata": {},
   "source": [
    "### NO DUPLICATE VALUES"
   ]
  },
  {
   "cell_type": "markdown",
   "id": "c04a7697",
   "metadata": {},
   "source": [
    "## CHECKING THE COUNT OF VARIOUS COLUMNS\n"
   ]
  },
  {
   "cell_type": "code",
   "execution_count": 8,
   "id": "13a2d002",
   "metadata": {},
   "outputs": [
    {
     "data": {
      "text/plain": [
       "0    549\n",
       "1    342\n",
       "Name: Survived, dtype: int64"
      ]
     },
     "execution_count": 8,
     "metadata": {},
     "output_type": "execute_result"
    }
   ],
   "source": [
    "newdf['Survived'].value_counts()"
   ]
  },
  {
   "cell_type": "code",
   "execution_count": 9,
   "id": "dec70ba7",
   "metadata": {},
   "outputs": [
    {
     "data": {
      "text/plain": [
       "male      577\n",
       "female    314\n",
       "Name: Sex, dtype: int64"
      ]
     },
     "execution_count": 9,
     "metadata": {},
     "output_type": "execute_result"
    }
   ],
   "source": [
    "newdf['Sex'].value_counts()"
   ]
  },
  {
   "cell_type": "code",
   "execution_count": 10,
   "id": "593c0c85",
   "metadata": {},
   "outputs": [
    {
     "data": {
      "text/plain": [
       "S    644\n",
       "C    168\n",
       "Q     77\n",
       "Name: Embarked, dtype: int64"
      ]
     },
     "execution_count": 10,
     "metadata": {},
     "output_type": "execute_result"
    }
   ],
   "source": [
    "newdf['Embarked'].value_counts()"
   ]
  },
  {
   "cell_type": "code",
   "execution_count": 11,
   "id": "faaafa18",
   "metadata": {},
   "outputs": [
    {
     "data": {
      "text/plain": [
       "3    491\n",
       "1    216\n",
       "2    184\n",
       "Name: Pclass, dtype: int64"
      ]
     },
     "execution_count": 11,
     "metadata": {},
     "output_type": "execute_result"
    }
   ],
   "source": [
    "newdf['Pclass'].value_counts()"
   ]
  },
  {
   "cell_type": "code",
   "execution_count": 12,
   "id": "0971bc9e",
   "metadata": {},
   "outputs": [
    {
     "data": {
      "text/plain": [
       "0    608\n",
       "1    209\n",
       "2     28\n",
       "4     18\n",
       "3     16\n",
       "8      7\n",
       "5      5\n",
       "Name: SibSp, dtype: int64"
      ]
     },
     "execution_count": 12,
     "metadata": {},
     "output_type": "execute_result"
    }
   ],
   "source": [
    "newdf['SibSp'].value_counts()"
   ]
  },
  {
   "cell_type": "code",
   "execution_count": 13,
   "id": "817a8bb8",
   "metadata": {},
   "outputs": [
    {
     "data": {
      "text/plain": [
       "0    678\n",
       "1    118\n",
       "2     80\n",
       "5      5\n",
       "3      5\n",
       "4      4\n",
       "6      1\n",
       "Name: Parch, dtype: int64"
      ]
     },
     "execution_count": 13,
     "metadata": {},
     "output_type": "execute_result"
    }
   ],
   "source": [
    "newdf['Parch'].value_counts()"
   ]
  },
  {
   "cell_type": "markdown",
   "id": "ff152114",
   "metadata": {},
   "source": [
    "## CHECKING THE UNIQUE VALUES IN  ALL COLUMNS"
   ]
  },
  {
   "cell_type": "code",
   "execution_count": 14,
   "id": "0e3d40c3",
   "metadata": {},
   "outputs": [
    {
     "data": {
      "text/plain": [
       "array([0, 1], dtype=int64)"
      ]
     },
     "execution_count": 14,
     "metadata": {},
     "output_type": "execute_result"
    }
   ],
   "source": [
    "newdf['Survived'].unique()"
   ]
  },
  {
   "cell_type": "code",
   "execution_count": 15,
   "id": "75a7fb92",
   "metadata": {},
   "outputs": [
    {
     "data": {
      "text/plain": [
       "array(['male', 'female'], dtype=object)"
      ]
     },
     "execution_count": 15,
     "metadata": {},
     "output_type": "execute_result"
    }
   ],
   "source": [
    "newdf['Sex'].unique()"
   ]
  },
  {
   "cell_type": "code",
   "execution_count": 16,
   "id": "1eb5dbff",
   "metadata": {},
   "outputs": [
    {
     "data": {
      "text/plain": [
       "array(['S', 'C', 'Q', nan], dtype=object)"
      ]
     },
     "execution_count": 16,
     "metadata": {},
     "output_type": "execute_result"
    }
   ],
   "source": [
    "newdf['Embarked'].unique()"
   ]
  },
  {
   "cell_type": "code",
   "execution_count": 17,
   "id": "3c4e11bc",
   "metadata": {},
   "outputs": [
    {
     "data": {
      "text/plain": [
       "array([3, 1, 2], dtype=int64)"
      ]
     },
     "execution_count": 17,
     "metadata": {},
     "output_type": "execute_result"
    }
   ],
   "source": [
    "newdf['Pclass'].unique()"
   ]
  },
  {
   "cell_type": "code",
   "execution_count": 18,
   "id": "30d65ce3",
   "metadata": {},
   "outputs": [
    {
     "data": {
      "text/plain": [
       "array([1, 0, 3, 4, 2, 5, 8], dtype=int64)"
      ]
     },
     "execution_count": 18,
     "metadata": {},
     "output_type": "execute_result"
    }
   ],
   "source": [
    "newdf['SibSp'].unique()"
   ]
  },
  {
   "cell_type": "code",
   "execution_count": 19,
   "id": "ad667891",
   "metadata": {},
   "outputs": [
    {
     "data": {
      "text/plain": [
       "array([0, 1, 2, 5, 3, 4, 6], dtype=int64)"
      ]
     },
     "execution_count": 19,
     "metadata": {},
     "output_type": "execute_result"
    }
   ],
   "source": [
    "newdf['Parch'].unique()"
   ]
  },
  {
   "cell_type": "code",
   "execution_count": 20,
   "id": "b8ef363b",
   "metadata": {},
   "outputs": [
    {
     "data": {
      "text/plain": [
       "array([22.  , 38.  , 26.  , 35.  ,   nan, 54.  ,  2.  , 27.  , 14.  ,\n",
       "        4.  , 58.  , 20.  , 39.  , 55.  , 31.  , 34.  , 15.  , 28.  ,\n",
       "        8.  , 19.  , 40.  , 66.  , 42.  , 21.  , 18.  ,  3.  ,  7.  ,\n",
       "       49.  , 29.  , 65.  , 28.5 ,  5.  , 11.  , 45.  , 17.  , 32.  ,\n",
       "       16.  , 25.  ,  0.83, 30.  , 33.  , 23.  , 24.  , 46.  , 59.  ,\n",
       "       71.  , 37.  , 47.  , 14.5 , 70.5 , 32.5 , 12.  ,  9.  , 36.5 ,\n",
       "       51.  , 55.5 , 40.5 , 44.  ,  1.  , 61.  , 56.  , 50.  , 36.  ,\n",
       "       45.5 , 20.5 , 62.  , 41.  , 52.  , 63.  , 23.5 ,  0.92, 43.  ,\n",
       "       60.  , 10.  , 64.  , 13.  , 48.  ,  0.75, 53.  , 57.  , 80.  ,\n",
       "       70.  , 24.5 ,  6.  ,  0.67, 30.5 ,  0.42, 34.5 , 74.  ])"
      ]
     },
     "execution_count": 20,
     "metadata": {},
     "output_type": "execute_result"
    }
   ],
   "source": [
    "newdf['Age'].unique()"
   ]
  },
  {
   "cell_type": "code",
   "execution_count": 21,
   "id": "336d3dc5",
   "metadata": {},
   "outputs": [
    {
     "data": {
      "text/plain": [
       "array([  7.25  ,  71.2833,   7.925 ,  53.1   ,   8.05  ,   8.4583,\n",
       "        51.8625,  21.075 ,  11.1333,  30.0708,  16.7   ,  26.55  ,\n",
       "        31.275 ,   7.8542,  16.    ,  29.125 ,  13.    ,  18.    ,\n",
       "         7.225 ,  26.    ,   8.0292,  35.5   ,  31.3875, 263.    ,\n",
       "         7.8792,   7.8958,  27.7208, 146.5208,   7.75  ,  10.5   ,\n",
       "        82.1708,  52.    ,   7.2292,  11.2417,   9.475 ,  21.    ,\n",
       "        41.5792,  15.5   ,  21.6792,  17.8   ,  39.6875,   7.8   ,\n",
       "        76.7292,  61.9792,  27.75  ,  46.9   ,  80.    ,  83.475 ,\n",
       "        27.9   ,  15.2458,   8.1583,   8.6625,  73.5   ,  14.4542,\n",
       "        56.4958,   7.65  ,  29.    ,  12.475 ,   9.    ,   9.5   ,\n",
       "         7.7875,  47.1   ,  15.85  ,  34.375 ,  61.175 ,  20.575 ,\n",
       "        34.6542,  63.3583,  23.    ,  77.2875,   8.6542,   7.775 ,\n",
       "        24.15  ,   9.825 ,  14.4583, 247.5208,   7.1417,  22.3583,\n",
       "         6.975 ,   7.05  ,  14.5   ,  15.0458,  26.2833,   9.2167,\n",
       "        79.2   ,   6.75  ,  11.5   ,  36.75  ,   7.7958,  12.525 ,\n",
       "        66.6   ,   7.3125,  61.3792,   7.7333,  69.55  ,  16.1   ,\n",
       "        15.75  ,  20.525 ,  55.    ,  25.925 ,  33.5   ,  30.6958,\n",
       "        25.4667,  28.7125,   0.    ,  15.05  ,  39.    ,  22.025 ,\n",
       "        50.    ,   8.4042,   6.4958,  10.4625,  18.7875,  31.    ,\n",
       "       113.275 ,  27.    ,  76.2917,  90.    ,   9.35  ,  13.5   ,\n",
       "         7.55  ,  26.25  ,  12.275 ,   7.125 ,  52.5542,  20.2125,\n",
       "        86.5   , 512.3292,  79.65  , 153.4625, 135.6333,  19.5   ,\n",
       "        29.7   ,  77.9583,  20.25  ,  78.85  ,  91.0792,  12.875 ,\n",
       "         8.85  , 151.55  ,  30.5   ,  23.25  ,  12.35  , 110.8833,\n",
       "       108.9   ,  24.    ,  56.9292,  83.1583, 262.375 ,  14.    ,\n",
       "       164.8667, 134.5   ,   6.2375,  57.9792,  28.5   , 133.65  ,\n",
       "        15.9   ,   9.225 ,  35.    ,  75.25  ,  69.3   ,  55.4417,\n",
       "       211.5   ,   4.0125, 227.525 ,  15.7417,   7.7292,  12.    ,\n",
       "       120.    ,  12.65  ,  18.75  ,   6.8583,  32.5   ,   7.875 ,\n",
       "        14.4   ,  55.9   ,   8.1125,  81.8583,  19.2583,  19.9667,\n",
       "        89.1042,  38.5   ,   7.725 ,  13.7917,   9.8375,   7.0458,\n",
       "         7.5208,  12.2875,   9.5875,  49.5042,  78.2667,  15.1   ,\n",
       "         7.6292,  22.525 ,  26.2875,  59.4   ,   7.4958,  34.0208,\n",
       "        93.5   , 221.7792, 106.425 ,  49.5   ,  71.    ,  13.8625,\n",
       "         7.8292,  39.6   ,  17.4   ,  51.4792,  26.3875,  30.    ,\n",
       "        40.125 ,   8.7125,  15.    ,  33.    ,  42.4   ,  15.55  ,\n",
       "        65.    ,  32.3208,   7.0542,   8.4333,  25.5875,   9.8417,\n",
       "         8.1375,  10.1708, 211.3375,  57.    ,  13.4167,   7.7417,\n",
       "         9.4833,   7.7375,   8.3625,  23.45  ,  25.9292,   8.6833,\n",
       "         8.5167,   7.8875,  37.0042,   6.45  ,   6.95  ,   8.3   ,\n",
       "         6.4375,  39.4   ,  14.1083,  13.8583,  50.4958,   5.    ,\n",
       "         9.8458,  10.5167])"
      ]
     },
     "execution_count": 21,
     "metadata": {},
     "output_type": "execute_result"
    }
   ],
   "source": [
    "newdf['Fare'].unique()"
   ]
  },
  {
   "cell_type": "markdown",
   "id": "9a076b53",
   "metadata": {},
   "source": [
    "## IDENTIFICATION OF VARIABLES & DATA TYPES"
   ]
  },
  {
   "cell_type": "code",
   "execution_count": 22,
   "id": "fcad95a5",
   "metadata": {},
   "outputs": [
    {
     "name": "stdout",
     "output_type": "stream",
     "text": [
      "<class 'pandas.core.frame.DataFrame'>\n",
      "Int64Index: 891 entries, 0 to 890\n",
      "Data columns (total 12 columns):\n",
      " #   Column       Non-Null Count  Dtype  \n",
      "---  ------       --------------  -----  \n",
      " 0   PassengerId  891 non-null    int64  \n",
      " 1   Survived     891 non-null    int64  \n",
      " 2   Pclass       891 non-null    int64  \n",
      " 3   Name         891 non-null    object \n",
      " 4   Sex          891 non-null    object \n",
      " 5   Age          714 non-null    float64\n",
      " 6   SibSp        891 non-null    int64  \n",
      " 7   Parch        891 non-null    int64  \n",
      " 8   Ticket       891 non-null    object \n",
      " 9   Fare         891 non-null    float64\n",
      " 10  Cabin        204 non-null    object \n",
      " 11  Embarked     889 non-null    object \n",
      "dtypes: float64(2), int64(5), object(5)\n",
      "memory usage: 90.5+ KB\n"
     ]
    }
   ],
   "source": [
    "newdf.info()"
   ]
  },
  {
   "cell_type": "markdown",
   "id": "a94da38a",
   "metadata": {},
   "source": [
    "## WE HAVE INTEGARS, FLOAT AND CATAGORICAL DATA PRESENT, WE WILL CONVERT THE CATAGORICAL COLUMNS TO NUMERICAL ONES BY USING LABEL ENCODER"
   ]
  },
  {
   "cell_type": "code",
   "execution_count": 23,
   "id": "d06c596c",
   "metadata": {},
   "outputs": [
    {
     "data": {
      "text/plain": [
       "PassengerId      0\n",
       "Survived         0\n",
       "Pclass           0\n",
       "Name             0\n",
       "Sex              0\n",
       "Age            177\n",
       "SibSp            0\n",
       "Parch            0\n",
       "Ticket           0\n",
       "Fare             0\n",
       "Cabin          687\n",
       "Embarked         2\n",
       "dtype: int64"
      ]
     },
     "execution_count": 23,
     "metadata": {},
     "output_type": "execute_result"
    }
   ],
   "source": [
    "newdf.isnull().sum()"
   ]
  },
  {
   "cell_type": "markdown",
   "id": "6f0f7e51",
   "metadata": {},
   "source": [
    "## OUT OF 891 ROWS, 687 ARE BLANK IN CASE OF CABIN, SINCE THE NUMBER OF MISSING DATA IS EXTREMELY HIGH, WE ARE DROPPING THE CABIN COLUMN"
   ]
  },
  {
   "cell_type": "code",
   "execution_count": 24,
   "id": "aad68c00",
   "metadata": {},
   "outputs": [],
   "source": [
    "newdf1=newdf.drop(['Cabin'],axis=1)"
   ]
  },
  {
   "cell_type": "code",
   "execution_count": 25,
   "id": "263a1eb5",
   "metadata": {},
   "outputs": [
    {
     "data": {
      "text/html": [
       "<div>\n",
       "<style scoped>\n",
       "    .dataframe tbody tr th:only-of-type {\n",
       "        vertical-align: middle;\n",
       "    }\n",
       "\n",
       "    .dataframe tbody tr th {\n",
       "        vertical-align: top;\n",
       "    }\n",
       "\n",
       "    .dataframe thead th {\n",
       "        text-align: right;\n",
       "    }\n",
       "</style>\n",
       "<table border=\"1\" class=\"dataframe\">\n",
       "  <thead>\n",
       "    <tr style=\"text-align: right;\">\n",
       "      <th></th>\n",
       "      <th>PassengerId</th>\n",
       "      <th>Survived</th>\n",
       "      <th>Pclass</th>\n",
       "      <th>Name</th>\n",
       "      <th>Sex</th>\n",
       "      <th>Age</th>\n",
       "      <th>SibSp</th>\n",
       "      <th>Parch</th>\n",
       "      <th>Ticket</th>\n",
       "      <th>Fare</th>\n",
       "      <th>Embarked</th>\n",
       "    </tr>\n",
       "  </thead>\n",
       "  <tbody>\n",
       "    <tr>\n",
       "      <th>0</th>\n",
       "      <td>1</td>\n",
       "      <td>0</td>\n",
       "      <td>3</td>\n",
       "      <td>Braund, Mr. Owen Harris</td>\n",
       "      <td>male</td>\n",
       "      <td>22.0</td>\n",
       "      <td>1</td>\n",
       "      <td>0</td>\n",
       "      <td>A/5 21171</td>\n",
       "      <td>7.2500</td>\n",
       "      <td>S</td>\n",
       "    </tr>\n",
       "    <tr>\n",
       "      <th>1</th>\n",
       "      <td>2</td>\n",
       "      <td>1</td>\n",
       "      <td>1</td>\n",
       "      <td>Cumings, Mrs. John Bradley (Florence Briggs Th...</td>\n",
       "      <td>female</td>\n",
       "      <td>38.0</td>\n",
       "      <td>1</td>\n",
       "      <td>0</td>\n",
       "      <td>PC 17599</td>\n",
       "      <td>71.2833</td>\n",
       "      <td>C</td>\n",
       "    </tr>\n",
       "    <tr>\n",
       "      <th>2</th>\n",
       "      <td>3</td>\n",
       "      <td>1</td>\n",
       "      <td>3</td>\n",
       "      <td>Heikkinen, Miss. Laina</td>\n",
       "      <td>female</td>\n",
       "      <td>26.0</td>\n",
       "      <td>0</td>\n",
       "      <td>0</td>\n",
       "      <td>STON/O2. 3101282</td>\n",
       "      <td>7.9250</td>\n",
       "      <td>S</td>\n",
       "    </tr>\n",
       "    <tr>\n",
       "      <th>3</th>\n",
       "      <td>4</td>\n",
       "      <td>1</td>\n",
       "      <td>1</td>\n",
       "      <td>Futrelle, Mrs. Jacques Heath (Lily May Peel)</td>\n",
       "      <td>female</td>\n",
       "      <td>35.0</td>\n",
       "      <td>1</td>\n",
       "      <td>0</td>\n",
       "      <td>113803</td>\n",
       "      <td>53.1000</td>\n",
       "      <td>S</td>\n",
       "    </tr>\n",
       "    <tr>\n",
       "      <th>4</th>\n",
       "      <td>5</td>\n",
       "      <td>0</td>\n",
       "      <td>3</td>\n",
       "      <td>Allen, Mr. William Henry</td>\n",
       "      <td>male</td>\n",
       "      <td>35.0</td>\n",
       "      <td>0</td>\n",
       "      <td>0</td>\n",
       "      <td>373450</td>\n",
       "      <td>8.0500</td>\n",
       "      <td>S</td>\n",
       "    </tr>\n",
       "    <tr>\n",
       "      <th>...</th>\n",
       "      <td>...</td>\n",
       "      <td>...</td>\n",
       "      <td>...</td>\n",
       "      <td>...</td>\n",
       "      <td>...</td>\n",
       "      <td>...</td>\n",
       "      <td>...</td>\n",
       "      <td>...</td>\n",
       "      <td>...</td>\n",
       "      <td>...</td>\n",
       "      <td>...</td>\n",
       "    </tr>\n",
       "    <tr>\n",
       "      <th>886</th>\n",
       "      <td>887</td>\n",
       "      <td>0</td>\n",
       "      <td>2</td>\n",
       "      <td>Montvila, Rev. Juozas</td>\n",
       "      <td>male</td>\n",
       "      <td>27.0</td>\n",
       "      <td>0</td>\n",
       "      <td>0</td>\n",
       "      <td>211536</td>\n",
       "      <td>13.0000</td>\n",
       "      <td>S</td>\n",
       "    </tr>\n",
       "    <tr>\n",
       "      <th>887</th>\n",
       "      <td>888</td>\n",
       "      <td>1</td>\n",
       "      <td>1</td>\n",
       "      <td>Graham, Miss. Margaret Edith</td>\n",
       "      <td>female</td>\n",
       "      <td>19.0</td>\n",
       "      <td>0</td>\n",
       "      <td>0</td>\n",
       "      <td>112053</td>\n",
       "      <td>30.0000</td>\n",
       "      <td>S</td>\n",
       "    </tr>\n",
       "    <tr>\n",
       "      <th>888</th>\n",
       "      <td>889</td>\n",
       "      <td>0</td>\n",
       "      <td>3</td>\n",
       "      <td>Johnston, Miss. Catherine Helen \"Carrie\"</td>\n",
       "      <td>female</td>\n",
       "      <td>NaN</td>\n",
       "      <td>1</td>\n",
       "      <td>2</td>\n",
       "      <td>W./C. 6607</td>\n",
       "      <td>23.4500</td>\n",
       "      <td>S</td>\n",
       "    </tr>\n",
       "    <tr>\n",
       "      <th>889</th>\n",
       "      <td>890</td>\n",
       "      <td>1</td>\n",
       "      <td>1</td>\n",
       "      <td>Behr, Mr. Karl Howell</td>\n",
       "      <td>male</td>\n",
       "      <td>26.0</td>\n",
       "      <td>0</td>\n",
       "      <td>0</td>\n",
       "      <td>111369</td>\n",
       "      <td>30.0000</td>\n",
       "      <td>C</td>\n",
       "    </tr>\n",
       "    <tr>\n",
       "      <th>890</th>\n",
       "      <td>891</td>\n",
       "      <td>0</td>\n",
       "      <td>3</td>\n",
       "      <td>Dooley, Mr. Patrick</td>\n",
       "      <td>male</td>\n",
       "      <td>32.0</td>\n",
       "      <td>0</td>\n",
       "      <td>0</td>\n",
       "      <td>370376</td>\n",
       "      <td>7.7500</td>\n",
       "      <td>Q</td>\n",
       "    </tr>\n",
       "  </tbody>\n",
       "</table>\n",
       "<p>891 rows × 11 columns</p>\n",
       "</div>"
      ],
      "text/plain": [
       "     PassengerId  Survived  Pclass  \\\n",
       "0              1         0       3   \n",
       "1              2         1       1   \n",
       "2              3         1       3   \n",
       "3              4         1       1   \n",
       "4              5         0       3   \n",
       "..           ...       ...     ...   \n",
       "886          887         0       2   \n",
       "887          888         1       1   \n",
       "888          889         0       3   \n",
       "889          890         1       1   \n",
       "890          891         0       3   \n",
       "\n",
       "                                                  Name     Sex   Age  SibSp  \\\n",
       "0                              Braund, Mr. Owen Harris    male  22.0      1   \n",
       "1    Cumings, Mrs. John Bradley (Florence Briggs Th...  female  38.0      1   \n",
       "2                               Heikkinen, Miss. Laina  female  26.0      0   \n",
       "3         Futrelle, Mrs. Jacques Heath (Lily May Peel)  female  35.0      1   \n",
       "4                             Allen, Mr. William Henry    male  35.0      0   \n",
       "..                                                 ...     ...   ...    ...   \n",
       "886                              Montvila, Rev. Juozas    male  27.0      0   \n",
       "887                       Graham, Miss. Margaret Edith  female  19.0      0   \n",
       "888           Johnston, Miss. Catherine Helen \"Carrie\"  female   NaN      1   \n",
       "889                              Behr, Mr. Karl Howell    male  26.0      0   \n",
       "890                                Dooley, Mr. Patrick    male  32.0      0   \n",
       "\n",
       "     Parch            Ticket     Fare Embarked  \n",
       "0        0         A/5 21171   7.2500        S  \n",
       "1        0          PC 17599  71.2833        C  \n",
       "2        0  STON/O2. 3101282   7.9250        S  \n",
       "3        0            113803  53.1000        S  \n",
       "4        0            373450   8.0500        S  \n",
       "..     ...               ...      ...      ...  \n",
       "886      0            211536  13.0000        S  \n",
       "887      0            112053  30.0000        S  \n",
       "888      2        W./C. 6607  23.4500        S  \n",
       "889      0            111369  30.0000        C  \n",
       "890      0            370376   7.7500        Q  \n",
       "\n",
       "[891 rows x 11 columns]"
      ]
     },
     "execution_count": 25,
     "metadata": {},
     "output_type": "execute_result"
    }
   ],
   "source": [
    "newdf1"
   ]
  },
  {
   "cell_type": "markdown",
   "id": "0e4f9ffa",
   "metadata": {},
   "source": [
    "## SIMPLE IMPUTER- AGE & EMBARKED COLUMN TO FILL IN MISSING VALUES"
   ]
  },
  {
   "cell_type": "code",
   "execution_count": 26,
   "id": "dd6c966f",
   "metadata": {},
   "outputs": [],
   "source": [
    "from sklearn.impute import SimpleImputer"
   ]
  },
  {
   "cell_type": "code",
   "execution_count": 27,
   "id": "65085132",
   "metadata": {},
   "outputs": [],
   "source": [
    "imp=SimpleImputer(missing_values=np.NaN,strategy='mean')"
   ]
  },
  {
   "cell_type": "code",
   "execution_count": 28,
   "id": "a9edfe19",
   "metadata": {},
   "outputs": [],
   "source": [
    "newdf1['Age']=imp.fit_transform(newdf['Age'].values.reshape(-1,1))"
   ]
  },
  {
   "cell_type": "code",
   "execution_count": 29,
   "id": "d0c00421",
   "metadata": {},
   "outputs": [
    {
     "data": {
      "text/html": [
       "<div>\n",
       "<style scoped>\n",
       "    .dataframe tbody tr th:only-of-type {\n",
       "        vertical-align: middle;\n",
       "    }\n",
       "\n",
       "    .dataframe tbody tr th {\n",
       "        vertical-align: top;\n",
       "    }\n",
       "\n",
       "    .dataframe thead th {\n",
       "        text-align: right;\n",
       "    }\n",
       "</style>\n",
       "<table border=\"1\" class=\"dataframe\">\n",
       "  <thead>\n",
       "    <tr style=\"text-align: right;\">\n",
       "      <th></th>\n",
       "      <th>PassengerId</th>\n",
       "      <th>Survived</th>\n",
       "      <th>Pclass</th>\n",
       "      <th>Name</th>\n",
       "      <th>Sex</th>\n",
       "      <th>Age</th>\n",
       "      <th>SibSp</th>\n",
       "      <th>Parch</th>\n",
       "      <th>Ticket</th>\n",
       "      <th>Fare</th>\n",
       "      <th>Embarked</th>\n",
       "    </tr>\n",
       "  </thead>\n",
       "  <tbody>\n",
       "    <tr>\n",
       "      <th>0</th>\n",
       "      <td>1</td>\n",
       "      <td>0</td>\n",
       "      <td>3</td>\n",
       "      <td>Braund, Mr. Owen Harris</td>\n",
       "      <td>male</td>\n",
       "      <td>22.000000</td>\n",
       "      <td>1</td>\n",
       "      <td>0</td>\n",
       "      <td>A/5 21171</td>\n",
       "      <td>7.2500</td>\n",
       "      <td>S</td>\n",
       "    </tr>\n",
       "    <tr>\n",
       "      <th>1</th>\n",
       "      <td>2</td>\n",
       "      <td>1</td>\n",
       "      <td>1</td>\n",
       "      <td>Cumings, Mrs. John Bradley (Florence Briggs Th...</td>\n",
       "      <td>female</td>\n",
       "      <td>38.000000</td>\n",
       "      <td>1</td>\n",
       "      <td>0</td>\n",
       "      <td>PC 17599</td>\n",
       "      <td>71.2833</td>\n",
       "      <td>C</td>\n",
       "    </tr>\n",
       "    <tr>\n",
       "      <th>2</th>\n",
       "      <td>3</td>\n",
       "      <td>1</td>\n",
       "      <td>3</td>\n",
       "      <td>Heikkinen, Miss. Laina</td>\n",
       "      <td>female</td>\n",
       "      <td>26.000000</td>\n",
       "      <td>0</td>\n",
       "      <td>0</td>\n",
       "      <td>STON/O2. 3101282</td>\n",
       "      <td>7.9250</td>\n",
       "      <td>S</td>\n",
       "    </tr>\n",
       "    <tr>\n",
       "      <th>3</th>\n",
       "      <td>4</td>\n",
       "      <td>1</td>\n",
       "      <td>1</td>\n",
       "      <td>Futrelle, Mrs. Jacques Heath (Lily May Peel)</td>\n",
       "      <td>female</td>\n",
       "      <td>35.000000</td>\n",
       "      <td>1</td>\n",
       "      <td>0</td>\n",
       "      <td>113803</td>\n",
       "      <td>53.1000</td>\n",
       "      <td>S</td>\n",
       "    </tr>\n",
       "    <tr>\n",
       "      <th>4</th>\n",
       "      <td>5</td>\n",
       "      <td>0</td>\n",
       "      <td>3</td>\n",
       "      <td>Allen, Mr. William Henry</td>\n",
       "      <td>male</td>\n",
       "      <td>35.000000</td>\n",
       "      <td>0</td>\n",
       "      <td>0</td>\n",
       "      <td>373450</td>\n",
       "      <td>8.0500</td>\n",
       "      <td>S</td>\n",
       "    </tr>\n",
       "    <tr>\n",
       "      <th>...</th>\n",
       "      <td>...</td>\n",
       "      <td>...</td>\n",
       "      <td>...</td>\n",
       "      <td>...</td>\n",
       "      <td>...</td>\n",
       "      <td>...</td>\n",
       "      <td>...</td>\n",
       "      <td>...</td>\n",
       "      <td>...</td>\n",
       "      <td>...</td>\n",
       "      <td>...</td>\n",
       "    </tr>\n",
       "    <tr>\n",
       "      <th>886</th>\n",
       "      <td>887</td>\n",
       "      <td>0</td>\n",
       "      <td>2</td>\n",
       "      <td>Montvila, Rev. Juozas</td>\n",
       "      <td>male</td>\n",
       "      <td>27.000000</td>\n",
       "      <td>0</td>\n",
       "      <td>0</td>\n",
       "      <td>211536</td>\n",
       "      <td>13.0000</td>\n",
       "      <td>S</td>\n",
       "    </tr>\n",
       "    <tr>\n",
       "      <th>887</th>\n",
       "      <td>888</td>\n",
       "      <td>1</td>\n",
       "      <td>1</td>\n",
       "      <td>Graham, Miss. Margaret Edith</td>\n",
       "      <td>female</td>\n",
       "      <td>19.000000</td>\n",
       "      <td>0</td>\n",
       "      <td>0</td>\n",
       "      <td>112053</td>\n",
       "      <td>30.0000</td>\n",
       "      <td>S</td>\n",
       "    </tr>\n",
       "    <tr>\n",
       "      <th>888</th>\n",
       "      <td>889</td>\n",
       "      <td>0</td>\n",
       "      <td>3</td>\n",
       "      <td>Johnston, Miss. Catherine Helen \"Carrie\"</td>\n",
       "      <td>female</td>\n",
       "      <td>29.699118</td>\n",
       "      <td>1</td>\n",
       "      <td>2</td>\n",
       "      <td>W./C. 6607</td>\n",
       "      <td>23.4500</td>\n",
       "      <td>S</td>\n",
       "    </tr>\n",
       "    <tr>\n",
       "      <th>889</th>\n",
       "      <td>890</td>\n",
       "      <td>1</td>\n",
       "      <td>1</td>\n",
       "      <td>Behr, Mr. Karl Howell</td>\n",
       "      <td>male</td>\n",
       "      <td>26.000000</td>\n",
       "      <td>0</td>\n",
       "      <td>0</td>\n",
       "      <td>111369</td>\n",
       "      <td>30.0000</td>\n",
       "      <td>C</td>\n",
       "    </tr>\n",
       "    <tr>\n",
       "      <th>890</th>\n",
       "      <td>891</td>\n",
       "      <td>0</td>\n",
       "      <td>3</td>\n",
       "      <td>Dooley, Mr. Patrick</td>\n",
       "      <td>male</td>\n",
       "      <td>32.000000</td>\n",
       "      <td>0</td>\n",
       "      <td>0</td>\n",
       "      <td>370376</td>\n",
       "      <td>7.7500</td>\n",
       "      <td>Q</td>\n",
       "    </tr>\n",
       "  </tbody>\n",
       "</table>\n",
       "<p>891 rows × 11 columns</p>\n",
       "</div>"
      ],
      "text/plain": [
       "     PassengerId  Survived  Pclass  \\\n",
       "0              1         0       3   \n",
       "1              2         1       1   \n",
       "2              3         1       3   \n",
       "3              4         1       1   \n",
       "4              5         0       3   \n",
       "..           ...       ...     ...   \n",
       "886          887         0       2   \n",
       "887          888         1       1   \n",
       "888          889         0       3   \n",
       "889          890         1       1   \n",
       "890          891         0       3   \n",
       "\n",
       "                                                  Name     Sex        Age  \\\n",
       "0                              Braund, Mr. Owen Harris    male  22.000000   \n",
       "1    Cumings, Mrs. John Bradley (Florence Briggs Th...  female  38.000000   \n",
       "2                               Heikkinen, Miss. Laina  female  26.000000   \n",
       "3         Futrelle, Mrs. Jacques Heath (Lily May Peel)  female  35.000000   \n",
       "4                             Allen, Mr. William Henry    male  35.000000   \n",
       "..                                                 ...     ...        ...   \n",
       "886                              Montvila, Rev. Juozas    male  27.000000   \n",
       "887                       Graham, Miss. Margaret Edith  female  19.000000   \n",
       "888           Johnston, Miss. Catherine Helen \"Carrie\"  female  29.699118   \n",
       "889                              Behr, Mr. Karl Howell    male  26.000000   \n",
       "890                                Dooley, Mr. Patrick    male  32.000000   \n",
       "\n",
       "     SibSp  Parch            Ticket     Fare Embarked  \n",
       "0        1      0         A/5 21171   7.2500        S  \n",
       "1        1      0          PC 17599  71.2833        C  \n",
       "2        0      0  STON/O2. 3101282   7.9250        S  \n",
       "3        1      0            113803  53.1000        S  \n",
       "4        0      0            373450   8.0500        S  \n",
       "..     ...    ...               ...      ...      ...  \n",
       "886      0      0            211536  13.0000        S  \n",
       "887      0      0            112053  30.0000        S  \n",
       "888      1      2        W./C. 6607  23.4500        S  \n",
       "889      0      0            111369  30.0000        C  \n",
       "890      0      0            370376   7.7500        Q  \n",
       "\n",
       "[891 rows x 11 columns]"
      ]
     },
     "execution_count": 29,
     "metadata": {},
     "output_type": "execute_result"
    }
   ],
   "source": [
    "newdf1"
   ]
  },
  {
   "cell_type": "code",
   "execution_count": 30,
   "id": "7ad4c11a",
   "metadata": {},
   "outputs": [
    {
     "data": {
      "text/plain": [
       "PassengerId    0\n",
       "Survived       0\n",
       "Pclass         0\n",
       "Name           0\n",
       "Sex            0\n",
       "Age            0\n",
       "SibSp          0\n",
       "Parch          0\n",
       "Ticket         0\n",
       "Fare           0\n",
       "Embarked       2\n",
       "dtype: int64"
      ]
     },
     "execution_count": 30,
     "metadata": {},
     "output_type": "execute_result"
    }
   ],
   "source": [
    "newdf1.isnull().sum()"
   ]
  },
  {
   "cell_type": "code",
   "execution_count": 31,
   "id": "6bf938f7",
   "metadata": {},
   "outputs": [],
   "source": [
    "imp1=SimpleImputer(missing_values=np.NaN,strategy='most_frequent')"
   ]
  },
  {
   "cell_type": "code",
   "execution_count": 32,
   "id": "9c4d5de9",
   "metadata": {},
   "outputs": [],
   "source": [
    "newdf1['Embarked']=imp1.fit_transform(newdf1['Embarked'].values.reshape(-1,1))"
   ]
  },
  {
   "cell_type": "code",
   "execution_count": 33,
   "id": "2261d158",
   "metadata": {},
   "outputs": [
    {
     "data": {
      "text/plain": [
       "PassengerId    0\n",
       "Survived       0\n",
       "Pclass         0\n",
       "Name           0\n",
       "Sex            0\n",
       "Age            0\n",
       "SibSp          0\n",
       "Parch          0\n",
       "Ticket         0\n",
       "Fare           0\n",
       "Embarked       0\n",
       "dtype: int64"
      ]
     },
     "execution_count": 33,
     "metadata": {},
     "output_type": "execute_result"
    }
   ],
   "source": [
    "newdf1.isnull().sum()"
   ]
  },
  {
   "cell_type": "markdown",
   "id": "1b8686c7",
   "metadata": {},
   "source": [
    "## NO NULL VALUES ARE PRESENT ANYMORE"
   ]
  },
  {
   "cell_type": "markdown",
   "id": "c0a17330",
   "metadata": {},
   "source": [
    "## FIRST 5 COLUMN CHECK"
   ]
  },
  {
   "cell_type": "code",
   "execution_count": 34,
   "id": "0635f51e",
   "metadata": {},
   "outputs": [
    {
     "data": {
      "text/html": [
       "<div>\n",
       "<style scoped>\n",
       "    .dataframe tbody tr th:only-of-type {\n",
       "        vertical-align: middle;\n",
       "    }\n",
       "\n",
       "    .dataframe tbody tr th {\n",
       "        vertical-align: top;\n",
       "    }\n",
       "\n",
       "    .dataframe thead th {\n",
       "        text-align: right;\n",
       "    }\n",
       "</style>\n",
       "<table border=\"1\" class=\"dataframe\">\n",
       "  <thead>\n",
       "    <tr style=\"text-align: right;\">\n",
       "      <th></th>\n",
       "      <th>PassengerId</th>\n",
       "      <th>Survived</th>\n",
       "      <th>Pclass</th>\n",
       "      <th>Name</th>\n",
       "      <th>Sex</th>\n",
       "      <th>Age</th>\n",
       "      <th>SibSp</th>\n",
       "      <th>Parch</th>\n",
       "      <th>Ticket</th>\n",
       "      <th>Fare</th>\n",
       "      <th>Embarked</th>\n",
       "    </tr>\n",
       "  </thead>\n",
       "  <tbody>\n",
       "    <tr>\n",
       "      <th>0</th>\n",
       "      <td>1</td>\n",
       "      <td>0</td>\n",
       "      <td>3</td>\n",
       "      <td>Braund, Mr. Owen Harris</td>\n",
       "      <td>male</td>\n",
       "      <td>22.0</td>\n",
       "      <td>1</td>\n",
       "      <td>0</td>\n",
       "      <td>A/5 21171</td>\n",
       "      <td>7.2500</td>\n",
       "      <td>S</td>\n",
       "    </tr>\n",
       "    <tr>\n",
       "      <th>1</th>\n",
       "      <td>2</td>\n",
       "      <td>1</td>\n",
       "      <td>1</td>\n",
       "      <td>Cumings, Mrs. John Bradley (Florence Briggs Th...</td>\n",
       "      <td>female</td>\n",
       "      <td>38.0</td>\n",
       "      <td>1</td>\n",
       "      <td>0</td>\n",
       "      <td>PC 17599</td>\n",
       "      <td>71.2833</td>\n",
       "      <td>C</td>\n",
       "    </tr>\n",
       "    <tr>\n",
       "      <th>2</th>\n",
       "      <td>3</td>\n",
       "      <td>1</td>\n",
       "      <td>3</td>\n",
       "      <td>Heikkinen, Miss. Laina</td>\n",
       "      <td>female</td>\n",
       "      <td>26.0</td>\n",
       "      <td>0</td>\n",
       "      <td>0</td>\n",
       "      <td>STON/O2. 3101282</td>\n",
       "      <td>7.9250</td>\n",
       "      <td>S</td>\n",
       "    </tr>\n",
       "    <tr>\n",
       "      <th>3</th>\n",
       "      <td>4</td>\n",
       "      <td>1</td>\n",
       "      <td>1</td>\n",
       "      <td>Futrelle, Mrs. Jacques Heath (Lily May Peel)</td>\n",
       "      <td>female</td>\n",
       "      <td>35.0</td>\n",
       "      <td>1</td>\n",
       "      <td>0</td>\n",
       "      <td>113803</td>\n",
       "      <td>53.1000</td>\n",
       "      <td>S</td>\n",
       "    </tr>\n",
       "    <tr>\n",
       "      <th>4</th>\n",
       "      <td>5</td>\n",
       "      <td>0</td>\n",
       "      <td>3</td>\n",
       "      <td>Allen, Mr. William Henry</td>\n",
       "      <td>male</td>\n",
       "      <td>35.0</td>\n",
       "      <td>0</td>\n",
       "      <td>0</td>\n",
       "      <td>373450</td>\n",
       "      <td>8.0500</td>\n",
       "      <td>S</td>\n",
       "    </tr>\n",
       "  </tbody>\n",
       "</table>\n",
       "</div>"
      ],
      "text/plain": [
       "   PassengerId  Survived  Pclass  \\\n",
       "0            1         0       3   \n",
       "1            2         1       1   \n",
       "2            3         1       3   \n",
       "3            4         1       1   \n",
       "4            5         0       3   \n",
       "\n",
       "                                                Name     Sex   Age  SibSp  \\\n",
       "0                            Braund, Mr. Owen Harris    male  22.0      1   \n",
       "1  Cumings, Mrs. John Bradley (Florence Briggs Th...  female  38.0      1   \n",
       "2                             Heikkinen, Miss. Laina  female  26.0      0   \n",
       "3       Futrelle, Mrs. Jacques Heath (Lily May Peel)  female  35.0      1   \n",
       "4                           Allen, Mr. William Henry    male  35.0      0   \n",
       "\n",
       "   Parch            Ticket     Fare Embarked  \n",
       "0      0         A/5 21171   7.2500        S  \n",
       "1      0          PC 17599  71.2833        C  \n",
       "2      0  STON/O2. 3101282   7.9250        S  \n",
       "3      0            113803  53.1000        S  \n",
       "4      0            373450   8.0500        S  "
      ]
     },
     "execution_count": 34,
     "metadata": {},
     "output_type": "execute_result"
    }
   ],
   "source": [
    "newdf1.head()"
   ]
  },
  {
   "cell_type": "markdown",
   "id": "b96b10aa",
   "metadata": {},
   "source": [
    "## LAST 5 COLUMN CHECK"
   ]
  },
  {
   "cell_type": "code",
   "execution_count": 35,
   "id": "dcaccf8e",
   "metadata": {},
   "outputs": [
    {
     "data": {
      "text/html": [
       "<div>\n",
       "<style scoped>\n",
       "    .dataframe tbody tr th:only-of-type {\n",
       "        vertical-align: middle;\n",
       "    }\n",
       "\n",
       "    .dataframe tbody tr th {\n",
       "        vertical-align: top;\n",
       "    }\n",
       "\n",
       "    .dataframe thead th {\n",
       "        text-align: right;\n",
       "    }\n",
       "</style>\n",
       "<table border=\"1\" class=\"dataframe\">\n",
       "  <thead>\n",
       "    <tr style=\"text-align: right;\">\n",
       "      <th></th>\n",
       "      <th>PassengerId</th>\n",
       "      <th>Survived</th>\n",
       "      <th>Pclass</th>\n",
       "      <th>Name</th>\n",
       "      <th>Sex</th>\n",
       "      <th>Age</th>\n",
       "      <th>SibSp</th>\n",
       "      <th>Parch</th>\n",
       "      <th>Ticket</th>\n",
       "      <th>Fare</th>\n",
       "      <th>Embarked</th>\n",
       "    </tr>\n",
       "  </thead>\n",
       "  <tbody>\n",
       "    <tr>\n",
       "      <th>886</th>\n",
       "      <td>887</td>\n",
       "      <td>0</td>\n",
       "      <td>2</td>\n",
       "      <td>Montvila, Rev. Juozas</td>\n",
       "      <td>male</td>\n",
       "      <td>27.000000</td>\n",
       "      <td>0</td>\n",
       "      <td>0</td>\n",
       "      <td>211536</td>\n",
       "      <td>13.00</td>\n",
       "      <td>S</td>\n",
       "    </tr>\n",
       "    <tr>\n",
       "      <th>887</th>\n",
       "      <td>888</td>\n",
       "      <td>1</td>\n",
       "      <td>1</td>\n",
       "      <td>Graham, Miss. Margaret Edith</td>\n",
       "      <td>female</td>\n",
       "      <td>19.000000</td>\n",
       "      <td>0</td>\n",
       "      <td>0</td>\n",
       "      <td>112053</td>\n",
       "      <td>30.00</td>\n",
       "      <td>S</td>\n",
       "    </tr>\n",
       "    <tr>\n",
       "      <th>888</th>\n",
       "      <td>889</td>\n",
       "      <td>0</td>\n",
       "      <td>3</td>\n",
       "      <td>Johnston, Miss. Catherine Helen \"Carrie\"</td>\n",
       "      <td>female</td>\n",
       "      <td>29.699118</td>\n",
       "      <td>1</td>\n",
       "      <td>2</td>\n",
       "      <td>W./C. 6607</td>\n",
       "      <td>23.45</td>\n",
       "      <td>S</td>\n",
       "    </tr>\n",
       "    <tr>\n",
       "      <th>889</th>\n",
       "      <td>890</td>\n",
       "      <td>1</td>\n",
       "      <td>1</td>\n",
       "      <td>Behr, Mr. Karl Howell</td>\n",
       "      <td>male</td>\n",
       "      <td>26.000000</td>\n",
       "      <td>0</td>\n",
       "      <td>0</td>\n",
       "      <td>111369</td>\n",
       "      <td>30.00</td>\n",
       "      <td>C</td>\n",
       "    </tr>\n",
       "    <tr>\n",
       "      <th>890</th>\n",
       "      <td>891</td>\n",
       "      <td>0</td>\n",
       "      <td>3</td>\n",
       "      <td>Dooley, Mr. Patrick</td>\n",
       "      <td>male</td>\n",
       "      <td>32.000000</td>\n",
       "      <td>0</td>\n",
       "      <td>0</td>\n",
       "      <td>370376</td>\n",
       "      <td>7.75</td>\n",
       "      <td>Q</td>\n",
       "    </tr>\n",
       "  </tbody>\n",
       "</table>\n",
       "</div>"
      ],
      "text/plain": [
       "     PassengerId  Survived  Pclass                                      Name  \\\n",
       "886          887         0       2                     Montvila, Rev. Juozas   \n",
       "887          888         1       1              Graham, Miss. Margaret Edith   \n",
       "888          889         0       3  Johnston, Miss. Catherine Helen \"Carrie\"   \n",
       "889          890         1       1                     Behr, Mr. Karl Howell   \n",
       "890          891         0       3                       Dooley, Mr. Patrick   \n",
       "\n",
       "        Sex        Age  SibSp  Parch      Ticket   Fare Embarked  \n",
       "886    male  27.000000      0      0      211536  13.00        S  \n",
       "887  female  19.000000      0      0      112053  30.00        S  \n",
       "888  female  29.699118      1      2  W./C. 6607  23.45        S  \n",
       "889    male  26.000000      0      0      111369  30.00        C  \n",
       "890    male  32.000000      0      0      370376   7.75        Q  "
      ]
     },
     "execution_count": 35,
     "metadata": {},
     "output_type": "execute_result"
    }
   ],
   "source": [
    "newdf1.tail()"
   ]
  },
  {
   "cell_type": "markdown",
   "id": "1a354aa7",
   "metadata": {},
   "source": [
    "## SAMPLE COLUMN CHECK"
   ]
  },
  {
   "cell_type": "code",
   "execution_count": 36,
   "id": "84cf39af",
   "metadata": {},
   "outputs": [
    {
     "data": {
      "text/html": [
       "<div>\n",
       "<style scoped>\n",
       "    .dataframe tbody tr th:only-of-type {\n",
       "        vertical-align: middle;\n",
       "    }\n",
       "\n",
       "    .dataframe tbody tr th {\n",
       "        vertical-align: top;\n",
       "    }\n",
       "\n",
       "    .dataframe thead th {\n",
       "        text-align: right;\n",
       "    }\n",
       "</style>\n",
       "<table border=\"1\" class=\"dataframe\">\n",
       "  <thead>\n",
       "    <tr style=\"text-align: right;\">\n",
       "      <th></th>\n",
       "      <th>PassengerId</th>\n",
       "      <th>Survived</th>\n",
       "      <th>Pclass</th>\n",
       "      <th>Name</th>\n",
       "      <th>Sex</th>\n",
       "      <th>Age</th>\n",
       "      <th>SibSp</th>\n",
       "      <th>Parch</th>\n",
       "      <th>Ticket</th>\n",
       "      <th>Fare</th>\n",
       "      <th>Embarked</th>\n",
       "    </tr>\n",
       "  </thead>\n",
       "  <tbody>\n",
       "    <tr>\n",
       "      <th>16</th>\n",
       "      <td>17</td>\n",
       "      <td>0</td>\n",
       "      <td>3</td>\n",
       "      <td>Rice, Master. Eugene</td>\n",
       "      <td>male</td>\n",
       "      <td>2.0</td>\n",
       "      <td>4</td>\n",
       "      <td>1</td>\n",
       "      <td>382652</td>\n",
       "      <td>29.125</td>\n",
       "      <td>Q</td>\n",
       "    </tr>\n",
       "  </tbody>\n",
       "</table>\n",
       "</div>"
      ],
      "text/plain": [
       "    PassengerId  Survived  Pclass                  Name   Sex  Age  SibSp  \\\n",
       "16           17         0       3  Rice, Master. Eugene  male  2.0      4   \n",
       "\n",
       "    Parch  Ticket    Fare Embarked  \n",
       "16      1  382652  29.125        Q  "
      ]
     },
     "execution_count": 36,
     "metadata": {},
     "output_type": "execute_result"
    }
   ],
   "source": [
    "newdf1.sample()"
   ]
  },
  {
   "cell_type": "markdown",
   "id": "90e97529",
   "metadata": {},
   "source": [
    "## CHECKING THE VAIROUS COLUMNS PRESENT IN THE DATA SET"
   ]
  },
  {
   "cell_type": "code",
   "execution_count": 37,
   "id": "dec81e10",
   "metadata": {},
   "outputs": [
    {
     "data": {
      "text/plain": [
       "Index(['PassengerId', 'Survived', 'Pclass', 'Name', 'Sex', 'Age', 'SibSp',\n",
       "       'Parch', 'Ticket', 'Fare', 'Embarked'],\n",
       "      dtype='object')"
      ]
     },
     "execution_count": 37,
     "metadata": {},
     "output_type": "execute_result"
    }
   ],
   "source": [
    "newdf1.columns"
   ]
  },
  {
   "cell_type": "markdown",
   "id": "a6530421",
   "metadata": {},
   "source": [
    "## SHIFTING THE TARGET COLUMN TO THE END"
   ]
  },
  {
   "cell_type": "code",
   "execution_count": 38,
   "id": "ce717e94",
   "metadata": {},
   "outputs": [],
   "source": [
    "newdf1=newdf1[['PassengerId','Pclass','Name','Age','Sex','SibSp','Parch','Ticket','Fare','Embarked','Survived']]"
   ]
  },
  {
   "cell_type": "markdown",
   "id": "cf595c4e",
   "metadata": {},
   "source": [
    "## NON GRAPHICAL UNIVARIATE ANALYSIS"
   ]
  },
  {
   "cell_type": "code",
   "execution_count": 39,
   "id": "54b8bf64",
   "metadata": {},
   "outputs": [
    {
     "data": {
      "text/html": [
       "<div>\n",
       "<style scoped>\n",
       "    .dataframe tbody tr th:only-of-type {\n",
       "        vertical-align: middle;\n",
       "    }\n",
       "\n",
       "    .dataframe tbody tr th {\n",
       "        vertical-align: top;\n",
       "    }\n",
       "\n",
       "    .dataframe thead th {\n",
       "        text-align: right;\n",
       "    }\n",
       "</style>\n",
       "<table border=\"1\" class=\"dataframe\">\n",
       "  <thead>\n",
       "    <tr style=\"text-align: right;\">\n",
       "      <th></th>\n",
       "      <th>PassengerId</th>\n",
       "      <th>Pclass</th>\n",
       "      <th>Age</th>\n",
       "      <th>SibSp</th>\n",
       "      <th>Parch</th>\n",
       "      <th>Fare</th>\n",
       "      <th>Survived</th>\n",
       "    </tr>\n",
       "  </thead>\n",
       "  <tbody>\n",
       "    <tr>\n",
       "      <th>count</th>\n",
       "      <td>891.000000</td>\n",
       "      <td>891.000000</td>\n",
       "      <td>891.000000</td>\n",
       "      <td>891.000000</td>\n",
       "      <td>891.000000</td>\n",
       "      <td>891.000000</td>\n",
       "      <td>891.000000</td>\n",
       "    </tr>\n",
       "    <tr>\n",
       "      <th>mean</th>\n",
       "      <td>446.000000</td>\n",
       "      <td>2.308642</td>\n",
       "      <td>29.699118</td>\n",
       "      <td>0.523008</td>\n",
       "      <td>0.381594</td>\n",
       "      <td>32.204208</td>\n",
       "      <td>0.383838</td>\n",
       "    </tr>\n",
       "    <tr>\n",
       "      <th>std</th>\n",
       "      <td>257.353842</td>\n",
       "      <td>0.836071</td>\n",
       "      <td>13.002015</td>\n",
       "      <td>1.102743</td>\n",
       "      <td>0.806057</td>\n",
       "      <td>49.693429</td>\n",
       "      <td>0.486592</td>\n",
       "    </tr>\n",
       "    <tr>\n",
       "      <th>min</th>\n",
       "      <td>1.000000</td>\n",
       "      <td>1.000000</td>\n",
       "      <td>0.420000</td>\n",
       "      <td>0.000000</td>\n",
       "      <td>0.000000</td>\n",
       "      <td>0.000000</td>\n",
       "      <td>0.000000</td>\n",
       "    </tr>\n",
       "    <tr>\n",
       "      <th>25%</th>\n",
       "      <td>223.500000</td>\n",
       "      <td>2.000000</td>\n",
       "      <td>22.000000</td>\n",
       "      <td>0.000000</td>\n",
       "      <td>0.000000</td>\n",
       "      <td>7.910400</td>\n",
       "      <td>0.000000</td>\n",
       "    </tr>\n",
       "    <tr>\n",
       "      <th>50%</th>\n",
       "      <td>446.000000</td>\n",
       "      <td>3.000000</td>\n",
       "      <td>29.699118</td>\n",
       "      <td>0.000000</td>\n",
       "      <td>0.000000</td>\n",
       "      <td>14.454200</td>\n",
       "      <td>0.000000</td>\n",
       "    </tr>\n",
       "    <tr>\n",
       "      <th>75%</th>\n",
       "      <td>668.500000</td>\n",
       "      <td>3.000000</td>\n",
       "      <td>35.000000</td>\n",
       "      <td>1.000000</td>\n",
       "      <td>0.000000</td>\n",
       "      <td>31.000000</td>\n",
       "      <td>1.000000</td>\n",
       "    </tr>\n",
       "    <tr>\n",
       "      <th>max</th>\n",
       "      <td>891.000000</td>\n",
       "      <td>3.000000</td>\n",
       "      <td>80.000000</td>\n",
       "      <td>8.000000</td>\n",
       "      <td>6.000000</td>\n",
       "      <td>512.329200</td>\n",
       "      <td>1.000000</td>\n",
       "    </tr>\n",
       "  </tbody>\n",
       "</table>\n",
       "</div>"
      ],
      "text/plain": [
       "       PassengerId      Pclass         Age       SibSp       Parch  \\\n",
       "count   891.000000  891.000000  891.000000  891.000000  891.000000   \n",
       "mean    446.000000    2.308642   29.699118    0.523008    0.381594   \n",
       "std     257.353842    0.836071   13.002015    1.102743    0.806057   \n",
       "min       1.000000    1.000000    0.420000    0.000000    0.000000   \n",
       "25%     223.500000    2.000000   22.000000    0.000000    0.000000   \n",
       "50%     446.000000    3.000000   29.699118    0.000000    0.000000   \n",
       "75%     668.500000    3.000000   35.000000    1.000000    0.000000   \n",
       "max     891.000000    3.000000   80.000000    8.000000    6.000000   \n",
       "\n",
       "             Fare    Survived  \n",
       "count  891.000000  891.000000  \n",
       "mean    32.204208    0.383838  \n",
       "std     49.693429    0.486592  \n",
       "min      0.000000    0.000000  \n",
       "25%      7.910400    0.000000  \n",
       "50%     14.454200    0.000000  \n",
       "75%     31.000000    1.000000  \n",
       "max    512.329200    1.000000  "
      ]
     },
     "execution_count": 39,
     "metadata": {},
     "output_type": "execute_result"
    }
   ],
   "source": [
    "newdf1.describe()"
   ]
  },
  {
   "cell_type": "code",
   "execution_count": null,
   "id": "748c9627",
   "metadata": {},
   "outputs": [],
   "source": []
  },
  {
   "cell_type": "code",
   "execution_count": null,
   "id": "8011558e",
   "metadata": {},
   "outputs": [],
   "source": []
  },
  {
   "cell_type": "markdown",
   "id": "9416d218",
   "metadata": {},
   "source": [
    "## GRAPHICAL UNIVARIATE ANALYSIS"
   ]
  },
  {
   "cell_type": "code",
   "execution_count": 40,
   "id": "d629fcdc",
   "metadata": {},
   "outputs": [],
   "source": [
    "import seaborn as sns\n",
    "import matplotlib.pyplot as plt"
   ]
  },
  {
   "cell_type": "code",
   "execution_count": null,
   "id": "23fa8bf1",
   "metadata": {},
   "outputs": [],
   "source": []
  },
  {
   "cell_type": "code",
   "execution_count": null,
   "id": "25fb5c10",
   "metadata": {},
   "outputs": [],
   "source": []
  },
  {
   "cell_type": "code",
   "execution_count": null,
   "id": "b6d96c4b",
   "metadata": {},
   "outputs": [],
   "source": []
  },
  {
   "cell_type": "markdown",
   "id": "6e0b4c05",
   "metadata": {},
   "source": [
    "## BIVARIATE ANALYSIS"
   ]
  },
  {
   "cell_type": "code",
   "execution_count": null,
   "id": "ba1c654d",
   "metadata": {},
   "outputs": [],
   "source": []
  },
  {
   "cell_type": "code",
   "execution_count": null,
   "id": "f5dc0397",
   "metadata": {},
   "outputs": [],
   "source": []
  },
  {
   "cell_type": "code",
   "execution_count": null,
   "id": "8a852fa5",
   "metadata": {},
   "outputs": [],
   "source": []
  },
  {
   "cell_type": "code",
   "execution_count": null,
   "id": "32a09847",
   "metadata": {},
   "outputs": [],
   "source": []
  },
  {
   "cell_type": "markdown",
   "id": "652e8623",
   "metadata": {},
   "source": [
    "## MULTIVARIATE ANALYSIS"
   ]
  },
  {
   "cell_type": "code",
   "execution_count": null,
   "id": "1e8322bf",
   "metadata": {},
   "outputs": [],
   "source": []
  },
  {
   "cell_type": "code",
   "execution_count": null,
   "id": "9de2575c",
   "metadata": {},
   "outputs": [],
   "source": []
  },
  {
   "cell_type": "code",
   "execution_count": null,
   "id": "0b658e75",
   "metadata": {},
   "outputs": [],
   "source": []
  },
  {
   "cell_type": "code",
   "execution_count": null,
   "id": "478b4375",
   "metadata": {},
   "outputs": [],
   "source": []
  },
  {
   "cell_type": "code",
   "execution_count": null,
   "id": "cecd1631",
   "metadata": {},
   "outputs": [],
   "source": []
  },
  {
   "cell_type": "markdown",
   "id": "3e138a19",
   "metadata": {},
   "source": [
    "## ENCODING THE CATAGORICAL DATA"
   ]
  },
  {
   "cell_type": "code",
   "execution_count": 41,
   "id": "8b9ec68d",
   "metadata": {},
   "outputs": [],
   "source": [
    "from sklearn.preprocessing import LabelEncoder"
   ]
  },
  {
   "cell_type": "code",
   "execution_count": 42,
   "id": "3ec09ff5",
   "metadata": {},
   "outputs": [],
   "source": [
    "le=LabelEncoder()"
   ]
  },
  {
   "cell_type": "code",
   "execution_count": 43,
   "id": "07131a13",
   "metadata": {},
   "outputs": [],
   "source": [
    "newdf1['Sex']=le.fit_transform(newdf1['Sex'])"
   ]
  },
  {
   "cell_type": "code",
   "execution_count": 44,
   "id": "a11a669e",
   "metadata": {},
   "outputs": [],
   "source": [
    "newdf1['Embarked']=le.fit_transform(newdf1['Embarked'])"
   ]
  },
  {
   "cell_type": "code",
   "execution_count": 45,
   "id": "6300a522",
   "metadata": {},
   "outputs": [
    {
     "data": {
      "text/html": [
       "<div>\n",
       "<style scoped>\n",
       "    .dataframe tbody tr th:only-of-type {\n",
       "        vertical-align: middle;\n",
       "    }\n",
       "\n",
       "    .dataframe tbody tr th {\n",
       "        vertical-align: top;\n",
       "    }\n",
       "\n",
       "    .dataframe thead th {\n",
       "        text-align: right;\n",
       "    }\n",
       "</style>\n",
       "<table border=\"1\" class=\"dataframe\">\n",
       "  <thead>\n",
       "    <tr style=\"text-align: right;\">\n",
       "      <th></th>\n",
       "      <th>PassengerId</th>\n",
       "      <th>Pclass</th>\n",
       "      <th>Name</th>\n",
       "      <th>Age</th>\n",
       "      <th>Sex</th>\n",
       "      <th>SibSp</th>\n",
       "      <th>Parch</th>\n",
       "      <th>Ticket</th>\n",
       "      <th>Fare</th>\n",
       "      <th>Embarked</th>\n",
       "      <th>Survived</th>\n",
       "    </tr>\n",
       "  </thead>\n",
       "  <tbody>\n",
       "    <tr>\n",
       "      <th>0</th>\n",
       "      <td>1</td>\n",
       "      <td>3</td>\n",
       "      <td>Braund, Mr. Owen Harris</td>\n",
       "      <td>22.000000</td>\n",
       "      <td>1</td>\n",
       "      <td>1</td>\n",
       "      <td>0</td>\n",
       "      <td>A/5 21171</td>\n",
       "      <td>7.2500</td>\n",
       "      <td>2</td>\n",
       "      <td>0</td>\n",
       "    </tr>\n",
       "    <tr>\n",
       "      <th>1</th>\n",
       "      <td>2</td>\n",
       "      <td>1</td>\n",
       "      <td>Cumings, Mrs. John Bradley (Florence Briggs Th...</td>\n",
       "      <td>38.000000</td>\n",
       "      <td>0</td>\n",
       "      <td>1</td>\n",
       "      <td>0</td>\n",
       "      <td>PC 17599</td>\n",
       "      <td>71.2833</td>\n",
       "      <td>0</td>\n",
       "      <td>1</td>\n",
       "    </tr>\n",
       "    <tr>\n",
       "      <th>2</th>\n",
       "      <td>3</td>\n",
       "      <td>3</td>\n",
       "      <td>Heikkinen, Miss. Laina</td>\n",
       "      <td>26.000000</td>\n",
       "      <td>0</td>\n",
       "      <td>0</td>\n",
       "      <td>0</td>\n",
       "      <td>STON/O2. 3101282</td>\n",
       "      <td>7.9250</td>\n",
       "      <td>2</td>\n",
       "      <td>1</td>\n",
       "    </tr>\n",
       "    <tr>\n",
       "      <th>3</th>\n",
       "      <td>4</td>\n",
       "      <td>1</td>\n",
       "      <td>Futrelle, Mrs. Jacques Heath (Lily May Peel)</td>\n",
       "      <td>35.000000</td>\n",
       "      <td>0</td>\n",
       "      <td>1</td>\n",
       "      <td>0</td>\n",
       "      <td>113803</td>\n",
       "      <td>53.1000</td>\n",
       "      <td>2</td>\n",
       "      <td>1</td>\n",
       "    </tr>\n",
       "    <tr>\n",
       "      <th>4</th>\n",
       "      <td>5</td>\n",
       "      <td>3</td>\n",
       "      <td>Allen, Mr. William Henry</td>\n",
       "      <td>35.000000</td>\n",
       "      <td>1</td>\n",
       "      <td>0</td>\n",
       "      <td>0</td>\n",
       "      <td>373450</td>\n",
       "      <td>8.0500</td>\n",
       "      <td>2</td>\n",
       "      <td>0</td>\n",
       "    </tr>\n",
       "    <tr>\n",
       "      <th>...</th>\n",
       "      <td>...</td>\n",
       "      <td>...</td>\n",
       "      <td>...</td>\n",
       "      <td>...</td>\n",
       "      <td>...</td>\n",
       "      <td>...</td>\n",
       "      <td>...</td>\n",
       "      <td>...</td>\n",
       "      <td>...</td>\n",
       "      <td>...</td>\n",
       "      <td>...</td>\n",
       "    </tr>\n",
       "    <tr>\n",
       "      <th>886</th>\n",
       "      <td>887</td>\n",
       "      <td>2</td>\n",
       "      <td>Montvila, Rev. Juozas</td>\n",
       "      <td>27.000000</td>\n",
       "      <td>1</td>\n",
       "      <td>0</td>\n",
       "      <td>0</td>\n",
       "      <td>211536</td>\n",
       "      <td>13.0000</td>\n",
       "      <td>2</td>\n",
       "      <td>0</td>\n",
       "    </tr>\n",
       "    <tr>\n",
       "      <th>887</th>\n",
       "      <td>888</td>\n",
       "      <td>1</td>\n",
       "      <td>Graham, Miss. Margaret Edith</td>\n",
       "      <td>19.000000</td>\n",
       "      <td>0</td>\n",
       "      <td>0</td>\n",
       "      <td>0</td>\n",
       "      <td>112053</td>\n",
       "      <td>30.0000</td>\n",
       "      <td>2</td>\n",
       "      <td>1</td>\n",
       "    </tr>\n",
       "    <tr>\n",
       "      <th>888</th>\n",
       "      <td>889</td>\n",
       "      <td>3</td>\n",
       "      <td>Johnston, Miss. Catherine Helen \"Carrie\"</td>\n",
       "      <td>29.699118</td>\n",
       "      <td>0</td>\n",
       "      <td>1</td>\n",
       "      <td>2</td>\n",
       "      <td>W./C. 6607</td>\n",
       "      <td>23.4500</td>\n",
       "      <td>2</td>\n",
       "      <td>0</td>\n",
       "    </tr>\n",
       "    <tr>\n",
       "      <th>889</th>\n",
       "      <td>890</td>\n",
       "      <td>1</td>\n",
       "      <td>Behr, Mr. Karl Howell</td>\n",
       "      <td>26.000000</td>\n",
       "      <td>1</td>\n",
       "      <td>0</td>\n",
       "      <td>0</td>\n",
       "      <td>111369</td>\n",
       "      <td>30.0000</td>\n",
       "      <td>0</td>\n",
       "      <td>1</td>\n",
       "    </tr>\n",
       "    <tr>\n",
       "      <th>890</th>\n",
       "      <td>891</td>\n",
       "      <td>3</td>\n",
       "      <td>Dooley, Mr. Patrick</td>\n",
       "      <td>32.000000</td>\n",
       "      <td>1</td>\n",
       "      <td>0</td>\n",
       "      <td>0</td>\n",
       "      <td>370376</td>\n",
       "      <td>7.7500</td>\n",
       "      <td>1</td>\n",
       "      <td>0</td>\n",
       "    </tr>\n",
       "  </tbody>\n",
       "</table>\n",
       "<p>891 rows × 11 columns</p>\n",
       "</div>"
      ],
      "text/plain": [
       "     PassengerId  Pclass                                               Name  \\\n",
       "0              1       3                            Braund, Mr. Owen Harris   \n",
       "1              2       1  Cumings, Mrs. John Bradley (Florence Briggs Th...   \n",
       "2              3       3                             Heikkinen, Miss. Laina   \n",
       "3              4       1       Futrelle, Mrs. Jacques Heath (Lily May Peel)   \n",
       "4              5       3                           Allen, Mr. William Henry   \n",
       "..           ...     ...                                                ...   \n",
       "886          887       2                              Montvila, Rev. Juozas   \n",
       "887          888       1                       Graham, Miss. Margaret Edith   \n",
       "888          889       3           Johnston, Miss. Catherine Helen \"Carrie\"   \n",
       "889          890       1                              Behr, Mr. Karl Howell   \n",
       "890          891       3                                Dooley, Mr. Patrick   \n",
       "\n",
       "           Age  Sex  SibSp  Parch            Ticket     Fare  Embarked  \\\n",
       "0    22.000000    1      1      0         A/5 21171   7.2500         2   \n",
       "1    38.000000    0      1      0          PC 17599  71.2833         0   \n",
       "2    26.000000    0      0      0  STON/O2. 3101282   7.9250         2   \n",
       "3    35.000000    0      1      0            113803  53.1000         2   \n",
       "4    35.000000    1      0      0            373450   8.0500         2   \n",
       "..         ...  ...    ...    ...               ...      ...       ...   \n",
       "886  27.000000    1      0      0            211536  13.0000         2   \n",
       "887  19.000000    0      0      0            112053  30.0000         2   \n",
       "888  29.699118    0      1      2        W./C. 6607  23.4500         2   \n",
       "889  26.000000    1      0      0            111369  30.0000         0   \n",
       "890  32.000000    1      0      0            370376   7.7500         1   \n",
       "\n",
       "     Survived  \n",
       "0           0  \n",
       "1           1  \n",
       "2           1  \n",
       "3           1  \n",
       "4           0  \n",
       "..        ...  \n",
       "886         0  \n",
       "887         1  \n",
       "888         0  \n",
       "889         1  \n",
       "890         0  \n",
       "\n",
       "[891 rows x 11 columns]"
      ]
     },
     "execution_count": 45,
     "metadata": {},
     "output_type": "execute_result"
    }
   ],
   "source": [
    "newdf1"
   ]
  },
  {
   "cell_type": "code",
   "execution_count": 46,
   "id": "283bc8af",
   "metadata": {},
   "outputs": [
    {
     "data": {
      "text/plain": [
       "347082      7\n",
       "CA. 2343    7\n",
       "1601        7\n",
       "3101295     6\n",
       "CA 2144     6\n",
       "           ..\n",
       "9234        1\n",
       "19988       1\n",
       "2693        1\n",
       "PC 17612    1\n",
       "370376      1\n",
       "Name: Ticket, Length: 681, dtype: int64"
      ]
     },
     "execution_count": 46,
     "metadata": {},
     "output_type": "execute_result"
    }
   ],
   "source": [
    "newdf1['Ticket'].value_counts()"
   ]
  },
  {
   "cell_type": "markdown",
   "id": "ca058718",
   "metadata": {},
   "source": [
    "## CORRELATION ANALYSIS "
   ]
  },
  {
   "cell_type": "code",
   "execution_count": 47,
   "id": "42470acc",
   "metadata": {},
   "outputs": [
    {
     "data": {
      "text/html": [
       "<div>\n",
       "<style scoped>\n",
       "    .dataframe tbody tr th:only-of-type {\n",
       "        vertical-align: middle;\n",
       "    }\n",
       "\n",
       "    .dataframe tbody tr th {\n",
       "        vertical-align: top;\n",
       "    }\n",
       "\n",
       "    .dataframe thead th {\n",
       "        text-align: right;\n",
       "    }\n",
       "</style>\n",
       "<table border=\"1\" class=\"dataframe\">\n",
       "  <thead>\n",
       "    <tr style=\"text-align: right;\">\n",
       "      <th></th>\n",
       "      <th>PassengerId</th>\n",
       "      <th>Pclass</th>\n",
       "      <th>Age</th>\n",
       "      <th>Sex</th>\n",
       "      <th>SibSp</th>\n",
       "      <th>Parch</th>\n",
       "      <th>Fare</th>\n",
       "      <th>Embarked</th>\n",
       "      <th>Survived</th>\n",
       "    </tr>\n",
       "  </thead>\n",
       "  <tbody>\n",
       "    <tr>\n",
       "      <th>PassengerId</th>\n",
       "      <td>1.000000</td>\n",
       "      <td>-0.035144</td>\n",
       "      <td>0.033207</td>\n",
       "      <td>0.042939</td>\n",
       "      <td>-0.057527</td>\n",
       "      <td>-0.001652</td>\n",
       "      <td>0.012658</td>\n",
       "      <td>0.013128</td>\n",
       "      <td>-0.005007</td>\n",
       "    </tr>\n",
       "    <tr>\n",
       "      <th>Pclass</th>\n",
       "      <td>-0.035144</td>\n",
       "      <td>1.000000</td>\n",
       "      <td>-0.331339</td>\n",
       "      <td>0.131900</td>\n",
       "      <td>0.083081</td>\n",
       "      <td>0.018443</td>\n",
       "      <td>-0.549500</td>\n",
       "      <td>0.162098</td>\n",
       "      <td>-0.338481</td>\n",
       "    </tr>\n",
       "    <tr>\n",
       "      <th>Age</th>\n",
       "      <td>0.033207</td>\n",
       "      <td>-0.331339</td>\n",
       "      <td>1.000000</td>\n",
       "      <td>0.084153</td>\n",
       "      <td>-0.232625</td>\n",
       "      <td>-0.179191</td>\n",
       "      <td>0.091566</td>\n",
       "      <td>-0.026749</td>\n",
       "      <td>-0.069809</td>\n",
       "    </tr>\n",
       "    <tr>\n",
       "      <th>Sex</th>\n",
       "      <td>0.042939</td>\n",
       "      <td>0.131900</td>\n",
       "      <td>0.084153</td>\n",
       "      <td>1.000000</td>\n",
       "      <td>-0.114631</td>\n",
       "      <td>-0.245489</td>\n",
       "      <td>-0.182333</td>\n",
       "      <td>0.108262</td>\n",
       "      <td>-0.543351</td>\n",
       "    </tr>\n",
       "    <tr>\n",
       "      <th>SibSp</th>\n",
       "      <td>-0.057527</td>\n",
       "      <td>0.083081</td>\n",
       "      <td>-0.232625</td>\n",
       "      <td>-0.114631</td>\n",
       "      <td>1.000000</td>\n",
       "      <td>0.414838</td>\n",
       "      <td>0.159651</td>\n",
       "      <td>0.068230</td>\n",
       "      <td>-0.035322</td>\n",
       "    </tr>\n",
       "    <tr>\n",
       "      <th>Parch</th>\n",
       "      <td>-0.001652</td>\n",
       "      <td>0.018443</td>\n",
       "      <td>-0.179191</td>\n",
       "      <td>-0.245489</td>\n",
       "      <td>0.414838</td>\n",
       "      <td>1.000000</td>\n",
       "      <td>0.216225</td>\n",
       "      <td>0.039798</td>\n",
       "      <td>0.081629</td>\n",
       "    </tr>\n",
       "    <tr>\n",
       "      <th>Fare</th>\n",
       "      <td>0.012658</td>\n",
       "      <td>-0.549500</td>\n",
       "      <td>0.091566</td>\n",
       "      <td>-0.182333</td>\n",
       "      <td>0.159651</td>\n",
       "      <td>0.216225</td>\n",
       "      <td>1.000000</td>\n",
       "      <td>-0.224719</td>\n",
       "      <td>0.257307</td>\n",
       "    </tr>\n",
       "    <tr>\n",
       "      <th>Embarked</th>\n",
       "      <td>0.013128</td>\n",
       "      <td>0.162098</td>\n",
       "      <td>-0.026749</td>\n",
       "      <td>0.108262</td>\n",
       "      <td>0.068230</td>\n",
       "      <td>0.039798</td>\n",
       "      <td>-0.224719</td>\n",
       "      <td>1.000000</td>\n",
       "      <td>-0.167675</td>\n",
       "    </tr>\n",
       "    <tr>\n",
       "      <th>Survived</th>\n",
       "      <td>-0.005007</td>\n",
       "      <td>-0.338481</td>\n",
       "      <td>-0.069809</td>\n",
       "      <td>-0.543351</td>\n",
       "      <td>-0.035322</td>\n",
       "      <td>0.081629</td>\n",
       "      <td>0.257307</td>\n",
       "      <td>-0.167675</td>\n",
       "      <td>1.000000</td>\n",
       "    </tr>\n",
       "  </tbody>\n",
       "</table>\n",
       "</div>"
      ],
      "text/plain": [
       "             PassengerId    Pclass       Age       Sex     SibSp     Parch  \\\n",
       "PassengerId     1.000000 -0.035144  0.033207  0.042939 -0.057527 -0.001652   \n",
       "Pclass         -0.035144  1.000000 -0.331339  0.131900  0.083081  0.018443   \n",
       "Age             0.033207 -0.331339  1.000000  0.084153 -0.232625 -0.179191   \n",
       "Sex             0.042939  0.131900  0.084153  1.000000 -0.114631 -0.245489   \n",
       "SibSp          -0.057527  0.083081 -0.232625 -0.114631  1.000000  0.414838   \n",
       "Parch          -0.001652  0.018443 -0.179191 -0.245489  0.414838  1.000000   \n",
       "Fare            0.012658 -0.549500  0.091566 -0.182333  0.159651  0.216225   \n",
       "Embarked        0.013128  0.162098 -0.026749  0.108262  0.068230  0.039798   \n",
       "Survived       -0.005007 -0.338481 -0.069809 -0.543351 -0.035322  0.081629   \n",
       "\n",
       "                 Fare  Embarked  Survived  \n",
       "PassengerId  0.012658  0.013128 -0.005007  \n",
       "Pclass      -0.549500  0.162098 -0.338481  \n",
       "Age          0.091566 -0.026749 -0.069809  \n",
       "Sex         -0.182333  0.108262 -0.543351  \n",
       "SibSp        0.159651  0.068230 -0.035322  \n",
       "Parch        0.216225  0.039798  0.081629  \n",
       "Fare         1.000000 -0.224719  0.257307  \n",
       "Embarked    -0.224719  1.000000 -0.167675  \n",
       "Survived     0.257307 -0.167675  1.000000  "
      ]
     },
     "execution_count": 47,
     "metadata": {},
     "output_type": "execute_result"
    }
   ],
   "source": [
    "newdf1.corr()"
   ]
  },
  {
   "cell_type": "code",
   "execution_count": 48,
   "id": "2729406c",
   "metadata": {},
   "outputs": [
    {
     "data": {
      "text/plain": [
       "<AxesSubplot:>"
      ]
     },
     "execution_count": 48,
     "metadata": {},
     "output_type": "execute_result"
    },
    {
     "data": {
      "image/png": "[encoded data removed]",
      "text/plain": [
       "<Figure size 720x720 with 2 Axes>"
      ]
     },
     "metadata": {
      "needs_background": "light"
     },
     "output_type": "display_data"
    }
   ],
   "source": [
    "plt.figure(figsize=(10,10))\n",
    "sns.heatmap(newdf1.corr(),annot=True)"
   ]
  },
  {
   "cell_type": "code",
   "execution_count": null,
   "id": "0b7f6ac2",
   "metadata": {},
   "outputs": [],
   "source": []
  },
  {
   "cell_type": "code",
   "execution_count": null,
   "id": "e495f2f3",
   "metadata": {},
   "outputs": [],
   "source": []
  },
  {
   "cell_type": "code",
   "execution_count": 49,
   "id": "83617293",
   "metadata": {},
   "outputs": [
    {
     "data": {
      "text/plain": [
       "<bound method Series.sort_values of PassengerId   -0.005007\n",
       "Pclass        -0.338481\n",
       "Age           -0.069809\n",
       "Sex           -0.543351\n",
       "SibSp         -0.035322\n",
       "Parch          0.081629\n",
       "Fare           0.257307\n",
       "Embarked      -0.167675\n",
       "Survived       1.000000\n",
       "Name: Survived, dtype: float64>"
      ]
     },
     "execution_count": 49,
     "metadata": {},
     "output_type": "execute_result"
    }
   ],
   "source": [
    "newdf1.corr()['Survived'].sort_values"
   ]
  },
  {
   "cell_type": "code",
   "execution_count": null,
   "id": "15aaecef",
   "metadata": {},
   "outputs": [],
   "source": []
  },
  {
   "cell_type": "markdown",
   "id": "25aff0b0",
   "metadata": {},
   "source": [
    "## OUTLIERS CHECK- VISUAL "
   ]
  },
  {
   "cell_type": "code",
   "execution_count": 50,
   "id": "4931c7dc",
   "metadata": {},
   "outputs": [
    {
     "data": {
      "text/plain": [
       "Index(['PassengerId', 'Pclass', 'Name', 'Age', 'Sex', 'SibSp', 'Parch',\n",
       "       'Ticket', 'Fare', 'Embarked', 'Survived'],\n",
       "      dtype='object')"
      ]
     },
     "execution_count": 50,
     "metadata": {},
     "output_type": "execute_result"
    }
   ],
   "source": [
    "newdf1.columns"
   ]
  },
  {
   "cell_type": "markdown",
   "id": "71c624f7",
   "metadata": {},
   "source": [
    "## DROPPING THE FOLLOWING COLUMNS - PASSENGER-ID, NAME AND TICKET"
   ]
  },
  {
   "cell_type": "code",
   "execution_count": 51,
   "id": "6457be03",
   "metadata": {},
   "outputs": [],
   "source": [
    "DF=newdf1.drop(columns=['PassengerId','Ticket','Name'],axis=1)"
   ]
  },
  {
   "cell_type": "code",
   "execution_count": 52,
   "id": "e8fd621c",
   "metadata": {},
   "outputs": [
    {
     "data": {
      "text/html": [
       "<div>\n",
       "<style scoped>\n",
       "    .dataframe tbody tr th:only-of-type {\n",
       "        vertical-align: middle;\n",
       "    }\n",
       "\n",
       "    .dataframe tbody tr th {\n",
       "        vertical-align: top;\n",
       "    }\n",
       "\n",
       "    .dataframe thead th {\n",
       "        text-align: right;\n",
       "    }\n",
       "</style>\n",
       "<table border=\"1\" class=\"dataframe\">\n",
       "  <thead>\n",
       "    <tr style=\"text-align: right;\">\n",
       "      <th></th>\n",
       "      <th>Pclass</th>\n",
       "      <th>Age</th>\n",
       "      <th>Sex</th>\n",
       "      <th>SibSp</th>\n",
       "      <th>Parch</th>\n",
       "      <th>Fare</th>\n",
       "      <th>Embarked</th>\n",
       "      <th>Survived</th>\n",
       "    </tr>\n",
       "  </thead>\n",
       "  <tbody>\n",
       "    <tr>\n",
       "      <th>0</th>\n",
       "      <td>3</td>\n",
       "      <td>22.000000</td>\n",
       "      <td>1</td>\n",
       "      <td>1</td>\n",
       "      <td>0</td>\n",
       "      <td>7.2500</td>\n",
       "      <td>2</td>\n",
       "      <td>0</td>\n",
       "    </tr>\n",
       "    <tr>\n",
       "      <th>1</th>\n",
       "      <td>1</td>\n",
       "      <td>38.000000</td>\n",
       "      <td>0</td>\n",
       "      <td>1</td>\n",
       "      <td>0</td>\n",
       "      <td>71.2833</td>\n",
       "      <td>0</td>\n",
       "      <td>1</td>\n",
       "    </tr>\n",
       "    <tr>\n",
       "      <th>2</th>\n",
       "      <td>3</td>\n",
       "      <td>26.000000</td>\n",
       "      <td>0</td>\n",
       "      <td>0</td>\n",
       "      <td>0</td>\n",
       "      <td>7.9250</td>\n",
       "      <td>2</td>\n",
       "      <td>1</td>\n",
       "    </tr>\n",
       "    <tr>\n",
       "      <th>3</th>\n",
       "      <td>1</td>\n",
       "      <td>35.000000</td>\n",
       "      <td>0</td>\n",
       "      <td>1</td>\n",
       "      <td>0</td>\n",
       "      <td>53.1000</td>\n",
       "      <td>2</td>\n",
       "      <td>1</td>\n",
       "    </tr>\n",
       "    <tr>\n",
       "      <th>4</th>\n",
       "      <td>3</td>\n",
       "      <td>35.000000</td>\n",
       "      <td>1</td>\n",
       "      <td>0</td>\n",
       "      <td>0</td>\n",
       "      <td>8.0500</td>\n",
       "      <td>2</td>\n",
       "      <td>0</td>\n",
       "    </tr>\n",
       "    <tr>\n",
       "      <th>...</th>\n",
       "      <td>...</td>\n",
       "      <td>...</td>\n",
       "      <td>...</td>\n",
       "      <td>...</td>\n",
       "      <td>...</td>\n",
       "      <td>...</td>\n",
       "      <td>...</td>\n",
       "      <td>...</td>\n",
       "    </tr>\n",
       "    <tr>\n",
       "      <th>886</th>\n",
       "      <td>2</td>\n",
       "      <td>27.000000</td>\n",
       "      <td>1</td>\n",
       "      <td>0</td>\n",
       "      <td>0</td>\n",
       "      <td>13.0000</td>\n",
       "      <td>2</td>\n",
       "      <td>0</td>\n",
       "    </tr>\n",
       "    <tr>\n",
       "      <th>887</th>\n",
       "      <td>1</td>\n",
       "      <td>19.000000</td>\n",
       "      <td>0</td>\n",
       "      <td>0</td>\n",
       "      <td>0</td>\n",
       "      <td>30.0000</td>\n",
       "      <td>2</td>\n",
       "      <td>1</td>\n",
       "    </tr>\n",
       "    <tr>\n",
       "      <th>888</th>\n",
       "      <td>3</td>\n",
       "      <td>29.699118</td>\n",
       "      <td>0</td>\n",
       "      <td>1</td>\n",
       "      <td>2</td>\n",
       "      <td>23.4500</td>\n",
       "      <td>2</td>\n",
       "      <td>0</td>\n",
       "    </tr>\n",
       "    <tr>\n",
       "      <th>889</th>\n",
       "      <td>1</td>\n",
       "      <td>26.000000</td>\n",
       "      <td>1</td>\n",
       "      <td>0</td>\n",
       "      <td>0</td>\n",
       "      <td>30.0000</td>\n",
       "      <td>0</td>\n",
       "      <td>1</td>\n",
       "    </tr>\n",
       "    <tr>\n",
       "      <th>890</th>\n",
       "      <td>3</td>\n",
       "      <td>32.000000</td>\n",
       "      <td>1</td>\n",
       "      <td>0</td>\n",
       "      <td>0</td>\n",
       "      <td>7.7500</td>\n",
       "      <td>1</td>\n",
       "      <td>0</td>\n",
       "    </tr>\n",
       "  </tbody>\n",
       "</table>\n",
       "<p>891 rows × 8 columns</p>\n",
       "</div>"
      ],
      "text/plain": [
       "     Pclass        Age  Sex  SibSp  Parch     Fare  Embarked  Survived\n",
       "0         3  22.000000    1      1      0   7.2500         2         0\n",
       "1         1  38.000000    0      1      0  71.2833         0         1\n",
       "2         3  26.000000    0      0      0   7.9250         2         1\n",
       "3         1  35.000000    0      1      0  53.1000         2         1\n",
       "4         3  35.000000    1      0      0   8.0500         2         0\n",
       "..      ...        ...  ...    ...    ...      ...       ...       ...\n",
       "886       2  27.000000    1      0      0  13.0000         2         0\n",
       "887       1  19.000000    0      0      0  30.0000         2         1\n",
       "888       3  29.699118    0      1      2  23.4500         2         0\n",
       "889       1  26.000000    1      0      0  30.0000         0         1\n",
       "890       3  32.000000    1      0      0   7.7500         1         0\n",
       "\n",
       "[891 rows x 8 columns]"
      ]
     },
     "execution_count": 52,
     "metadata": {},
     "output_type": "execute_result"
    }
   ],
   "source": [
    "DF"
   ]
  },
  {
   "cell_type": "code",
   "execution_count": 53,
   "id": "5f1b0a53",
   "metadata": {},
   "outputs": [
    {
     "name": "stderr",
     "output_type": "stream",
     "text": [
      "C:\\Users\\DELL\\anaconda3\\lib\\site-packages\\seaborn\\_decorators.py:36: FutureWarning: Pass the following variable as a keyword arg: x. From version 0.12, the only valid positional argument will be `data`, and passing other arguments without an explicit keyword will result in an error or misinterpretation.\n",
      "  warnings.warn(\n"
     ]
    },
    {
     "data": {
      "text/plain": [
       "<AxesSubplot:xlabel='Pclass'>"
      ]
     },
     "execution_count": 53,
     "metadata": {},
     "output_type": "execute_result"
    },
    {
     "data": {
      "image/png": "[encoded data removed]",
      "text/plain": [
       "<Figure size 432x288 with 1 Axes>"
      ]
     },
     "metadata": {
      "needs_background": "light"
     },
     "output_type": "display_data"
    }
   ],
   "source": [
    "sns.boxplot(DF['Pclass'])"
   ]
  },
  {
   "cell_type": "markdown",
   "id": "a3420a0e",
   "metadata": {},
   "source": [
    "### NO OUTLIERS ARE PRESENT "
   ]
  },
  {
   "cell_type": "code",
   "execution_count": 54,
   "id": "163cb3a6",
   "metadata": {
    "scrolled": false
   },
   "outputs": [
    {
     "name": "stderr",
     "output_type": "stream",
     "text": [
      "C:\\Users\\DELL\\anaconda3\\lib\\site-packages\\seaborn\\_decorators.py:36: FutureWarning: Pass the following variable as a keyword arg: x. From version 0.12, the only valid positional argument will be `data`, and passing other arguments without an explicit keyword will result in an error or misinterpretation.\n",
      "  warnings.warn(\n"
     ]
    },
    {
     "data": {
      "text/plain": [
       "<AxesSubplot:xlabel='Sex'>"
      ]
     },
     "execution_count": 54,
     "metadata": {},
     "output_type": "execute_result"
    },
    {
     "data": {
      "image/png": "[encoded data removed]",
      "text/plain": [
       "<Figure size 432x288 with 1 Axes>"
      ]
     },
     "metadata": {
      "needs_background": "light"
     },
     "output_type": "display_data"
    }
   ],
   "source": [
    "sns.boxplot(DF['Sex'])"
   ]
  },
  {
   "cell_type": "markdown",
   "id": "ac5e649f",
   "metadata": {},
   "source": [
    "### NO OUTLIERS ARE PRESENT "
   ]
  },
  {
   "cell_type": "code",
   "execution_count": 55,
   "id": "ea430234",
   "metadata": {
    "scrolled": false
   },
   "outputs": [
    {
     "name": "stderr",
     "output_type": "stream",
     "text": [
      "C:\\Users\\DELL\\anaconda3\\lib\\site-packages\\seaborn\\_decorators.py:36: FutureWarning: Pass the following variable as a keyword arg: x. From version 0.12, the only valid positional argument will be `data`, and passing other arguments without an explicit keyword will result in an error or misinterpretation.\n",
      "  warnings.warn(\n"
     ]
    },
    {
     "data": {
      "text/plain": [
       "<AxesSubplot:xlabel='SibSp'>"
      ]
     },
     "execution_count": 55,
     "metadata": {},
     "output_type": "execute_result"
    },
    {
     "data": {
      "image/png": "[encoded data removed]",
      "text/plain": [
       "<Figure size 432x288 with 1 Axes>"
      ]
     },
     "metadata": {
      "needs_background": "light"
     },
     "output_type": "display_data"
    }
   ],
   "source": [
    "sns.boxplot(DF['SibSp'])"
   ]
  },
  {
   "cell_type": "markdown",
   "id": "ee293f03",
   "metadata": {},
   "source": [
    "### OUTLIERS ARE PRESENT "
   ]
  },
  {
   "cell_type": "code",
   "execution_count": 56,
   "id": "cc465060",
   "metadata": {},
   "outputs": [
    {
     "name": "stderr",
     "output_type": "stream",
     "text": [
      "C:\\Users\\DELL\\anaconda3\\lib\\site-packages\\seaborn\\_decorators.py:36: FutureWarning: Pass the following variable as a keyword arg: x. From version 0.12, the only valid positional argument will be `data`, and passing other arguments without an explicit keyword will result in an error or misinterpretation.\n",
      "  warnings.warn(\n"
     ]
    },
    {
     "data": {
      "text/plain": [
       "<AxesSubplot:xlabel='Parch'>"
      ]
     },
     "execution_count": 56,
     "metadata": {},
     "output_type": "execute_result"
    },
    {
     "data": {
      "image/png": "[encoded data removed]",
      "text/plain": [
       "<Figure size 432x288 with 1 Axes>"
      ]
     },
     "metadata": {
      "needs_background": "light"
     },
     "output_type": "display_data"
    }
   ],
   "source": [
    "sns.boxplot(DF['Parch'])"
   ]
  },
  {
   "cell_type": "markdown",
   "id": "6a90c936",
   "metadata": {},
   "source": [
    "### OUTLIERS ARE PRESENT "
   ]
  },
  {
   "cell_type": "code",
   "execution_count": 57,
   "id": "b6139ad4",
   "metadata": {},
   "outputs": [
    {
     "name": "stderr",
     "output_type": "stream",
     "text": [
      "C:\\Users\\DELL\\anaconda3\\lib\\site-packages\\seaborn\\_decorators.py:36: FutureWarning: Pass the following variable as a keyword arg: x. From version 0.12, the only valid positional argument will be `data`, and passing other arguments without an explicit keyword will result in an error or misinterpretation.\n",
      "  warnings.warn(\n"
     ]
    },
    {
     "data": {
      "text/plain": [
       "<AxesSubplot:xlabel='Embarked'>"
      ]
     },
     "execution_count": 57,
     "metadata": {},
     "output_type": "execute_result"
    },
    {
     "data": {
      "image/png": "[encoded data removed]",
      "text/plain": [
       "<Figure size 432x288 with 1 Axes>"
      ]
     },
     "metadata": {
      "needs_background": "light"
     },
     "output_type": "display_data"
    }
   ],
   "source": [
    "sns.boxplot(DF['Embarked'])"
   ]
  },
  {
   "cell_type": "markdown",
   "id": "17077388",
   "metadata": {},
   "source": [
    "### NO OUTLIERS ARE PRESENT "
   ]
  },
  {
   "cell_type": "code",
   "execution_count": 58,
   "id": "57895e5a",
   "metadata": {},
   "outputs": [
    {
     "name": "stderr",
     "output_type": "stream",
     "text": [
      "C:\\Users\\DELL\\anaconda3\\lib\\site-packages\\seaborn\\_decorators.py:36: FutureWarning: Pass the following variable as a keyword arg: x. From version 0.12, the only valid positional argument will be `data`, and passing other arguments without an explicit keyword will result in an error or misinterpretation.\n",
      "  warnings.warn(\n"
     ]
    },
    {
     "data": {
      "text/plain": [
       "<AxesSubplot:xlabel='Fare'>"
      ]
     },
     "execution_count": 58,
     "metadata": {},
     "output_type": "execute_result"
    },
    {
     "data": {
      "image/png": "[encoded data removed]",
      "text/plain": [
       "<Figure size 432x288 with 1 Axes>"
      ]
     },
     "metadata": {
      "needs_background": "light"
     },
     "output_type": "display_data"
    }
   ],
   "source": [
    "sns.boxplot(DF['Fare'])"
   ]
  },
  {
   "cell_type": "markdown",
   "id": "aaac4932",
   "metadata": {},
   "source": [
    "### OUTLIERS ARE PRESENT "
   ]
  },
  {
   "cell_type": "code",
   "execution_count": 59,
   "id": "10a53843",
   "metadata": {},
   "outputs": [
    {
     "name": "stderr",
     "output_type": "stream",
     "text": [
      "C:\\Users\\DELL\\anaconda3\\lib\\site-packages\\seaborn\\_decorators.py:36: FutureWarning: Pass the following variable as a keyword arg: x. From version 0.12, the only valid positional argument will be `data`, and passing other arguments without an explicit keyword will result in an error or misinterpretation.\n",
      "  warnings.warn(\n"
     ]
    },
    {
     "data": {
      "text/plain": [
       "<AxesSubplot:xlabel='Age'>"
      ]
     },
     "execution_count": 59,
     "metadata": {},
     "output_type": "execute_result"
    },
    {
     "data": {
      "image/png": "[encoded data removed]",
      "text/plain": [
       "<Figure size 432x288 with 1 Axes>"
      ]
     },
     "metadata": {
      "needs_background": "light"
     },
     "output_type": "display_data"
    }
   ],
   "source": [
    "sns.boxplot(DF['Age'])"
   ]
  },
  {
   "cell_type": "markdown",
   "id": "3ba2feba",
   "metadata": {},
   "source": [
    "### OUTLIERS ARE PRESENT "
   ]
  },
  {
   "cell_type": "code",
   "execution_count": 60,
   "id": "d2e54ce4",
   "metadata": {},
   "outputs": [
    {
     "name": "stderr",
     "output_type": "stream",
     "text": [
      "C:\\Users\\DELL\\anaconda3\\lib\\site-packages\\seaborn\\_decorators.py:36: FutureWarning: Pass the following variable as a keyword arg: x. From version 0.12, the only valid positional argument will be `data`, and passing other arguments without an explicit keyword will result in an error or misinterpretation.\n",
      "  warnings.warn(\n"
     ]
    },
    {
     "data": {
      "text/plain": [
       "<AxesSubplot:xlabel='Survived'>"
      ]
     },
     "execution_count": 60,
     "metadata": {},
     "output_type": "execute_result"
    },
    {
     "data": {
      "image/png": "[encoded data removed]",
      "text/plain": [
       "<Figure size 432x288 with 1 Axes>"
      ]
     },
     "metadata": {
      "needs_background": "light"
     },
     "output_type": "display_data"
    }
   ],
   "source": [
    "sns.boxplot(DF['Survived'])"
   ]
  },
  {
   "cell_type": "markdown",
   "id": "14a74500",
   "metadata": {},
   "source": [
    "### NO OUTLIERS ARE PRESENT "
   ]
  },
  {
   "cell_type": "markdown",
   "id": "4c7cadb4",
   "metadata": {},
   "source": [
    "## REMOVING OUTLIERS - ZSCORE "
   ]
  },
  {
   "cell_type": "code",
   "execution_count": 61,
   "id": "dc12d6b8",
   "metadata": {},
   "outputs": [],
   "source": [
    "from scipy.stats import zscore"
   ]
  },
  {
   "cell_type": "code",
   "execution_count": 215,
   "id": "fef04287",
   "metadata": {},
   "outputs": [],
   "source": [
    "z=np.abs(zscore(DF))"
   ]
  },
  {
   "cell_type": "code",
   "execution_count": 216,
   "id": "5ede9ee4",
   "metadata": {},
   "outputs": [
    {
     "data": {
      "text/html": [
       "<div>\n",
       "<style scoped>\n",
       "    .dataframe tbody tr th:only-of-type {\n",
       "        vertical-align: middle;\n",
       "    }\n",
       "\n",
       "    .dataframe tbody tr th {\n",
       "        vertical-align: top;\n",
       "    }\n",
       "\n",
       "    .dataframe thead th {\n",
       "        text-align: right;\n",
       "    }\n",
       "</style>\n",
       "<table border=\"1\" class=\"dataframe\">\n",
       "  <thead>\n",
       "    <tr style=\"text-align: right;\">\n",
       "      <th></th>\n",
       "      <th>Pclass</th>\n",
       "      <th>Age</th>\n",
       "      <th>Sex</th>\n",
       "      <th>SibSp</th>\n",
       "      <th>Parch</th>\n",
       "      <th>Fare</th>\n",
       "      <th>Embarked</th>\n",
       "      <th>Survived</th>\n",
       "    </tr>\n",
       "  </thead>\n",
       "  <tbody>\n",
       "    <tr>\n",
       "      <th>0</th>\n",
       "      <td>0.827377</td>\n",
       "      <td>0.592481</td>\n",
       "      <td>0.737695</td>\n",
       "      <td>0.432793</td>\n",
       "      <td>0.473674</td>\n",
       "      <td>0.502445</td>\n",
       "      <td>0.585954</td>\n",
       "      <td>0.789272</td>\n",
       "    </tr>\n",
       "    <tr>\n",
       "      <th>1</th>\n",
       "      <td>1.566107</td>\n",
       "      <td>0.638789</td>\n",
       "      <td>1.355574</td>\n",
       "      <td>0.432793</td>\n",
       "      <td>0.473674</td>\n",
       "      <td>0.786845</td>\n",
       "      <td>1.942303</td>\n",
       "      <td>1.266990</td>\n",
       "    </tr>\n",
       "    <tr>\n",
       "      <th>2</th>\n",
       "      <td>0.827377</td>\n",
       "      <td>0.284663</td>\n",
       "      <td>1.355574</td>\n",
       "      <td>0.474545</td>\n",
       "      <td>0.473674</td>\n",
       "      <td>0.488854</td>\n",
       "      <td>0.585954</td>\n",
       "      <td>1.266990</td>\n",
       "    </tr>\n",
       "    <tr>\n",
       "      <th>3</th>\n",
       "      <td>1.566107</td>\n",
       "      <td>0.407926</td>\n",
       "      <td>1.355574</td>\n",
       "      <td>0.432793</td>\n",
       "      <td>0.473674</td>\n",
       "      <td>0.420730</td>\n",
       "      <td>0.585954</td>\n",
       "      <td>1.266990</td>\n",
       "    </tr>\n",
       "    <tr>\n",
       "      <th>4</th>\n",
       "      <td>0.827377</td>\n",
       "      <td>0.407926</td>\n",
       "      <td>0.737695</td>\n",
       "      <td>0.474545</td>\n",
       "      <td>0.473674</td>\n",
       "      <td>0.486337</td>\n",
       "      <td>0.585954</td>\n",
       "      <td>0.789272</td>\n",
       "    </tr>\n",
       "    <tr>\n",
       "      <th>...</th>\n",
       "      <td>...</td>\n",
       "      <td>...</td>\n",
       "      <td>...</td>\n",
       "      <td>...</td>\n",
       "      <td>...</td>\n",
       "      <td>...</td>\n",
       "      <td>...</td>\n",
       "      <td>...</td>\n",
       "    </tr>\n",
       "    <tr>\n",
       "      <th>886</th>\n",
       "      <td>0.369365</td>\n",
       "      <td>0.207709</td>\n",
       "      <td>0.737695</td>\n",
       "      <td>0.474545</td>\n",
       "      <td>0.473674</td>\n",
       "      <td>0.386671</td>\n",
       "      <td>0.585954</td>\n",
       "      <td>0.789272</td>\n",
       "    </tr>\n",
       "    <tr>\n",
       "      <th>887</th>\n",
       "      <td>1.566107</td>\n",
       "      <td>0.823344</td>\n",
       "      <td>1.355574</td>\n",
       "      <td>0.474545</td>\n",
       "      <td>0.473674</td>\n",
       "      <td>0.044381</td>\n",
       "      <td>0.585954</td>\n",
       "      <td>1.266990</td>\n",
       "    </tr>\n",
       "    <tr>\n",
       "      <th>888</th>\n",
       "      <td>0.827377</td>\n",
       "      <td>0.000000</td>\n",
       "      <td>1.355574</td>\n",
       "      <td>0.432793</td>\n",
       "      <td>2.008933</td>\n",
       "      <td>0.176263</td>\n",
       "      <td>0.585954</td>\n",
       "      <td>0.789272</td>\n",
       "    </tr>\n",
       "    <tr>\n",
       "      <th>889</th>\n",
       "      <td>1.566107</td>\n",
       "      <td>0.284663</td>\n",
       "      <td>0.737695</td>\n",
       "      <td>0.474545</td>\n",
       "      <td>0.473674</td>\n",
       "      <td>0.044381</td>\n",
       "      <td>1.942303</td>\n",
       "      <td>1.266990</td>\n",
       "    </tr>\n",
       "    <tr>\n",
       "      <th>890</th>\n",
       "      <td>0.827377</td>\n",
       "      <td>0.177063</td>\n",
       "      <td>0.737695</td>\n",
       "      <td>0.474545</td>\n",
       "      <td>0.473674</td>\n",
       "      <td>0.492378</td>\n",
       "      <td>0.678175</td>\n",
       "      <td>0.789272</td>\n",
       "    </tr>\n",
       "  </tbody>\n",
       "</table>\n",
       "<p>891 rows × 8 columns</p>\n",
       "</div>"
      ],
      "text/plain": [
       "       Pclass       Age       Sex     SibSp     Parch      Fare  Embarked  \\\n",
       "0    0.827377  0.592481  0.737695  0.432793  0.473674  0.502445  0.585954   \n",
       "1    1.566107  0.638789  1.355574  0.432793  0.473674  0.786845  1.942303   \n",
       "2    0.827377  0.284663  1.355574  0.474545  0.473674  0.488854  0.585954   \n",
       "3    1.566107  0.407926  1.355574  0.432793  0.473674  0.420730  0.585954   \n",
       "4    0.827377  0.407926  0.737695  0.474545  0.473674  0.486337  0.585954   \n",
       "..        ...       ...       ...       ...       ...       ...       ...   \n",
       "886  0.369365  0.207709  0.737695  0.474545  0.473674  0.386671  0.585954   \n",
       "887  1.566107  0.823344  1.355574  0.474545  0.473674  0.044381  0.585954   \n",
       "888  0.827377  0.000000  1.355574  0.432793  2.008933  0.176263  0.585954   \n",
       "889  1.566107  0.284663  0.737695  0.474545  0.473674  0.044381  1.942303   \n",
       "890  0.827377  0.177063  0.737695  0.474545  0.473674  0.492378  0.678175   \n",
       "\n",
       "     Survived  \n",
       "0    0.789272  \n",
       "1    1.266990  \n",
       "2    1.266990  \n",
       "3    1.266990  \n",
       "4    0.789272  \n",
       "..        ...  \n",
       "886  0.789272  \n",
       "887  1.266990  \n",
       "888  0.789272  \n",
       "889  1.266990  \n",
       "890  0.789272  \n",
       "\n",
       "[891 rows x 8 columns]"
      ]
     },
     "execution_count": 216,
     "metadata": {},
     "output_type": "execute_result"
    }
   ],
   "source": [
    "z"
   ]
  },
  {
   "cell_type": "code",
   "execution_count": 217,
   "id": "010f3c49",
   "metadata": {},
   "outputs": [
    {
     "name": "stdout",
     "output_type": "stream",
     "text": [
      "(array([ 13,  16,  25,  27,  50,  59,  68,  71,  86,  88,  96, 116, 118,\n",
      "       119, 159, 164, 167, 171, 180, 182, 201, 233, 258, 261, 266, 278,\n",
      "       299, 311, 324, 341, 360, 377, 380, 386, 437, 438, 438, 480, 493,\n",
      "       527, 541, 542, 557, 567, 610, 630, 638, 672, 678, 679, 683, 686,\n",
      "       689, 700, 716, 730, 736, 737, 742, 745, 774, 779, 787, 792, 813,\n",
      "       824, 846, 850, 851, 858, 863, 885], dtype=int64), array([4, 3, 4, 5, 3, 3, 3, 3, 4, 5, 1, 1, 5, 3, 3, 3, 4, 3, 3, 3, 3, 3,\n",
      "       5, 3, 3, 3, 5, 5, 3, 5, 4, 5, 5, 3, 4, 4, 5, 3, 1, 5, 3, 3, 5, 4,\n",
      "       4, 1, 4, 1, 4, 5, 3, 3, 5, 5, 5, 5, 4, 5, 5, 1, 4, 5, 3, 3, 3, 3,\n",
      "       3, 3, 1, 4, 3, 4], dtype=int64))\n"
     ]
    }
   ],
   "source": [
    "print(np.where(z>3))"
   ]
  },
  {
   "cell_type": "code",
   "execution_count": 218,
   "id": "dcdafa25",
   "metadata": {},
   "outputs": [],
   "source": [
    "NEWDF=DF[(z<3).all(axis=1)]"
   ]
  },
  {
   "cell_type": "code",
   "execution_count": 219,
   "id": "8d6e90de",
   "metadata": {},
   "outputs": [
    {
     "data": {
      "text/html": [
       "<div>\n",
       "<style scoped>\n",
       "    .dataframe tbody tr th:only-of-type {\n",
       "        vertical-align: middle;\n",
       "    }\n",
       "\n",
       "    .dataframe tbody tr th {\n",
       "        vertical-align: top;\n",
       "    }\n",
       "\n",
       "    .dataframe thead th {\n",
       "        text-align: right;\n",
       "    }\n",
       "</style>\n",
       "<table border=\"1\" class=\"dataframe\">\n",
       "  <thead>\n",
       "    <tr style=\"text-align: right;\">\n",
       "      <th></th>\n",
       "      <th>Pclass</th>\n",
       "      <th>Age</th>\n",
       "      <th>Sex</th>\n",
       "      <th>SibSp</th>\n",
       "      <th>Parch</th>\n",
       "      <th>Fare</th>\n",
       "      <th>Embarked</th>\n",
       "      <th>Survived</th>\n",
       "    </tr>\n",
       "  </thead>\n",
       "  <tbody>\n",
       "    <tr>\n",
       "      <th>0</th>\n",
       "      <td>3</td>\n",
       "      <td>22.000000</td>\n",
       "      <td>1</td>\n",
       "      <td>1</td>\n",
       "      <td>0</td>\n",
       "      <td>7.2500</td>\n",
       "      <td>2</td>\n",
       "      <td>0</td>\n",
       "    </tr>\n",
       "    <tr>\n",
       "      <th>1</th>\n",
       "      <td>1</td>\n",
       "      <td>38.000000</td>\n",
       "      <td>0</td>\n",
       "      <td>1</td>\n",
       "      <td>0</td>\n",
       "      <td>71.2833</td>\n",
       "      <td>0</td>\n",
       "      <td>1</td>\n",
       "    </tr>\n",
       "    <tr>\n",
       "      <th>2</th>\n",
       "      <td>3</td>\n",
       "      <td>26.000000</td>\n",
       "      <td>0</td>\n",
       "      <td>0</td>\n",
       "      <td>0</td>\n",
       "      <td>7.9250</td>\n",
       "      <td>2</td>\n",
       "      <td>1</td>\n",
       "    </tr>\n",
       "    <tr>\n",
       "      <th>3</th>\n",
       "      <td>1</td>\n",
       "      <td>35.000000</td>\n",
       "      <td>0</td>\n",
       "      <td>1</td>\n",
       "      <td>0</td>\n",
       "      <td>53.1000</td>\n",
       "      <td>2</td>\n",
       "      <td>1</td>\n",
       "    </tr>\n",
       "    <tr>\n",
       "      <th>4</th>\n",
       "      <td>3</td>\n",
       "      <td>35.000000</td>\n",
       "      <td>1</td>\n",
       "      <td>0</td>\n",
       "      <td>0</td>\n",
       "      <td>8.0500</td>\n",
       "      <td>2</td>\n",
       "      <td>0</td>\n",
       "    </tr>\n",
       "    <tr>\n",
       "      <th>...</th>\n",
       "      <td>...</td>\n",
       "      <td>...</td>\n",
       "      <td>...</td>\n",
       "      <td>...</td>\n",
       "      <td>...</td>\n",
       "      <td>...</td>\n",
       "      <td>...</td>\n",
       "      <td>...</td>\n",
       "    </tr>\n",
       "    <tr>\n",
       "      <th>886</th>\n",
       "      <td>2</td>\n",
       "      <td>27.000000</td>\n",
       "      <td>1</td>\n",
       "      <td>0</td>\n",
       "      <td>0</td>\n",
       "      <td>13.0000</td>\n",
       "      <td>2</td>\n",
       "      <td>0</td>\n",
       "    </tr>\n",
       "    <tr>\n",
       "      <th>887</th>\n",
       "      <td>1</td>\n",
       "      <td>19.000000</td>\n",
       "      <td>0</td>\n",
       "      <td>0</td>\n",
       "      <td>0</td>\n",
       "      <td>30.0000</td>\n",
       "      <td>2</td>\n",
       "      <td>1</td>\n",
       "    </tr>\n",
       "    <tr>\n",
       "      <th>888</th>\n",
       "      <td>3</td>\n",
       "      <td>29.699118</td>\n",
       "      <td>0</td>\n",
       "      <td>1</td>\n",
       "      <td>2</td>\n",
       "      <td>23.4500</td>\n",
       "      <td>2</td>\n",
       "      <td>0</td>\n",
       "    </tr>\n",
       "    <tr>\n",
       "      <th>889</th>\n",
       "      <td>1</td>\n",
       "      <td>26.000000</td>\n",
       "      <td>1</td>\n",
       "      <td>0</td>\n",
       "      <td>0</td>\n",
       "      <td>30.0000</td>\n",
       "      <td>0</td>\n",
       "      <td>1</td>\n",
       "    </tr>\n",
       "    <tr>\n",
       "      <th>890</th>\n",
       "      <td>3</td>\n",
       "      <td>32.000000</td>\n",
       "      <td>1</td>\n",
       "      <td>0</td>\n",
       "      <td>0</td>\n",
       "      <td>7.7500</td>\n",
       "      <td>1</td>\n",
       "      <td>0</td>\n",
       "    </tr>\n",
       "  </tbody>\n",
       "</table>\n",
       "<p>820 rows × 8 columns</p>\n",
       "</div>"
      ],
      "text/plain": [
       "     Pclass        Age  Sex  SibSp  Parch     Fare  Embarked  Survived\n",
       "0         3  22.000000    1      1      0   7.2500         2         0\n",
       "1         1  38.000000    0      1      0  71.2833         0         1\n",
       "2         3  26.000000    0      0      0   7.9250         2         1\n",
       "3         1  35.000000    0      1      0  53.1000         2         1\n",
       "4         3  35.000000    1      0      0   8.0500         2         0\n",
       "..      ...        ...  ...    ...    ...      ...       ...       ...\n",
       "886       2  27.000000    1      0      0  13.0000         2         0\n",
       "887       1  19.000000    0      0      0  30.0000         2         1\n",
       "888       3  29.699118    0      1      2  23.4500         2         0\n",
       "889       1  26.000000    1      0      0  30.0000         0         1\n",
       "890       3  32.000000    1      0      0   7.7500         1         0\n",
       "\n",
       "[820 rows x 8 columns]"
      ]
     },
     "execution_count": 219,
     "metadata": {},
     "output_type": "execute_result"
    }
   ],
   "source": [
    "NEWDF"
   ]
  },
  {
   "cell_type": "markdown",
   "id": "58a94d1e",
   "metadata": {},
   "source": [
    "## DATA LOSS "
   ]
  },
  {
   "cell_type": "code",
   "execution_count": 220,
   "id": "38551438",
   "metadata": {},
   "outputs": [
    {
     "data": {
      "text/plain": [
       "(820, 8)"
      ]
     },
     "execution_count": 220,
     "metadata": {},
     "output_type": "execute_result"
    }
   ],
   "source": [
    "NEWDF.shape"
   ]
  },
  {
   "cell_type": "code",
   "execution_count": 69,
   "id": "8280933e",
   "metadata": {},
   "outputs": [
    {
     "data": {
      "text/plain": [
       "(891, 8)"
      ]
     },
     "execution_count": 69,
     "metadata": {},
     "output_type": "execute_result"
    }
   ],
   "source": [
    "DF.shape"
   ]
  },
  {
   "cell_type": "code",
   "execution_count": 70,
   "id": "86c69baa",
   "metadata": {},
   "outputs": [
    {
     "data": {
      "text/plain": [
       "0.07968574635241302"
      ]
     },
     "execution_count": 70,
     "metadata": {},
     "output_type": "execute_result"
    }
   ],
   "source": [
    "(891-820)/891"
   ]
  },
  {
   "cell_type": "markdown",
   "id": "a5714954",
   "metadata": {},
   "source": [
    "### THIS FALLS IN THE ACCEPTABLE RANGE OF 10%, HENCE WE WILL GO AHEAD WITH THE NEW DATA SET NEWDF"
   ]
  },
  {
   "cell_type": "markdown",
   "id": "944b1fb6",
   "metadata": {},
   "source": [
    "## SKEWNESS CHECK - VISUAL"
   ]
  },
  {
   "cell_type": "code",
   "execution_count": 80,
   "id": "92762a3d",
   "metadata": {},
   "outputs": [
    {
     "data": {
      "image/png": "[encoded data removed]",
      "text/plain": [
       "<Figure size 1296x720 with 12 Axes>"
      ]
     },
     "metadata": {
      "needs_background": "light"
     },
     "output_type": "display_data"
    }
   ],
   "source": [
    "NEWDF.plot(kind='density',subplots=True,figsize=(18,10),sharex=False,layout=(3,4))\n",
    "plt.show()"
   ]
  },
  {
   "cell_type": "markdown",
   "id": "2b7d0e89",
   "metadata": {},
   "source": [
    "### SKEWNESS IS PRESENT IN MANY COLUMNS WHICH WE WILL ADDRESS"
   ]
  },
  {
   "cell_type": "markdown",
   "id": "b99b4838",
   "metadata": {},
   "source": [
    "### OUR ACCEPTABLE RANGE OF SKEW IS +-0.50 "
   ]
  },
  {
   "cell_type": "code",
   "execution_count": 81,
   "id": "5aa7598f",
   "metadata": {},
   "outputs": [
    {
     "data": {
      "text/plain": [
       "Pclass     -0.632242\n",
       "Age         0.318314\n",
       "Sex        -0.664152\n",
       "SibSp       1.979577\n",
       "Parch       2.122629\n",
       "Fare        2.318761\n",
       "Embarked   -1.277386\n",
       "Survived    0.450825\n",
       "dtype: float64"
      ]
     },
     "execution_count": 81,
     "metadata": {},
     "output_type": "execute_result"
    }
   ],
   "source": [
    "NEWDF.skew()"
   ]
  },
  {
   "cell_type": "markdown",
   "id": "e0c43e6a",
   "metadata": {},
   "source": [
    "### SKEWNESS TO BE CONSIDERED ONLY FOR CONTINUOUS COLUMNS, THAT IS FARE ,SINCE THEY IT POSITIVE, WE WILL USE SQRT, CUBEROOT TOOL TO REMOVE THEM "
   ]
  },
  {
   "cell_type": "markdown",
   "id": "2eeb3974",
   "metadata": {},
   "source": [
    "### LOG TRANSFORMATION METHOD AND SQUARE ROOT METHOD HASNT WORKED WELL TO REDUCE SKEWNESS, WHERE AS CUBEROOT HAS WORKED SIGNIFICANTLY, EVEN THOUGH THE SKEWNESS IS ABOVE OUR DESIRED RANGE WE HAVE TO GO AHEAD WITH IT"
   ]
  },
  {
   "cell_type": "markdown",
   "id": "0204ab23",
   "metadata": {},
   "source": [
    "## SEPARATING X AND Y"
   ]
  },
  {
   "cell_type": "code",
   "execution_count": 82,
   "id": "374ee296",
   "metadata": {},
   "outputs": [],
   "source": [
    "x=NEWDF.iloc[:,0:7]"
   ]
  },
  {
   "cell_type": "code",
   "execution_count": 83,
   "id": "4fe4a898",
   "metadata": {},
   "outputs": [],
   "source": [
    "y=NEWDF.iloc[:,-1]"
   ]
  },
  {
   "cell_type": "code",
   "execution_count": 84,
   "id": "f90b2f87",
   "metadata": {},
   "outputs": [
    {
     "data": {
      "text/html": [
       "<div>\n",
       "<style scoped>\n",
       "    .dataframe tbody tr th:only-of-type {\n",
       "        vertical-align: middle;\n",
       "    }\n",
       "\n",
       "    .dataframe tbody tr th {\n",
       "        vertical-align: top;\n",
       "    }\n",
       "\n",
       "    .dataframe thead th {\n",
       "        text-align: right;\n",
       "    }\n",
       "</style>\n",
       "<table border=\"1\" class=\"dataframe\">\n",
       "  <thead>\n",
       "    <tr style=\"text-align: right;\">\n",
       "      <th></th>\n",
       "      <th>Pclass</th>\n",
       "      <th>Age</th>\n",
       "      <th>Sex</th>\n",
       "      <th>SibSp</th>\n",
       "      <th>Parch</th>\n",
       "      <th>Fare</th>\n",
       "      <th>Embarked</th>\n",
       "    </tr>\n",
       "  </thead>\n",
       "  <tbody>\n",
       "    <tr>\n",
       "      <th>0</th>\n",
       "      <td>3</td>\n",
       "      <td>22.000000</td>\n",
       "      <td>1</td>\n",
       "      <td>1</td>\n",
       "      <td>0</td>\n",
       "      <td>7.2500</td>\n",
       "      <td>2</td>\n",
       "    </tr>\n",
       "    <tr>\n",
       "      <th>1</th>\n",
       "      <td>1</td>\n",
       "      <td>38.000000</td>\n",
       "      <td>0</td>\n",
       "      <td>1</td>\n",
       "      <td>0</td>\n",
       "      <td>71.2833</td>\n",
       "      <td>0</td>\n",
       "    </tr>\n",
       "    <tr>\n",
       "      <th>2</th>\n",
       "      <td>3</td>\n",
       "      <td>26.000000</td>\n",
       "      <td>0</td>\n",
       "      <td>0</td>\n",
       "      <td>0</td>\n",
       "      <td>7.9250</td>\n",
       "      <td>2</td>\n",
       "    </tr>\n",
       "    <tr>\n",
       "      <th>3</th>\n",
       "      <td>1</td>\n",
       "      <td>35.000000</td>\n",
       "      <td>0</td>\n",
       "      <td>1</td>\n",
       "      <td>0</td>\n",
       "      <td>53.1000</td>\n",
       "      <td>2</td>\n",
       "    </tr>\n",
       "    <tr>\n",
       "      <th>4</th>\n",
       "      <td>3</td>\n",
       "      <td>35.000000</td>\n",
       "      <td>1</td>\n",
       "      <td>0</td>\n",
       "      <td>0</td>\n",
       "      <td>8.0500</td>\n",
       "      <td>2</td>\n",
       "    </tr>\n",
       "    <tr>\n",
       "      <th>...</th>\n",
       "      <td>...</td>\n",
       "      <td>...</td>\n",
       "      <td>...</td>\n",
       "      <td>...</td>\n",
       "      <td>...</td>\n",
       "      <td>...</td>\n",
       "      <td>...</td>\n",
       "    </tr>\n",
       "    <tr>\n",
       "      <th>886</th>\n",
       "      <td>2</td>\n",
       "      <td>27.000000</td>\n",
       "      <td>1</td>\n",
       "      <td>0</td>\n",
       "      <td>0</td>\n",
       "      <td>13.0000</td>\n",
       "      <td>2</td>\n",
       "    </tr>\n",
       "    <tr>\n",
       "      <th>887</th>\n",
       "      <td>1</td>\n",
       "      <td>19.000000</td>\n",
       "      <td>0</td>\n",
       "      <td>0</td>\n",
       "      <td>0</td>\n",
       "      <td>30.0000</td>\n",
       "      <td>2</td>\n",
       "    </tr>\n",
       "    <tr>\n",
       "      <th>888</th>\n",
       "      <td>3</td>\n",
       "      <td>29.699118</td>\n",
       "      <td>0</td>\n",
       "      <td>1</td>\n",
       "      <td>2</td>\n",
       "      <td>23.4500</td>\n",
       "      <td>2</td>\n",
       "    </tr>\n",
       "    <tr>\n",
       "      <th>889</th>\n",
       "      <td>1</td>\n",
       "      <td>26.000000</td>\n",
       "      <td>1</td>\n",
       "      <td>0</td>\n",
       "      <td>0</td>\n",
       "      <td>30.0000</td>\n",
       "      <td>0</td>\n",
       "    </tr>\n",
       "    <tr>\n",
       "      <th>890</th>\n",
       "      <td>3</td>\n",
       "      <td>32.000000</td>\n",
       "      <td>1</td>\n",
       "      <td>0</td>\n",
       "      <td>0</td>\n",
       "      <td>7.7500</td>\n",
       "      <td>1</td>\n",
       "    </tr>\n",
       "  </tbody>\n",
       "</table>\n",
       "<p>820 rows × 7 columns</p>\n",
       "</div>"
      ],
      "text/plain": [
       "     Pclass        Age  Sex  SibSp  Parch     Fare  Embarked\n",
       "0         3  22.000000    1      1      0   7.2500         2\n",
       "1         1  38.000000    0      1      0  71.2833         0\n",
       "2         3  26.000000    0      0      0   7.9250         2\n",
       "3         1  35.000000    0      1      0  53.1000         2\n",
       "4         3  35.000000    1      0      0   8.0500         2\n",
       "..      ...        ...  ...    ...    ...      ...       ...\n",
       "886       2  27.000000    1      0      0  13.0000         2\n",
       "887       1  19.000000    0      0      0  30.0000         2\n",
       "888       3  29.699118    0      1      2  23.4500         2\n",
       "889       1  26.000000    1      0      0  30.0000         0\n",
       "890       3  32.000000    1      0      0   7.7500         1\n",
       "\n",
       "[820 rows x 7 columns]"
      ]
     },
     "execution_count": 84,
     "metadata": {},
     "output_type": "execute_result"
    }
   ],
   "source": [
    "x"
   ]
  },
  {
   "cell_type": "code",
   "execution_count": 85,
   "id": "a49ae3b8",
   "metadata": {},
   "outputs": [
    {
     "data": {
      "text/plain": [
       "0      0\n",
       "1      1\n",
       "2      1\n",
       "3      1\n",
       "4      0\n",
       "      ..\n",
       "886    0\n",
       "887    1\n",
       "888    0\n",
       "889    1\n",
       "890    0\n",
       "Name: Survived, Length: 820, dtype: int64"
      ]
     },
     "execution_count": 85,
     "metadata": {},
     "output_type": "execute_result"
    }
   ],
   "source": [
    "y"
   ]
  },
  {
   "cell_type": "markdown",
   "id": "85ec8f4c",
   "metadata": {},
   "source": [
    "## MULTICOLINEARITY CHECK -VIF"
   ]
  },
  {
   "cell_type": "code",
   "execution_count": 86,
   "id": "e38cda23",
   "metadata": {},
   "outputs": [],
   "source": [
    "from scipy import stats"
   ]
  },
  {
   "cell_type": "code",
   "execution_count": 87,
   "id": "79ab88a5",
   "metadata": {},
   "outputs": [],
   "source": [
    "from statsmodels.stats.outliers_influence import variance_inflation_factor"
   ]
  },
  {
   "cell_type": "code",
   "execution_count": 88,
   "id": "99722318",
   "metadata": {},
   "outputs": [],
   "source": [
    "def cal_vif(x):\n",
    "    vif=pd.DataFrame()\n",
    "    vif['Variables']=x.columns\n",
    "    vif['VIF_FACTOR']=[variance_inflation_factor(x.values,i)for i in range(x.shape[1])]\n",
    "    return(vif)"
   ]
  },
  {
   "cell_type": "code",
   "execution_count": 89,
   "id": "95695306",
   "metadata": {},
   "outputs": [
    {
     "data": {
      "text/html": [
       "<div>\n",
       "<style scoped>\n",
       "    .dataframe tbody tr th:only-of-type {\n",
       "        vertical-align: middle;\n",
       "    }\n",
       "\n",
       "    .dataframe tbody tr th {\n",
       "        vertical-align: top;\n",
       "    }\n",
       "\n",
       "    .dataframe thead th {\n",
       "        text-align: right;\n",
       "    }\n",
       "</style>\n",
       "<table border=\"1\" class=\"dataframe\">\n",
       "  <thead>\n",
       "    <tr style=\"text-align: right;\">\n",
       "      <th></th>\n",
       "      <th>Variables</th>\n",
       "      <th>VIF_FACTOR</th>\n",
       "    </tr>\n",
       "  </thead>\n",
       "  <tbody>\n",
       "    <tr>\n",
       "      <th>0</th>\n",
       "      <td>Pclass</td>\n",
       "      <td>6.075940</td>\n",
       "    </tr>\n",
       "    <tr>\n",
       "      <th>1</th>\n",
       "      <td>Age</td>\n",
       "      <td>5.977219</td>\n",
       "    </tr>\n",
       "    <tr>\n",
       "      <th>2</th>\n",
       "      <td>Sex</td>\n",
       "      <td>3.183474</td>\n",
       "    </tr>\n",
       "    <tr>\n",
       "      <th>3</th>\n",
       "      <td>SibSp</td>\n",
       "      <td>1.561938</td>\n",
       "    </tr>\n",
       "    <tr>\n",
       "      <th>4</th>\n",
       "      <td>Parch</td>\n",
       "      <td>1.515971</td>\n",
       "    </tr>\n",
       "    <tr>\n",
       "      <th>5</th>\n",
       "      <td>Fare</td>\n",
       "      <td>2.454890</td>\n",
       "    </tr>\n",
       "    <tr>\n",
       "      <th>6</th>\n",
       "      <td>Embarked</td>\n",
       "      <td>4.615609</td>\n",
       "    </tr>\n",
       "  </tbody>\n",
       "</table>\n",
       "</div>"
      ],
      "text/plain": [
       "  Variables  VIF_FACTOR\n",
       "0    Pclass    6.075940\n",
       "1       Age    5.977219\n",
       "2       Sex    3.183474\n",
       "3     SibSp    1.561938\n",
       "4     Parch    1.515971\n",
       "5      Fare    2.454890\n",
       "6  Embarked    4.615609"
      ]
     },
     "execution_count": 89,
     "metadata": {},
     "output_type": "execute_result"
    }
   ],
   "source": [
    "cal_vif(x)"
   ]
  },
  {
   "cell_type": "markdown",
   "id": "8fc2f7ba",
   "metadata": {},
   "source": [
    "### VIF IS BELOW 10, HENCE WE CAN CONCLUDE THAT THERE IS NO MULTICOLINEARITY"
   ]
  },
  {
   "cell_type": "markdown",
   "id": "29047cc0",
   "metadata": {},
   "source": [
    "## SKEWNESS CHECK- POWER TRANSFORM & POWER TRANSFORMER "
   ]
  },
  {
   "cell_type": "code",
   "execution_count": 90,
   "id": "30346cea",
   "metadata": {},
   "outputs": [],
   "source": [
    "from sklearn.preprocessing import power_transform"
   ]
  },
  {
   "cell_type": "code",
   "execution_count": 91,
   "id": "cabb812a",
   "metadata": {},
   "outputs": [],
   "source": [
    "xnew=power_transform(x)"
   ]
  },
  {
   "cell_type": "code",
   "execution_count": 92,
   "id": "8f50855b",
   "metadata": {},
   "outputs": [],
   "source": [
    "a=pd.DataFrame(xnew, columns=x.columns).skew().sort_values(ascending=True)"
   ]
  },
  {
   "cell_type": "code",
   "execution_count": 93,
   "id": "eb772cb0",
   "metadata": {},
   "outputs": [
    {
     "data": {
      "text/plain": [
       "Embarked   -1.073724\n",
       "Sex        -0.664152\n",
       "Pclass     -0.429718\n",
       "Fare       -0.018602\n",
       "Age         0.071813\n",
       "SibSp       0.948944\n",
       "Parch       1.581505\n",
       "dtype: float64"
      ]
     },
     "execution_count": 93,
     "metadata": {},
     "output_type": "execute_result"
    }
   ],
   "source": [
    "a"
   ]
  },
  {
   "cell_type": "markdown",
   "id": "363b0822",
   "metadata": {},
   "source": [
    "### CATEGORICAL & DISCREET COLUMNS - SEX, EMBARKED, PCLASS,SIBSP AND PARCH -THEIR SKEWNESS ARE TO BE IGNORED "
   ]
  },
  {
   "cell_type": "markdown",
   "id": "fd2ef9e3",
   "metadata": {},
   "source": [
    "## CONTINUOUS COLUMNS- AGE & FARE , THEIR SKEWNESS HAVE BEEN CORRECTED "
   ]
  },
  {
   "cell_type": "markdown",
   "id": "74f3fa7a",
   "metadata": {},
   "source": [
    "### OLD DISTRIBUTION "
   ]
  },
  {
   "cell_type": "code",
   "execution_count": 221,
   "id": "60ae1a59",
   "metadata": {},
   "outputs": [
    {
     "name": "stderr",
     "output_type": "stream",
     "text": [
      "C:\\Users\\DELL\\anaconda3\\lib\\site-packages\\seaborn\\distributions.py:2619: FutureWarning: `distplot` is a deprecated function and will be removed in a future version. Please adapt your code to use either `displot` (a figure-level function with similar flexibility) or `histplot` (an axes-level function for histograms).\n",
      "  warnings.warn(msg, FutureWarning)\n"
     ]
    },
    {
     "data": {
      "text/plain": [
       "<AxesSubplot:ylabel='Density'>"
      ]
     },
     "execution_count": 221,
     "metadata": {},
     "output_type": "execute_result"
    },
    {
     "data": {
      "image/png": "[encoded data removed]",
      "text/plain": [
       "<Figure size 432x288 with 1 Axes>"
      ]
     },
     "metadata": {
      "needs_background": "light"
     },
     "output_type": "display_data"
    }
   ],
   "source": [
    "sns.distplot((x),kde=True)"
   ]
  },
  {
   "cell_type": "code",
   "execution_count": 317,
   "id": "b3e35223",
   "metadata": {},
   "outputs": [
    {
     "data": {
      "text/plain": [
       "<AxesSubplot:ylabel='Count'>"
      ]
     },
     "execution_count": 317,
     "metadata": {},
     "output_type": "execute_result"
    },
    {
     "data": {
      "image/png": "[encoded data removed]",
      "text/plain": [
       "<Figure size 432x288 with 1 Axes>"
      ]
     },
     "metadata": {
      "needs_background": "light"
     },
     "output_type": "display_data"
    }
   ],
   "source": [
    "sns.histplot((x),kde=True)"
   ]
  },
  {
   "cell_type": "code",
   "execution_count": null,
   "id": "0c1850ac",
   "metadata": {},
   "outputs": [],
   "source": []
  },
  {
   "cell_type": "markdown",
   "id": "5e7911bc",
   "metadata": {},
   "source": [
    "# NEW DISTRIBUTION "
   ]
  },
  {
   "cell_type": "code",
   "execution_count": 222,
   "id": "7c3dae36",
   "metadata": {},
   "outputs": [
    {
     "name": "stderr",
     "output_type": "stream",
     "text": [
      "C:\\Users\\DELL\\anaconda3\\lib\\site-packages\\seaborn\\distributions.py:2619: FutureWarning: `distplot` is a deprecated function and will be removed in a future version. Please adapt your code to use either `displot` (a figure-level function with similar flexibility) or `histplot` (an axes-level function for histograms).\n",
      "  warnings.warn(msg, FutureWarning)\n"
     ]
    },
    {
     "data": {
      "text/plain": [
       "<AxesSubplot:ylabel='Density'>"
      ]
     },
     "execution_count": 222,
     "metadata": {},
     "output_type": "execute_result"
    },
    {
     "data": {
      "image/png": "[encoded data removed]",
      "text/plain": [
       "<Figure size 432x288 with 1 Axes>"
      ]
     },
     "metadata": {
      "needs_background": "light"
     },
     "output_type": "display_data"
    }
   ],
   "source": [
    "sns.distplot((xnew),kde=True)"
   ]
  },
  {
   "cell_type": "code",
   "execution_count": 318,
   "id": "09c90679",
   "metadata": {},
   "outputs": [
    {
     "data": {
      "text/plain": [
       "<AxesSubplot:ylabel='Count'>"
      ]
     },
     "execution_count": 318,
     "metadata": {},
     "output_type": "execute_result"
    },
    {
     "data": {
      "image/png": "[encoded data removed]",
      "text/plain": [
       "<Figure size 432x288 with 1 Axes>"
      ]
     },
     "metadata": {
      "needs_background": "light"
     },
     "output_type": "display_data"
    }
   ],
   "source": [
    "sns.histplot((xnew),kde=True)"
   ]
  },
  {
   "cell_type": "code",
   "execution_count": null,
   "id": "2c7d3d73",
   "metadata": {},
   "outputs": [],
   "source": []
  },
  {
   "cell_type": "markdown",
   "id": "7aaf2300",
   "metadata": {},
   "source": [
    "## BALANCING THE DATA SET"
   ]
  },
  {
   "cell_type": "code",
   "execution_count": 94,
   "id": "69290a35",
   "metadata": {},
   "outputs": [],
   "source": [
    "from imblearn.over_sampling import SMOTE"
   ]
  },
  {
   "cell_type": "code",
   "execution_count": 95,
   "id": "535ae16f",
   "metadata": {},
   "outputs": [],
   "source": [
    "smt=SMOTE()"
   ]
  },
  {
   "cell_type": "code",
   "execution_count": 96,
   "id": "1650a715",
   "metadata": {},
   "outputs": [],
   "source": [
    "x1,y1=smt.fit_resample(xnew,y)"
   ]
  },
  {
   "cell_type": "code",
   "execution_count": 97,
   "id": "cd660231",
   "metadata": {},
   "outputs": [
    {
     "data": {
      "text/plain": [
       "(1000, 7)"
      ]
     },
     "execution_count": 97,
     "metadata": {},
     "output_type": "execute_result"
    }
   ],
   "source": [
    "x1.shape"
   ]
  },
  {
   "cell_type": "code",
   "execution_count": 98,
   "id": "a96a0445",
   "metadata": {},
   "outputs": [
    {
     "data": {
      "text/plain": [
       "(1000,)"
      ]
     },
     "execution_count": 98,
     "metadata": {},
     "output_type": "execute_result"
    }
   ],
   "source": [
    "y1.shape"
   ]
  },
  {
   "cell_type": "code",
   "execution_count": 99,
   "id": "c73bd937",
   "metadata": {},
   "outputs": [
    {
     "data": {
      "text/plain": [
       "0    500\n",
       "1    500\n",
       "Name: Survived, dtype: int64"
      ]
     },
     "execution_count": 99,
     "metadata": {},
     "output_type": "execute_result"
    }
   ],
   "source": [
    "y1.value_counts()"
   ]
  },
  {
   "cell_type": "markdown",
   "id": "5d27cd6b",
   "metadata": {},
   "source": [
    "## SCALING THE DATA SET"
   ]
  },
  {
   "cell_type": "markdown",
   "id": "dc56103f",
   "metadata": {},
   "source": [
    "### WHILE REMOVING SKEWNESS WE HAD USED POWER_TRANSFORM METHOD, THIS HAS SCALED THE DATA SET (X), HENCE NO NEED FOR SCALING THE MODEL AGAIN "
   ]
  },
  {
   "cell_type": "markdown",
   "id": "71b4ac13",
   "metadata": {},
   "source": [
    "## LOGISTIC REGRESSION"
   ]
  },
  {
   "cell_type": "code",
   "execution_count": 100,
   "id": "69e5960d",
   "metadata": {},
   "outputs": [],
   "source": [
    "from sklearn.model_selection import train_test_split\n",
    "from sklearn.metrics import r2_score\n",
    "from sklearn.metrics import accuracy_score,confusion_matrix,classification_report\n",
    "from sklearn.model_selection import GridSearchCV\n",
    "from sklearn.svm import SVC\n",
    "from sklearn.tree import DecisionTreeClassifier\n",
    "from sklearn.neighbors import KNeighborsClassifier\n",
    "from sklearn.ensemble import RandomForestClassifier\n",
    "from sklearn.model_selection import cross_val_score\n",
    "from sklearn.naive_bayes import MultinomialNB\n",
    "from sklearn.linear_model import LogisticRegression\n",
    "from sklearn.ensemble import GradientBoostingClassifier"
   ]
  },
  {
   "cell_type": "code",
   "execution_count": 101,
   "id": "afda6cb7",
   "metadata": {},
   "outputs": [],
   "source": [
    "lr=LogisticRegression()"
   ]
  },
  {
   "cell_type": "code",
   "execution_count": 102,
   "id": "3c1ac35f",
   "metadata": {},
   "outputs": [
    {
     "name": "stdout",
     "output_type": "stream",
     "text": [
      "At random_state {0} the training accuracy test is 0.7925\n",
      "At random_state {0} the testing accuracy test is 0.795\n",
      "\n",
      "\n",
      "At random_state {1} the training accuracy test is 0.80625\n",
      "At random_state {1} the testing accuracy test is 0.7\n",
      "\n",
      "\n",
      "At random_state {2} the training accuracy test is 0.79125\n",
      "At random_state {2} the testing accuracy test is 0.785\n",
      "\n",
      "\n",
      "At random_state {3} the training accuracy test is 0.7975\n",
      "At random_state {3} the testing accuracy test is 0.795\n",
      "\n",
      "\n",
      "At random_state {4} the training accuracy test is 0.78625\n",
      "At random_state {4} the testing accuracy test is 0.81\n",
      "\n",
      "\n",
      "At random_state {5} the training accuracy test is 0.80375\n",
      "At random_state {5} the testing accuracy test is 0.765\n",
      "\n",
      "\n",
      "At random_state {6} the training accuracy test is 0.795\n",
      "At random_state {6} the testing accuracy test is 0.79\n",
      "\n",
      "\n",
      "At random_state {7} the training accuracy test is 0.7925\n",
      "At random_state {7} the testing accuracy test is 0.8\n",
      "\n",
      "\n",
      "At random_state {8} the training accuracy test is 0.8075\n",
      "At random_state {8} the testing accuracy test is 0.77\n",
      "\n",
      "\n",
      "At random_state {9} the training accuracy test is 0.7875\n",
      "At random_state {9} the testing accuracy test is 0.805\n",
      "\n",
      "\n",
      "At random_state {10} the training accuracy test is 0.79875\n",
      "At random_state {10} the testing accuracy test is 0.775\n",
      "\n",
      "\n",
      "At random_state {11} the training accuracy test is 0.795\n",
      "At random_state {11} the testing accuracy test is 0.805\n",
      "\n",
      "\n",
      "At random_state {12} the training accuracy test is 0.785\n",
      "At random_state {12} the testing accuracy test is 0.82\n",
      "\n",
      "\n",
      "At random_state {13} the training accuracy test is 0.79\n",
      "At random_state {13} the testing accuracy test is 0.795\n",
      "\n",
      "\n",
      "At random_state {14} the training accuracy test is 0.79375\n",
      "At random_state {14} the testing accuracy test is 0.815\n",
      "\n",
      "\n",
      "At random_state {15} the training accuracy test is 0.79375\n",
      "At random_state {15} the testing accuracy test is 0.79\n",
      "\n",
      "\n",
      "At random_state {16} the training accuracy test is 0.80125\n",
      "At random_state {16} the testing accuracy test is 0.765\n",
      "\n",
      "\n",
      "At random_state {17} the training accuracy test is 0.79125\n",
      "At random_state {17} the testing accuracy test is 0.805\n",
      "\n",
      "\n",
      "At random_state {18} the training accuracy test is 0.78\n",
      "At random_state {18} the testing accuracy test is 0.84\n",
      "\n",
      "\n",
      "At random_state {19} the training accuracy test is 0.80875\n",
      "At random_state {19} the testing accuracy test is 0.73\n",
      "\n",
      "\n",
      "At random_state {20} the training accuracy test is 0.79625\n",
      "At random_state {20} the testing accuracy test is 0.795\n",
      "\n",
      "\n",
      "At random_state {21} the training accuracy test is 0.79125\n",
      "At random_state {21} the testing accuracy test is 0.805\n",
      "\n",
      "\n",
      "At random_state {22} the training accuracy test is 0.77625\n",
      "At random_state {22} the testing accuracy test is 0.86\n",
      "\n",
      "\n",
      "At random_state {23} the training accuracy test is 0.79375\n",
      "At random_state {23} the testing accuracy test is 0.795\n",
      "\n",
      "\n",
      "At random_state {24} the training accuracy test is 0.795\n",
      "At random_state {24} the testing accuracy test is 0.785\n",
      "\n",
      "\n",
      "At random_state {25} the training accuracy test is 0.80125\n",
      "At random_state {25} the testing accuracy test is 0.77\n",
      "\n",
      "\n",
      "At random_state {26} the training accuracy test is 0.79125\n",
      "At random_state {26} the testing accuracy test is 0.81\n",
      "\n",
      "\n",
      "At random_state {27} the training accuracy test is 0.79\n",
      "At random_state {27} the testing accuracy test is 0.82\n",
      "\n",
      "\n",
      "At random_state {28} the training accuracy test is 0.81125\n",
      "At random_state {28} the testing accuracy test is 0.74\n",
      "\n",
      "\n",
      "At random_state {29} the training accuracy test is 0.80125\n",
      "At random_state {29} the testing accuracy test is 0.75\n",
      "\n",
      "\n",
      "At random_state {30} the training accuracy test is 0.795\n",
      "At random_state {30} the testing accuracy test is 0.805\n",
      "\n",
      "\n",
      "At random_state {31} the training accuracy test is 0.8\n",
      "At random_state {31} the testing accuracy test is 0.765\n",
      "\n",
      "\n",
      "At random_state {32} the training accuracy test is 0.79375\n",
      "At random_state {32} the testing accuracy test is 0.765\n",
      "\n",
      "\n",
      "At random_state {33} the training accuracy test is 0.79\n",
      "At random_state {33} the testing accuracy test is 0.8\n",
      "\n",
      "\n",
      "At random_state {34} the training accuracy test is 0.78625\n",
      "At random_state {34} the testing accuracy test is 0.83\n",
      "\n",
      "\n",
      "At random_state {35} the training accuracy test is 0.79125\n",
      "At random_state {35} the testing accuracy test is 0.81\n",
      "\n",
      "\n",
      "At random_state {36} the training accuracy test is 0.81\n",
      "At random_state {36} the testing accuracy test is 0.755\n",
      "\n",
      "\n",
      "At random_state {37} the training accuracy test is 0.8025\n",
      "At random_state {37} the testing accuracy test is 0.755\n",
      "\n",
      "\n",
      "At random_state {38} the training accuracy test is 0.78875\n",
      "At random_state {38} the testing accuracy test is 0.82\n",
      "\n",
      "\n",
      "At random_state {39} the training accuracy test is 0.8075\n",
      "At random_state {39} the testing accuracy test is 0.755\n",
      "\n",
      "\n",
      "At random_state {40} the training accuracy test is 0.80125\n",
      "At random_state {40} the testing accuracy test is 0.765\n",
      "\n",
      "\n",
      "At random_state {41} the training accuracy test is 0.78125\n",
      "At random_state {41} the testing accuracy test is 0.805\n",
      "\n",
      "\n",
      "At random_state {42} the training accuracy test is 0.80125\n",
      "At random_state {42} the testing accuracy test is 0.775\n",
      "\n",
      "\n",
      "At random_state {43} the training accuracy test is 0.79125\n",
      "At random_state {43} the testing accuracy test is 0.795\n",
      "\n",
      "\n",
      "At random_state {44} the training accuracy test is 0.785\n",
      "At random_state {44} the testing accuracy test is 0.815\n",
      "\n",
      "\n",
      "At random_state {45} the training accuracy test is 0.7925\n",
      "At random_state {45} the testing accuracy test is 0.775\n",
      "\n",
      "\n",
      "At random_state {46} the training accuracy test is 0.7975\n",
      "At random_state {46} the testing accuracy test is 0.775\n",
      "\n",
      "\n",
      "At random_state {47} the training accuracy test is 0.785\n",
      "At random_state {47} the testing accuracy test is 0.845\n",
      "\n",
      "\n",
      "At random_state {48} the training accuracy test is 0.8\n",
      "At random_state {48} the testing accuracy test is 0.8\n",
      "\n",
      "\n",
      "At random_state {49} the training accuracy test is 0.7975\n",
      "At random_state {49} the testing accuracy test is 0.78\n",
      "\n",
      "\n",
      "At random_state {50} the training accuracy test is 0.80125\n",
      "At random_state {50} the testing accuracy test is 0.775\n",
      "\n",
      "\n",
      "At random_state {51} the training accuracy test is 0.79375\n",
      "At random_state {51} the testing accuracy test is 0.785\n",
      "\n",
      "\n",
      "At random_state {52} the training accuracy test is 0.79\n",
      "At random_state {52} the testing accuracy test is 0.8\n",
      "\n",
      "\n",
      "At random_state {53} the training accuracy test is 0.78625\n",
      "At random_state {53} the testing accuracy test is 0.835\n",
      "\n",
      "\n",
      "At random_state {54} the training accuracy test is 0.79125\n",
      "At random_state {54} the testing accuracy test is 0.785\n",
      "\n",
      "\n",
      "At random_state {55} the training accuracy test is 0.81\n",
      "At random_state {55} the testing accuracy test is 0.715\n",
      "\n",
      "\n",
      "At random_state {56} the training accuracy test is 0.8025\n",
      "At random_state {56} the testing accuracy test is 0.78\n",
      "\n",
      "\n",
      "At random_state {57} the training accuracy test is 0.795\n",
      "At random_state {57} the testing accuracy test is 0.795\n",
      "\n",
      "\n",
      "At random_state {58} the training accuracy test is 0.79125\n",
      "At random_state {58} the testing accuracy test is 0.8\n",
      "\n",
      "\n",
      "At random_state {59} the training accuracy test is 0.7975\n",
      "At random_state {59} the testing accuracy test is 0.775\n",
      "\n",
      "\n",
      "At random_state {60} the training accuracy test is 0.79125\n",
      "At random_state {60} the testing accuracy test is 0.805\n",
      "\n",
      "\n",
      "At random_state {61} the training accuracy test is 0.8075\n",
      "At random_state {61} the testing accuracy test is 0.745\n",
      "\n",
      "\n",
      "At random_state {62} the training accuracy test is 0.79875\n",
      "At random_state {62} the testing accuracy test is 0.775\n",
      "\n",
      "\n",
      "At random_state {63} the training accuracy test is 0.79125\n",
      "At random_state {63} the testing accuracy test is 0.8\n",
      "\n",
      "\n",
      "At random_state {64} the training accuracy test is 0.7975\n",
      "At random_state {64} the testing accuracy test is 0.775\n",
      "\n",
      "\n",
      "At random_state {65} the training accuracy test is 0.79875\n",
      "At random_state {65} the testing accuracy test is 0.78\n",
      "\n",
      "\n",
      "At random_state {66} the training accuracy test is 0.795\n",
      "At random_state {66} the testing accuracy test is 0.775\n",
      "\n",
      "\n",
      "At random_state {67} the training accuracy test is 0.79625\n",
      "At random_state {67} the testing accuracy test is 0.775\n",
      "\n",
      "\n",
      "At random_state {68} the training accuracy test is 0.7925\n",
      "At random_state {68} the testing accuracy test is 0.795\n",
      "\n",
      "\n",
      "At random_state {69} the training accuracy test is 0.79375\n",
      "At random_state {69} the testing accuracy test is 0.77\n",
      "\n",
      "\n",
      "At random_state {70} the training accuracy test is 0.795\n",
      "At random_state {70} the testing accuracy test is 0.77\n",
      "\n",
      "\n",
      "At random_state {71} the training accuracy test is 0.81125\n",
      "At random_state {71} the testing accuracy test is 0.73\n",
      "\n",
      "\n",
      "At random_state {72} the training accuracy test is 0.79625\n",
      "At random_state {72} the testing accuracy test is 0.775\n",
      "\n",
      "\n",
      "At random_state {73} the training accuracy test is 0.81\n",
      "At random_state {73} the testing accuracy test is 0.745\n",
      "\n",
      "\n",
      "At random_state {74} the training accuracy test is 0.79125\n",
      "At random_state {74} the testing accuracy test is 0.815\n",
      "\n",
      "\n",
      "At random_state {75} the training accuracy test is 0.78\n",
      "At random_state {75} the testing accuracy test is 0.835\n",
      "\n",
      "\n",
      "At random_state {76} the training accuracy test is 0.7975\n",
      "At random_state {76} the testing accuracy test is 0.785\n",
      "\n",
      "\n",
      "At random_state {77} the training accuracy test is 0.79625\n",
      "At random_state {77} the testing accuracy test is 0.78\n",
      "\n",
      "\n",
      "At random_state {78} the training accuracy test is 0.79625\n",
      "At random_state {78} the testing accuracy test is 0.785\n",
      "\n",
      "\n",
      "At random_state {79} the training accuracy test is 0.79375\n",
      "At random_state {79} the testing accuracy test is 0.805\n",
      "\n",
      "\n",
      "At random_state {80} the training accuracy test is 0.79875\n",
      "At random_state {80} the testing accuracy test is 0.78\n",
      "\n",
      "\n",
      "At random_state {81} the training accuracy test is 0.80375\n",
      "At random_state {81} the testing accuracy test is 0.76\n",
      "\n",
      "\n",
      "At random_state {82} the training accuracy test is 0.80375\n",
      "At random_state {82} the testing accuracy test is 0.75\n",
      "\n",
      "\n",
      "At random_state {83} the training accuracy test is 0.78875\n",
      "At random_state {83} the testing accuracy test is 0.825\n",
      "\n",
      "\n",
      "At random_state {84} the training accuracy test is 0.8025\n",
      "At random_state {84} the testing accuracy test is 0.76\n",
      "\n",
      "\n",
      "At random_state {85} the training accuracy test is 0.79375\n",
      "At random_state {85} the testing accuracy test is 0.81\n",
      "\n",
      "\n",
      "At random_state {86} the training accuracy test is 0.8\n",
      "At random_state {86} the testing accuracy test is 0.785\n",
      "\n",
      "\n",
      "At random_state {87} the training accuracy test is 0.80375\n",
      "At random_state {87} the testing accuracy test is 0.735\n",
      "\n",
      "\n",
      "At random_state {88} the training accuracy test is 0.79875\n",
      "At random_state {88} the testing accuracy test is 0.78\n",
      "\n",
      "\n",
      "At random_state {89} the training accuracy test is 0.79625\n",
      "At random_state {89} the testing accuracy test is 0.77\n",
      "\n",
      "\n",
      "At random_state {90} the training accuracy test is 0.7925\n",
      "At random_state {90} the testing accuracy test is 0.785\n",
      "\n",
      "\n",
      "At random_state {91} the training accuracy test is 0.79375\n",
      "At random_state {91} the testing accuracy test is 0.795\n",
      "\n",
      "\n",
      "At random_state {92} the training accuracy test is 0.795\n",
      "At random_state {92} the testing accuracy test is 0.8\n",
      "\n",
      "\n",
      "At random_state {93} the training accuracy test is 0.79625\n",
      "At random_state {93} the testing accuracy test is 0.785\n",
      "\n",
      "\n",
      "At random_state {94} the training accuracy test is 0.78875\n",
      "At random_state {94} the testing accuracy test is 0.845\n",
      "\n",
      "\n",
      "At random_state {95} the training accuracy test is 0.79375\n",
      "At random_state {95} the testing accuracy test is 0.785\n",
      "\n",
      "\n",
      "At random_state {96} the training accuracy test is 0.795\n",
      "At random_state {96} the testing accuracy test is 0.81\n",
      "\n",
      "\n",
      "At random_state {97} the training accuracy test is 0.80125\n",
      "At random_state {97} the testing accuracy test is 0.745\n",
      "\n",
      "\n",
      "At random_state {98} the training accuracy test is 0.79125\n",
      "At random_state {98} the testing accuracy test is 0.785\n",
      "\n",
      "\n",
      "At random_state {99} the training accuracy test is 0.79\n",
      "At random_state {99} the testing accuracy test is 0.81\n",
      "\n",
      "\n"
     ]
    }
   ],
   "source": [
    "for i in range(0,100):\n",
    "    x_train,x_test,y_train,y_test=train_test_split(x1,y1,test_size=0.20,random_state=i)\n",
    "    lr.fit(x_train,y_train)\n",
    "    predr=lr.predict(x_train)\n",
    "    pred=lr.predict(x_test)\n",
    "    print('At random_state' ,{i}, 'the training accuracy test is', accuracy_score(y_train,predr))\n",
    "    print('At random_state' ,{i}, 'the testing accuracy test is', accuracy_score(y_test,pred))\n",
    "    print('\\n')"
   ]
  },
  {
   "cell_type": "markdown",
   "id": "24b19c53",
   "metadata": {},
   "source": [
    "### AT RANDOM STATE 22 (86%) THE MODEL IS GIVING THE HIGHEST TESTING ACCURACY HENCE WE ARE GOING AHEAD WITH THAT "
   ]
  },
  {
   "cell_type": "code",
   "execution_count": 224,
   "id": "d67d03b5",
   "metadata": {},
   "outputs": [],
   "source": [
    "x_train,x_test,y_train,y_test=train_test_split(x1,y1,test_size=0.20,random_state=22)"
   ]
  },
  {
   "cell_type": "code",
   "execution_count": 225,
   "id": "8aec57db",
   "metadata": {},
   "outputs": [
    {
     "data": {
      "text/html": [
       "<style>#sk-container-id-7 {color: black;background-color: white;}#sk-container-id-7 pre{padding: 0;}#sk-container-id-7 div.sk-toggleable {background-color: white;}#sk-container-id-7 label.sk-toggleable__label {cursor: pointer;display: block;width: 100%;margin-bottom: 0;padding: 0.3em;box-sizing: border-box;text-align: center;}#sk-container-id-7 label.sk-toggleable__label-arrow:before {content: \"▸\";float: left;margin-right: 0.25em;color: #696969;}#sk-container-id-7 label.sk-toggleable__label-arrow:hover:before {color: black;}#sk-container-id-7 div.sk-estimator:hover label.sk-toggleable__label-arrow:before {color: black;}#sk-container-id-7 div.sk-toggleable__content {max-height: 0;max-width: 0;overflow: hidden;text-align: left;background-color: #f0f8ff;}#sk-container-id-7 div.sk-toggleable__content pre {margin: 0.2em;color: black;border-radius: 0.25em;background-color: #f0f8ff;}#sk-container-id-7 input.sk-toggleable__control:checked~div.sk-toggleable__content {max-height: 200px;max-width: 100%;overflow: auto;}#sk-container-id-7 input.sk-toggleable__control:checked~label.sk-toggleable__label-arrow:before {content: \"▾\";}#sk-container-id-7 div.sk-estimator input.sk-toggleable__control:checked~label.sk-toggleable__label {background-color: #d4ebff;}#sk-container-id-7 div.sk-label input.sk-toggleable__control:checked~label.sk-toggleable__label {background-color: #d4ebff;}#sk-container-id-7 input.sk-hidden--visually {border: 0;clip: rect(1px 1px 1px 1px);clip: rect(1px, 1px, 1px, 1px);height: 1px;margin: -1px;overflow: hidden;padding: 0;position: absolute;width: 1px;}#sk-container-id-7 div.sk-estimator {font-family: monospace;background-color: #f0f8ff;border: 1px dotted black;border-radius: 0.25em;box-sizing: border-box;margin-bottom: 0.5em;}#sk-container-id-7 div.sk-estimator:hover {background-color: #d4ebff;}#sk-container-id-7 div.sk-parallel-item::after {content: \"\";width: 100%;border-bottom: 1px solid gray;flex-grow: 1;}#sk-container-id-7 div.sk-label:hover label.sk-toggleable__label {background-color: #d4ebff;}#sk-container-id-7 div.sk-serial::before {content: \"\";position: absolute;border-left: 1px solid gray;box-sizing: border-box;top: 0;bottom: 0;left: 50%;z-index: 0;}#sk-container-id-7 div.sk-serial {display: flex;flex-direction: column;align-items: center;background-color: white;padding-right: 0.2em;padding-left: 0.2em;position: relative;}#sk-container-id-7 div.sk-item {position: relative;z-index: 1;}#sk-container-id-7 div.sk-parallel {display: flex;align-items: stretch;justify-content: center;background-color: white;position: relative;}#sk-container-id-7 div.sk-item::before, #sk-container-id-7 div.sk-parallel-item::before {content: \"\";position: absolute;border-left: 1px solid gray;box-sizing: border-box;top: 0;bottom: 0;left: 50%;z-index: -1;}#sk-container-id-7 div.sk-parallel-item {display: flex;flex-direction: column;z-index: 1;position: relative;background-color: white;}#sk-container-id-7 div.sk-parallel-item:first-child::after {align-self: flex-end;width: 50%;}#sk-container-id-7 div.sk-parallel-item:last-child::after {align-self: flex-start;width: 50%;}#sk-container-id-7 div.sk-parallel-item:only-child::after {width: 0;}#sk-container-id-7 div.sk-dashed-wrapped {border: 1px dashed gray;margin: 0 0.4em 0.5em 0.4em;box-sizing: border-box;padding-bottom: 0.4em;background-color: white;}#sk-container-id-7 div.sk-label label {font-family: monospace;font-weight: bold;display: inline-block;line-height: 1.2em;}#sk-container-id-7 div.sk-label-container {text-align: center;}#sk-container-id-7 div.sk-container {/* jupyter's `normalize.less` sets `[hidden] { display: none; }` but bootstrap.min.css set `[hidden] { display: none !important; }` so we also need the `!important` here to be able to override the default hidden behavior on the sphinx rendered scikit-learn.org. See: https://github.com/scikit-learn/scikit-learn/issues/21755 */display: inline-block !important;position: relative;}#sk-container-id-7 div.sk-text-repr-fallback {display: none;}</style><div id=\"sk-container-id-7\" class=\"sk-top-container\"><div class=\"sk-text-repr-fallback\"><pre>LogisticRegression()</pre><b>In a Jupyter environment, please rerun this cell to show the HTML representation or trust the notebook. <br />On GitHub, the HTML representation is unable to render, please try loading this page with nbviewer.org.</b></div><div class=\"sk-container\" hidden><div class=\"sk-item\"><div class=\"sk-estimator sk-toggleable\"><input class=\"sk-toggleable__control sk-hidden--visually\" id=\"sk-estimator-id-7\" type=\"checkbox\" checked><label for=\"sk-estimator-id-7\" class=\"sk-toggleable__label sk-toggleable__label-arrow\">LogisticRegression</label><div class=\"sk-toggleable__content\"><pre>LogisticRegression()</pre></div></div></div></div></div>"
      ],
      "text/plain": [
       "LogisticRegression()"
      ]
     },
     "execution_count": 225,
     "metadata": {},
     "output_type": "execute_result"
    }
   ],
   "source": [
    "lr.fit(x_train,y_train)"
   ]
  },
  {
   "cell_type": "code",
   "execution_count": 226,
   "id": "7276b61a",
   "metadata": {},
   "outputs": [],
   "source": [
    "PRELR=lr.predict(x_test)"
   ]
  },
  {
   "cell_type": "code",
   "execution_count": 227,
   "id": "8028763f",
   "metadata": {},
   "outputs": [
    {
     "name": "stdout",
     "output_type": "stream",
     "text": [
      "0.86\n"
     ]
    }
   ],
   "source": [
    "print(accuracy_score(y_test,PRELR))"
   ]
  },
  {
   "cell_type": "code",
   "execution_count": 228,
   "id": "6b29f98a",
   "metadata": {},
   "outputs": [
    {
     "name": "stdout",
     "output_type": "stream",
     "text": [
      "              precision    recall  f1-score   support\n",
      "\n",
      "           0       0.85      0.87      0.86       100\n",
      "           1       0.87      0.85      0.86       100\n",
      "\n",
      "    accuracy                           0.86       200\n",
      "   macro avg       0.86      0.86      0.86       200\n",
      "weighted avg       0.86      0.86      0.86       200\n",
      "\n"
     ]
    }
   ],
   "source": [
    "print(classification_report(y_test,PRELR))"
   ]
  },
  {
   "cell_type": "code",
   "execution_count": 229,
   "id": "993ff9ba",
   "metadata": {},
   "outputs": [
    {
     "name": "stdout",
     "output_type": "stream",
     "text": [
      "[[87 13]\n",
      " [15 85]]\n"
     ]
    }
   ],
   "source": [
    "print(confusion_matrix(y_test,PRELR))"
   ]
  },
  {
   "cell_type": "markdown",
   "id": "97a82301",
   "metadata": {},
   "source": [
    "## AUC-ROC CURVE"
   ]
  },
  {
   "cell_type": "code",
   "execution_count": 109,
   "id": "8389ece7",
   "metadata": {},
   "outputs": [],
   "source": [
    "from sklearn.metrics import roc_curve\n",
    "from sklearn.metrics import roc_auc_score"
   ]
  },
  {
   "cell_type": "code",
   "execution_count": 110,
   "id": "66ed39d4",
   "metadata": {},
   "outputs": [],
   "source": [
    "y_pred_prob1=lr.predict_proba(x_test)[:,1]"
   ]
  },
  {
   "cell_type": "code",
   "execution_count": 111,
   "id": "edc2c00a",
   "metadata": {},
   "outputs": [
    {
     "data": {
      "text/plain": [
       "array([0.60488988, 0.94286204, 0.11981117, 0.35035059, 0.94739674,\n",
       "       0.28937989, 0.1775962 , 0.69546978, 0.945694  , 0.72966786,\n",
       "       0.11907211, 0.32115497, 0.47395925, 0.16462562, 0.83676872,\n",
       "       0.95350353, 0.90865594, 0.10113287, 0.14300852, 0.12854639,\n",
       "       0.67879952, 0.79964564, 0.43767234, 0.08363368, 0.30746909,\n",
       "       0.57358895, 0.97660373, 0.83676872, 0.94500699, 0.70720485,\n",
       "       0.53043546, 0.94591894, 0.59579156, 0.39271635, 0.1230734 ,\n",
       "       0.1651633 , 0.14457014, 0.81685694, 0.89944533, 0.29331063,\n",
       "       0.46173815, 0.58823895, 0.87587678, 0.18992178, 0.72999803,\n",
       "       0.6978289 , 0.50279503, 0.11336064, 0.12031727, 0.58419613,\n",
       "       0.72996009, 0.09022696, 0.19327009, 0.21764921, 0.21497767,\n",
       "       0.22922272, 0.11787118, 0.70746562, 0.09874476, 0.73069364,\n",
       "       0.11723296, 0.72891681, 0.95399919, 0.8544132 , 0.27777783,\n",
       "       0.60448349, 0.88676725, 0.69359833, 0.72855259, 0.10300586,\n",
       "       0.1230734 , 0.74591235, 0.92085997, 0.12583785, 0.85373985,\n",
       "       0.6502773 , 0.20396644, 0.60769523, 0.56537011, 0.9208964 ,\n",
       "       0.19825498, 0.30069695, 0.12854639, 0.24813532, 0.9285164 ,\n",
       "       0.12512303, 0.55471404, 0.85111134, 0.34233702, 0.93189904,\n",
       "       0.11458637, 0.90807481, 0.70368341, 0.32886309, 0.12100493,\n",
       "       0.17129389, 0.20632617, 0.13847553, 0.16661883, 0.21713627,\n",
       "       0.15849237, 0.10193281, 0.80089627, 0.95210285, 0.96292026,\n",
       "       0.73925041, 0.96573654, 0.16358474, 0.0601328 , 0.55893313,\n",
       "       0.14748379, 0.94635766, 0.11796291, 0.96965191, 0.97666159,\n",
       "       0.17622021, 0.45881329, 0.12232327, 0.13658496, 0.91191377,\n",
       "       0.55256432, 0.47547   , 0.85754119, 0.97027486, 0.20220947,\n",
       "       0.89394856, 0.12232327, 0.80511939, 0.24163348, 0.35190547,\n",
       "       0.19323766, 0.16895402, 0.82274352, 0.93505719, 0.97105282,\n",
       "       0.53082071, 0.9695323 , 0.68954382, 0.28082518, 0.12462046,\n",
       "       0.81649772, 0.06641996, 0.98232292, 0.17989147, 0.23868126,\n",
       "       0.27721095, 0.1592216 , 0.08003342, 0.11747171, 0.05936452,\n",
       "       0.17939133, 0.87587678, 0.8862114 , 0.07014897, 0.45625955,\n",
       "       0.51621459, 0.1230734 , 0.17886628, 0.92065327, 0.95777006,\n",
       "       0.1775962 , 0.08339783, 0.75822458, 0.91974539, 0.80851917,\n",
       "       0.12232327, 0.88363587, 0.12599241, 0.7980018 , 0.95045877,\n",
       "       0.12852569, 0.19214725, 0.20561917, 0.14357542, 0.89881204,\n",
       "       0.86185789, 0.6961704 , 0.4078851 , 0.13827625, 0.19327009,\n",
       "       0.16470345, 0.02597995, 0.9746475 , 0.17813107, 0.1230734 ,\n",
       "       0.41770638, 0.12748763, 0.72966786, 0.32358715, 0.97540594,\n",
       "       0.25329176, 0.91962134, 0.35832038, 0.1230734 , 0.12232327,\n",
       "       0.41897378, 0.36996918, 0.89543215, 0.14806153, 0.50309907])"
      ]
     },
     "execution_count": 111,
     "metadata": {},
     "output_type": "execute_result"
    }
   ],
   "source": [
    "y_pred_prob1"
   ]
  },
  {
   "cell_type": "code",
   "execution_count": 112,
   "id": "e607dae0",
   "metadata": {},
   "outputs": [],
   "source": [
    "tpr,fpr,thresholds=roc_curve(y_test,y_pred_prob1)"
   ]
  },
  {
   "cell_type": "code",
   "execution_count": 113,
   "id": "7842b921",
   "metadata": {},
   "outputs": [
    {
     "data": {
      "text/plain": [
       "array([0.  , 0.01, 0.01, 0.02, 0.02, 0.03, 0.03, 0.03, 0.03, 0.04, 0.04,\n",
       "       0.04, 0.04, 0.05, 0.05, 0.06, 0.06, 0.07, 0.07, 0.08, 0.08, 0.11,\n",
       "       0.11, 0.12, 0.12, 0.13, 0.13, 0.14, 0.14, 0.18, 0.18, 0.25, 0.25,\n",
       "       0.29, 0.29, 0.33, 0.33, 0.36, 0.36, 0.37, 0.37, 0.41, 0.43, 0.47,\n",
       "       0.47, 0.48, 0.5 , 0.62, 0.62, 0.66, 0.68, 0.69, 0.69, 0.73, 0.78,\n",
       "       0.82, 0.82, 0.87, 0.87, 0.89, 0.89, 1.  ])"
      ]
     },
     "execution_count": 113,
     "metadata": {},
     "output_type": "execute_result"
    }
   ],
   "source": [
    "tpr"
   ]
  },
  {
   "cell_type": "code",
   "execution_count": 114,
   "id": "7fc0c072",
   "metadata": {},
   "outputs": [
    {
     "data": {
      "text/plain": [
       "array([0.  , 0.  , 0.39, 0.4 , 0.43, 0.43, 0.44, 0.46, 0.56, 0.56, 0.59,\n",
       "       0.61, 0.62, 0.62, 0.68, 0.68, 0.7 , 0.7 , 0.71, 0.71, 0.73, 0.73,\n",
       "       0.78, 0.78, 0.79, 0.79, 0.83, 0.83, 0.84, 0.84, 0.85, 0.85, 0.86,\n",
       "       0.86, 0.87, 0.87, 0.88, 0.88, 0.89, 0.89, 0.9 , 0.9 , 0.9 , 0.9 ,\n",
       "       0.92, 0.92, 0.92, 0.92, 0.94, 0.94, 0.94, 0.94, 0.95, 0.95, 0.95,\n",
       "       0.95, 0.97, 0.97, 0.99, 0.99, 1.  , 1.  ])"
      ]
     },
     "execution_count": 114,
     "metadata": {},
     "output_type": "execute_result"
    }
   ],
   "source": [
    "fpr"
   ]
  },
  {
   "cell_type": "code",
   "execution_count": 115,
   "id": "63813d90",
   "metadata": {},
   "outputs": [
    {
     "data": {
      "text/plain": [
       "array([1.98232292, 0.98232292, 0.88363587, 0.87587678, 0.8544132 ,\n",
       "       0.85373985, 0.85111134, 0.83676872, 0.74591235, 0.73925041,\n",
       "       0.72996009, 0.72966786, 0.72891681, 0.72855259, 0.69546978,\n",
       "       0.69359833, 0.67879952, 0.6502773 , 0.60769523, 0.60488988,\n",
       "       0.59579156, 0.57358895, 0.53082071, 0.53043546, 0.51621459,\n",
       "       0.50309907, 0.46173815, 0.45881329, 0.45625955, 0.4078851 ,\n",
       "       0.39271635, 0.32358715, 0.32115497, 0.28937989, 0.28082518,\n",
       "       0.24813532, 0.24163348, 0.21764921, 0.21713627, 0.21497767,\n",
       "       0.20632617, 0.19825498, 0.19327009, 0.17989147, 0.17886628,\n",
       "       0.17813107, 0.1775962 , 0.14748379, 0.14357542, 0.13658496,\n",
       "       0.12854639, 0.12852569, 0.12748763, 0.12462046, 0.1230734 ,\n",
       "       0.12232327, 0.12031727, 0.11747171, 0.11458637, 0.10300586,\n",
       "       0.10193281, 0.02597995])"
      ]
     },
     "execution_count": 115,
     "metadata": {},
     "output_type": "execute_result"
    }
   ],
   "source": [
    "thresholds"
   ]
  },
  {
   "cell_type": "code",
   "execution_count": 116,
   "id": "00334455",
   "metadata": {},
   "outputs": [
    {
     "data": {
      "image/png": "[encoded data removed]",
      "text/plain": [
       "<Figure size 432x288 with 1 Axes>"
      ]
     },
     "metadata": {
      "needs_background": "light"
     },
     "output_type": "display_data"
    }
   ],
   "source": [
    "plt.plot([0,1],[0,1],'k--')\n",
    "plt.plot(tpr,fpr,label='LR')\n",
    "plt.xlabel('FALSE_POSITIVE_RATE')\n",
    "plt.ylabel('TRUE_POSITIVE_RATE')\n",
    "plt.title('LOGISTIC REGRESSION')\n",
    "plt.show()"
   ]
  },
  {
   "cell_type": "code",
   "execution_count": 117,
   "id": "0de199a7",
   "metadata": {},
   "outputs": [
    {
     "data": {
      "text/plain": [
       "0.8350000000000001"
      ]
     },
     "execution_count": 117,
     "metadata": {},
     "output_type": "execute_result"
    }
   ],
   "source": [
    "auc_score=roc_auc_score(y_test,(lr.predict(x_test)))\n",
    "auc_score"
   ]
  },
  {
   "cell_type": "markdown",
   "id": "fe58e1c5",
   "metadata": {},
   "source": [
    "## SVC"
   ]
  },
  {
   "cell_type": "code",
   "execution_count": 118,
   "id": "5b6fae5c",
   "metadata": {},
   "outputs": [],
   "source": [
    "from sklearn.svm import SVC"
   ]
  },
  {
   "cell_type": "code",
   "execution_count": 119,
   "id": "a0e5a52e",
   "metadata": {},
   "outputs": [],
   "source": [
    "svc=SVC()"
   ]
  },
  {
   "cell_type": "code",
   "execution_count": 120,
   "id": "4c20a1df",
   "metadata": {},
   "outputs": [
    {
     "name": "stdout",
     "output_type": "stream",
     "text": [
      "At random_state {0} the training accuracy test is 0.82875\n",
      "At random_state {0} the testing accuracy test is 0.795\n",
      "\n",
      "\n",
      "At random_state {1} the training accuracy test is 0.84\n",
      "At random_state {1} the testing accuracy test is 0.71\n",
      "\n",
      "\n",
      "At random_state {2} the training accuracy test is 0.8225\n",
      "At random_state {2} the testing accuracy test is 0.79\n",
      "\n",
      "\n",
      "At random_state {3} the training accuracy test is 0.83125\n",
      "At random_state {3} the testing accuracy test is 0.79\n",
      "\n",
      "\n",
      "At random_state {4} the training accuracy test is 0.82125\n",
      "At random_state {4} the testing accuracy test is 0.805\n",
      "\n",
      "\n",
      "At random_state {5} the training accuracy test is 0.82375\n",
      "At random_state {5} the testing accuracy test is 0.775\n",
      "\n",
      "\n",
      "At random_state {6} the training accuracy test is 0.82\n",
      "At random_state {6} the testing accuracy test is 0.795\n",
      "\n",
      "\n",
      "At random_state {7} the training accuracy test is 0.825\n",
      "At random_state {7} the testing accuracy test is 0.805\n",
      "\n",
      "\n",
      "At random_state {8} the training accuracy test is 0.83375\n",
      "At random_state {8} the testing accuracy test is 0.755\n",
      "\n",
      "\n",
      "At random_state {9} the training accuracy test is 0.82125\n",
      "At random_state {9} the testing accuracy test is 0.81\n",
      "\n",
      "\n",
      "At random_state {10} the training accuracy test is 0.8175\n",
      "At random_state {10} the testing accuracy test is 0.81\n",
      "\n",
      "\n",
      "At random_state {11} the training accuracy test is 0.825\n",
      "At random_state {11} the testing accuracy test is 0.8\n",
      "\n",
      "\n",
      "At random_state {12} the training accuracy test is 0.82875\n",
      "At random_state {12} the testing accuracy test is 0.815\n",
      "\n",
      "\n",
      "At random_state {13} the training accuracy test is 0.825\n",
      "At random_state {13} the testing accuracy test is 0.79\n",
      "\n",
      "\n",
      "At random_state {14} the training accuracy test is 0.8175\n",
      "At random_state {14} the testing accuracy test is 0.82\n",
      "\n",
      "\n",
      "At random_state {15} the training accuracy test is 0.81625\n",
      "At random_state {15} the testing accuracy test is 0.81\n",
      "\n",
      "\n",
      "At random_state {16} the training accuracy test is 0.82875\n",
      "At random_state {16} the testing accuracy test is 0.765\n",
      "\n",
      "\n",
      "At random_state {17} the training accuracy test is 0.8125\n",
      "At random_state {17} the testing accuracy test is 0.815\n",
      "\n",
      "\n",
      "At random_state {18} the training accuracy test is 0.82125\n",
      "At random_state {18} the testing accuracy test is 0.81\n",
      "\n",
      "\n",
      "At random_state {19} the training accuracy test is 0.83125\n",
      "At random_state {19} the testing accuracy test is 0.75\n",
      "\n",
      "\n",
      "At random_state {20} the training accuracy test is 0.825\n",
      "At random_state {20} the testing accuracy test is 0.815\n",
      "\n",
      "\n",
      "At random_state {21} the training accuracy test is 0.81875\n",
      "At random_state {21} the testing accuracy test is 0.815\n",
      "\n",
      "\n",
      "At random_state {22} the training accuracy test is 0.81625\n",
      "At random_state {22} the testing accuracy test is 0.815\n",
      "\n",
      "\n",
      "At random_state {23} the training accuracy test is 0.81875\n",
      "At random_state {23} the testing accuracy test is 0.81\n",
      "\n",
      "\n",
      "At random_state {24} the training accuracy test is 0.82\n",
      "At random_state {24} the testing accuracy test is 0.81\n",
      "\n",
      "\n",
      "At random_state {25} the training accuracy test is 0.83375\n",
      "At random_state {25} the testing accuracy test is 0.765\n",
      "\n",
      "\n",
      "At random_state {26} the training accuracy test is 0.8225\n",
      "At random_state {26} the testing accuracy test is 0.825\n",
      "\n",
      "\n",
      "At random_state {27} the training accuracy test is 0.82\n",
      "At random_state {27} the testing accuracy test is 0.825\n",
      "\n",
      "\n",
      "At random_state {28} the training accuracy test is 0.84125\n",
      "At random_state {28} the testing accuracy test is 0.755\n",
      "\n",
      "\n",
      "At random_state {29} the training accuracy test is 0.84375\n",
      "At random_state {29} the testing accuracy test is 0.76\n",
      "\n",
      "\n",
      "At random_state {30} the training accuracy test is 0.82\n",
      "At random_state {30} the testing accuracy test is 0.825\n",
      "\n",
      "\n",
      "At random_state {31} the training accuracy test is 0.825\n",
      "At random_state {31} the testing accuracy test is 0.785\n",
      "\n",
      "\n",
      "At random_state {32} the training accuracy test is 0.82875\n",
      "At random_state {32} the testing accuracy test is 0.78\n",
      "\n",
      "\n",
      "At random_state {33} the training accuracy test is 0.81875\n",
      "At random_state {33} the testing accuracy test is 0.805\n",
      "\n",
      "\n",
      "At random_state {34} the training accuracy test is 0.81875\n",
      "At random_state {34} the testing accuracy test is 0.815\n",
      "\n",
      "\n",
      "At random_state {35} the training accuracy test is 0.81875\n",
      "At random_state {35} the testing accuracy test is 0.81\n",
      "\n",
      "\n",
      "At random_state {36} the training accuracy test is 0.835\n",
      "At random_state {36} the testing accuracy test is 0.77\n",
      "\n",
      "\n",
      "At random_state {37} the training accuracy test is 0.83\n",
      "At random_state {37} the testing accuracy test is 0.76\n",
      "\n",
      "\n",
      "At random_state {38} the training accuracy test is 0.81625\n",
      "At random_state {38} the testing accuracy test is 0.81\n",
      "\n",
      "\n",
      "At random_state {39} the training accuracy test is 0.83875\n",
      "At random_state {39} the testing accuracy test is 0.79\n",
      "\n",
      "\n",
      "At random_state {40} the training accuracy test is 0.83125\n",
      "At random_state {40} the testing accuracy test is 0.77\n",
      "\n",
      "\n",
      "At random_state {41} the training accuracy test is 0.82375\n",
      "At random_state {41} the testing accuracy test is 0.82\n",
      "\n",
      "\n",
      "At random_state {42} the training accuracy test is 0.82625\n",
      "At random_state {42} the testing accuracy test is 0.8\n",
      "\n",
      "\n",
      "At random_state {43} the training accuracy test is 0.83125\n",
      "At random_state {43} the testing accuracy test is 0.82\n",
      "\n",
      "\n",
      "At random_state {44} the training accuracy test is 0.8175\n",
      "At random_state {44} the testing accuracy test is 0.825\n",
      "\n",
      "\n",
      "At random_state {45} the training accuracy test is 0.83\n",
      "At random_state {45} the testing accuracy test is 0.765\n",
      "\n",
      "\n",
      "At random_state {46} the training accuracy test is 0.83\n",
      "At random_state {46} the testing accuracy test is 0.79\n",
      "\n",
      "\n",
      "At random_state {47} the training accuracy test is 0.83\n",
      "At random_state {47} the testing accuracy test is 0.82\n",
      "\n",
      "\n",
      "At random_state {48} the training accuracy test is 0.8225\n",
      "At random_state {48} the testing accuracy test is 0.81\n",
      "\n",
      "\n",
      "At random_state {49} the training accuracy test is 0.8275\n",
      "At random_state {49} the testing accuracy test is 0.79\n",
      "\n",
      "\n",
      "At random_state {50} the training accuracy test is 0.8325\n",
      "At random_state {50} the testing accuracy test is 0.78\n",
      "\n",
      "\n",
      "At random_state {51} the training accuracy test is 0.82625\n",
      "At random_state {51} the testing accuracy test is 0.795\n",
      "\n",
      "\n",
      "At random_state {52} the training accuracy test is 0.825\n",
      "At random_state {52} the testing accuracy test is 0.82\n",
      "\n",
      "\n",
      "At random_state {53} the training accuracy test is 0.81125\n",
      "At random_state {53} the testing accuracy test is 0.84\n",
      "\n",
      "\n",
      "At random_state {54} the training accuracy test is 0.8275\n",
      "At random_state {54} the testing accuracy test is 0.8\n",
      "\n",
      "\n",
      "At random_state {55} the training accuracy test is 0.83\n",
      "At random_state {55} the testing accuracy test is 0.715\n",
      "\n",
      "\n",
      "At random_state {56} the training accuracy test is 0.8325\n",
      "At random_state {56} the testing accuracy test is 0.785\n",
      "\n",
      "\n",
      "At random_state {57} the training accuracy test is 0.81875\n",
      "At random_state {57} the testing accuracy test is 0.8\n",
      "\n",
      "\n",
      "At random_state {58} the training accuracy test is 0.83\n",
      "At random_state {58} the testing accuracy test is 0.825\n",
      "\n",
      "\n",
      "At random_state {59} the training accuracy test is 0.825\n",
      "At random_state {59} the testing accuracy test is 0.79\n",
      "\n",
      "\n",
      "At random_state {60} the training accuracy test is 0.8225\n",
      "At random_state {60} the testing accuracy test is 0.805\n",
      "\n",
      "\n",
      "At random_state {61} the training accuracy test is 0.83625\n",
      "At random_state {61} the testing accuracy test is 0.76\n",
      "\n",
      "\n",
      "At random_state {62} the training accuracy test is 0.8275\n",
      "At random_state {62} the testing accuracy test is 0.785\n",
      "\n",
      "\n",
      "At random_state {63} the training accuracy test is 0.82125\n",
      "At random_state {63} the testing accuracy test is 0.805\n",
      "\n",
      "\n",
      "At random_state {64} the training accuracy test is 0.82875\n",
      "At random_state {64} the testing accuracy test is 0.78\n",
      "\n",
      "\n",
      "At random_state {65} the training accuracy test is 0.83\n",
      "At random_state {65} the testing accuracy test is 0.77\n",
      "\n",
      "\n",
      "At random_state {66} the training accuracy test is 0.82125\n",
      "At random_state {66} the testing accuracy test is 0.805\n",
      "\n",
      "\n",
      "At random_state {67} the training accuracy test is 0.8375\n",
      "At random_state {67} the testing accuracy test is 0.745\n",
      "\n",
      "\n",
      "At random_state {68} the training accuracy test is 0.82625\n",
      "At random_state {68} the testing accuracy test is 0.785\n",
      "\n",
      "\n",
      "At random_state {69} the training accuracy test is 0.83\n",
      "At random_state {69} the testing accuracy test is 0.8\n",
      "\n",
      "\n",
      "At random_state {70} the training accuracy test is 0.82625\n",
      "At random_state {70} the testing accuracy test is 0.795\n",
      "\n",
      "\n",
      "At random_state {71} the training accuracy test is 0.8475\n",
      "At random_state {71} the testing accuracy test is 0.75\n",
      "\n",
      "\n",
      "At random_state {72} the training accuracy test is 0.82\n",
      "At random_state {72} the testing accuracy test is 0.8\n",
      "\n",
      "\n",
      "At random_state {73} the training accuracy test is 0.83625\n",
      "At random_state {73} the testing accuracy test is 0.755\n",
      "\n",
      "\n",
      "At random_state {74} the training accuracy test is 0.81625\n",
      "At random_state {74} the testing accuracy test is 0.82\n",
      "\n",
      "\n",
      "At random_state {75} the training accuracy test is 0.82125\n",
      "At random_state {75} the testing accuracy test is 0.81\n",
      "\n",
      "\n",
      "At random_state {76} the training accuracy test is 0.83\n",
      "At random_state {76} the testing accuracy test is 0.8\n",
      "\n",
      "\n",
      "At random_state {77} the training accuracy test is 0.8325\n",
      "At random_state {77} the testing accuracy test is 0.775\n",
      "\n",
      "\n",
      "At random_state {78} the training accuracy test is 0.835\n",
      "At random_state {78} the testing accuracy test is 0.775\n",
      "\n",
      "\n",
      "At random_state {79} the training accuracy test is 0.81625\n",
      "At random_state {79} the testing accuracy test is 0.82\n",
      "\n",
      "\n",
      "At random_state {80} the training accuracy test is 0.8225\n",
      "At random_state {80} the testing accuracy test is 0.805\n",
      "\n",
      "\n",
      "At random_state {81} the training accuracy test is 0.82875\n",
      "At random_state {81} the testing accuracy test is 0.775\n",
      "\n",
      "\n",
      "At random_state {82} the training accuracy test is 0.83125\n",
      "At random_state {82} the testing accuracy test is 0.76\n",
      "\n",
      "\n",
      "At random_state {83} the training accuracy test is 0.8175\n",
      "At random_state {83} the testing accuracy test is 0.825\n",
      "\n",
      "\n",
      "At random_state {84} the training accuracy test is 0.83\n",
      "At random_state {84} the testing accuracy test is 0.785\n",
      "\n",
      "\n",
      "At random_state {85} the training accuracy test is 0.825\n",
      "At random_state {85} the testing accuracy test is 0.795\n",
      "\n",
      "\n",
      "At random_state {86} the training accuracy test is 0.8175\n",
      "At random_state {86} the testing accuracy test is 0.835\n",
      "\n",
      "\n",
      "At random_state {87} the training accuracy test is 0.83375\n",
      "At random_state {87} the testing accuracy test is 0.76\n",
      "\n",
      "\n",
      "At random_state {88} the training accuracy test is 0.83125\n",
      "At random_state {88} the testing accuracy test is 0.735\n",
      "\n",
      "\n",
      "At random_state {89} the training accuracy test is 0.82875\n",
      "At random_state {89} the testing accuracy test is 0.785\n",
      "\n",
      "\n",
      "At random_state {90} the training accuracy test is 0.8275\n",
      "At random_state {90} the testing accuracy test is 0.79\n",
      "\n",
      "\n",
      "At random_state {91} the training accuracy test is 0.8225\n",
      "At random_state {91} the testing accuracy test is 0.815\n",
      "\n",
      "\n",
      "At random_state {92} the training accuracy test is 0.825\n",
      "At random_state {92} the testing accuracy test is 0.8\n",
      "\n",
      "\n",
      "At random_state {93} the training accuracy test is 0.825\n",
      "At random_state {93} the testing accuracy test is 0.8\n",
      "\n",
      "\n",
      "At random_state {94} the training accuracy test is 0.81625\n",
      "At random_state {94} the testing accuracy test is 0.855\n",
      "\n",
      "\n",
      "At random_state {95} the training accuracy test is 0.83125\n",
      "At random_state {95} the testing accuracy test is 0.785\n",
      "\n",
      "\n",
      "At random_state {96} the training accuracy test is 0.81875\n",
      "At random_state {96} the testing accuracy test is 0.825\n",
      "\n",
      "\n",
      "At random_state {97} the training accuracy test is 0.83125\n",
      "At random_state {97} the testing accuracy test is 0.78\n",
      "\n",
      "\n",
      "At random_state {98} the training accuracy test is 0.82625\n",
      "At random_state {98} the testing accuracy test is 0.795\n",
      "\n",
      "\n",
      "At random_state {99} the training accuracy test is 0.825\n",
      "At random_state {99} the testing accuracy test is 0.79\n",
      "\n",
      "\n"
     ]
    }
   ],
   "source": [
    "for i in range(0,100):\n",
    "    x_train,x_test,y_train,y_test=train_test_split(x1,y1,test_size=0.20,random_state=i)\n",
    "    svc.fit(x_train,y_train)\n",
    "    predsvc=svc.predict(x_train)\n",
    "    predsvc1=svc.predict(x_test)\n",
    "    print('At random_state' ,{i}, 'the training accuracy test is', accuracy_score(y_train,predsvc))\n",
    "    print('At random_state' ,{i}, 'the testing accuracy test is', accuracy_score(y_test,predsvc1))\n",
    "    print('\\n')"
   ]
  },
  {
   "cell_type": "markdown",
   "id": "0f36447f",
   "metadata": {},
   "source": [
    "### AT RANDOM STATE  53 (84%) ACCURACY WE ARE GETTING, HENCE WE WILL GO AHEAD WITH THAT "
   ]
  },
  {
   "cell_type": "code",
   "execution_count": 235,
   "id": "bd7a7589",
   "metadata": {},
   "outputs": [],
   "source": [
    "svc=SVC(probability=True)"
   ]
  },
  {
   "cell_type": "code",
   "execution_count": 236,
   "id": "68fb5cf2",
   "metadata": {},
   "outputs": [],
   "source": [
    "x_train,x_test,y_train,y_test=train_test_split(x1,y1,test_size=0.20,random_state=53)"
   ]
  },
  {
   "cell_type": "code",
   "execution_count": 237,
   "id": "34acf3e4",
   "metadata": {},
   "outputs": [
    {
     "data": {
      "text/html": [
       "<style>#sk-container-id-9 {color: black;background-color: white;}#sk-container-id-9 pre{padding: 0;}#sk-container-id-9 div.sk-toggleable {background-color: white;}#sk-container-id-9 label.sk-toggleable__label {cursor: pointer;display: block;width: 100%;margin-bottom: 0;padding: 0.3em;box-sizing: border-box;text-align: center;}#sk-container-id-9 label.sk-toggleable__label-arrow:before {content: \"▸\";float: left;margin-right: 0.25em;color: #696969;}#sk-container-id-9 label.sk-toggleable__label-arrow:hover:before {color: black;}#sk-container-id-9 div.sk-estimator:hover label.sk-toggleable__label-arrow:before {color: black;}#sk-container-id-9 div.sk-toggleable__content {max-height: 0;max-width: 0;overflow: hidden;text-align: left;background-color: #f0f8ff;}#sk-container-id-9 div.sk-toggleable__content pre {margin: 0.2em;color: black;border-radius: 0.25em;background-color: #f0f8ff;}#sk-container-id-9 input.sk-toggleable__control:checked~div.sk-toggleable__content {max-height: 200px;max-width: 100%;overflow: auto;}#sk-container-id-9 input.sk-toggleable__control:checked~label.sk-toggleable__label-arrow:before {content: \"▾\";}#sk-container-id-9 div.sk-estimator input.sk-toggleable__control:checked~label.sk-toggleable__label {background-color: #d4ebff;}#sk-container-id-9 div.sk-label input.sk-toggleable__control:checked~label.sk-toggleable__label {background-color: #d4ebff;}#sk-container-id-9 input.sk-hidden--visually {border: 0;clip: rect(1px 1px 1px 1px);clip: rect(1px, 1px, 1px, 1px);height: 1px;margin: -1px;overflow: hidden;padding: 0;position: absolute;width: 1px;}#sk-container-id-9 div.sk-estimator {font-family: monospace;background-color: #f0f8ff;border: 1px dotted black;border-radius: 0.25em;box-sizing: border-box;margin-bottom: 0.5em;}#sk-container-id-9 div.sk-estimator:hover {background-color: #d4ebff;}#sk-container-id-9 div.sk-parallel-item::after {content: \"\";width: 100%;border-bottom: 1px solid gray;flex-grow: 1;}#sk-container-id-9 div.sk-label:hover label.sk-toggleable__label {background-color: #d4ebff;}#sk-container-id-9 div.sk-serial::before {content: \"\";position: absolute;border-left: 1px solid gray;box-sizing: border-box;top: 0;bottom: 0;left: 50%;z-index: 0;}#sk-container-id-9 div.sk-serial {display: flex;flex-direction: column;align-items: center;background-color: white;padding-right: 0.2em;padding-left: 0.2em;position: relative;}#sk-container-id-9 div.sk-item {position: relative;z-index: 1;}#sk-container-id-9 div.sk-parallel {display: flex;align-items: stretch;justify-content: center;background-color: white;position: relative;}#sk-container-id-9 div.sk-item::before, #sk-container-id-9 div.sk-parallel-item::before {content: \"\";position: absolute;border-left: 1px solid gray;box-sizing: border-box;top: 0;bottom: 0;left: 50%;z-index: -1;}#sk-container-id-9 div.sk-parallel-item {display: flex;flex-direction: column;z-index: 1;position: relative;background-color: white;}#sk-container-id-9 div.sk-parallel-item:first-child::after {align-self: flex-end;width: 50%;}#sk-container-id-9 div.sk-parallel-item:last-child::after {align-self: flex-start;width: 50%;}#sk-container-id-9 div.sk-parallel-item:only-child::after {width: 0;}#sk-container-id-9 div.sk-dashed-wrapped {border: 1px dashed gray;margin: 0 0.4em 0.5em 0.4em;box-sizing: border-box;padding-bottom: 0.4em;background-color: white;}#sk-container-id-9 div.sk-label label {font-family: monospace;font-weight: bold;display: inline-block;line-height: 1.2em;}#sk-container-id-9 div.sk-label-container {text-align: center;}#sk-container-id-9 div.sk-container {/* jupyter's `normalize.less` sets `[hidden] { display: none; }` but bootstrap.min.css set `[hidden] { display: none !important; }` so we also need the `!important` here to be able to override the default hidden behavior on the sphinx rendered scikit-learn.org. See: https://github.com/scikit-learn/scikit-learn/issues/21755 */display: inline-block !important;position: relative;}#sk-container-id-9 div.sk-text-repr-fallback {display: none;}</style><div id=\"sk-container-id-9\" class=\"sk-top-container\"><div class=\"sk-text-repr-fallback\"><pre>SVC(probability=True)</pre><b>In a Jupyter environment, please rerun this cell to show the HTML representation or trust the notebook. <br />On GitHub, the HTML representation is unable to render, please try loading this page with nbviewer.org.</b></div><div class=\"sk-container\" hidden><div class=\"sk-item\"><div class=\"sk-estimator sk-toggleable\"><input class=\"sk-toggleable__control sk-hidden--visually\" id=\"sk-estimator-id-9\" type=\"checkbox\" checked><label for=\"sk-estimator-id-9\" class=\"sk-toggleable__label sk-toggleable__label-arrow\">SVC</label><div class=\"sk-toggleable__content\"><pre>SVC(probability=True)</pre></div></div></div></div></div>"
      ],
      "text/plain": [
       "SVC(probability=True)"
      ]
     },
     "execution_count": 237,
     "metadata": {},
     "output_type": "execute_result"
    }
   ],
   "source": [
    "svc.fit(x_train,y_train)"
   ]
  },
  {
   "cell_type": "code",
   "execution_count": 238,
   "id": "1eaaf9b1",
   "metadata": {},
   "outputs": [],
   "source": [
    "PRESVC=svc.predict(x_test)"
   ]
  },
  {
   "cell_type": "code",
   "execution_count": 239,
   "id": "ae5f5d63",
   "metadata": {},
   "outputs": [
    {
     "name": "stdout",
     "output_type": "stream",
     "text": [
      "0.84\n"
     ]
    }
   ],
   "source": [
    "print(accuracy_score(y_test,PRESVC))"
   ]
  },
  {
   "cell_type": "code",
   "execution_count": 240,
   "id": "a3172690",
   "metadata": {},
   "outputs": [
    {
     "name": "stdout",
     "output_type": "stream",
     "text": [
      "[[88 15]\n",
      " [17 80]]\n"
     ]
    }
   ],
   "source": [
    "print(confusion_matrix(y_test,PRESVC))"
   ]
  },
  {
   "cell_type": "code",
   "execution_count": 241,
   "id": "68a300b1",
   "metadata": {},
   "outputs": [
    {
     "name": "stdout",
     "output_type": "stream",
     "text": [
      "              precision    recall  f1-score   support\n",
      "\n",
      "           0       0.84      0.85      0.85       103\n",
      "           1       0.84      0.82      0.83        97\n",
      "\n",
      "    accuracy                           0.84       200\n",
      "   macro avg       0.84      0.84      0.84       200\n",
      "weighted avg       0.84      0.84      0.84       200\n",
      "\n"
     ]
    }
   ],
   "source": [
    "print(classification_report(y_test,PRESVC))"
   ]
  },
  {
   "cell_type": "markdown",
   "id": "23f67670",
   "metadata": {},
   "source": [
    "### AUC ROC CURVE"
   ]
  },
  {
   "cell_type": "code",
   "execution_count": 128,
   "id": "833a3812",
   "metadata": {},
   "outputs": [],
   "source": [
    "y_pred_prob2=svc.predict_proba(x_test)[:,1]"
   ]
  },
  {
   "cell_type": "code",
   "execution_count": 129,
   "id": "f1c85e2a",
   "metadata": {},
   "outputs": [
    {
     "data": {
      "text/plain": [
       "array([0.49144146, 0.16895032, 0.17303829, 0.18019499, 0.87290348,\n",
       "       0.89568069, 0.94800144, 0.17950167, 0.38262047, 0.1809726 ,\n",
       "       0.18046788, 0.17689668, 0.87142124, 0.18110621, 0.17942393,\n",
       "       0.60787644, 0.39953968, 0.1810729 , 0.86144847, 0.15891566,\n",
       "       0.17270508, 0.18099518, 0.85532845, 0.20501289, 0.8445647 ,\n",
       "       0.88635966, 0.18739129, 0.18160778, 0.17973069, 0.92137503,\n",
       "       0.93999187, 0.19017545, 0.31957874, 0.1809726 , 0.39851294,\n",
       "       0.91892334, 0.8554908 , 0.18090359, 0.1809726 , 0.88247886,\n",
       "       0.93193005, 0.16892763, 0.06422317, 0.18141898, 0.81712589,\n",
       "       0.1763428 , 0.14789639, 0.91737615, 0.91297664, 0.16905281,\n",
       "       0.67111989, 0.72109468, 0.88166679, 0.76371859, 0.85226613,\n",
       "       0.82502315, 0.83245971, 0.81755849, 0.16892763, 0.88095782,\n",
       "       0.8529349 , 0.86027703, 0.18113973, 0.85316721, 0.93079246,\n",
       "       0.91335869, 0.87485591, 0.18940992, 0.90812102, 0.88865347,\n",
       "       0.1606137 , 0.17492356, 0.17866926, 0.16498193, 0.40464244,\n",
       "       0.15806524, 0.18121492, 0.91079728, 0.1802689 , 0.2210653 ,\n",
       "       0.84565778, 0.86047931, 0.37740847, 0.84542643, 0.13975798,\n",
       "       0.24157946, 0.1809726 , 0.39957225, 0.18121492, 0.18150006,\n",
       "       0.1809726 , 0.40032442, 0.80742893, 0.89496337, 0.85491828,\n",
       "       0.88187272, 0.17736644, 0.17783695, 0.18776428, 0.92024744,\n",
       "       0.21827024, 0.1315204 , 0.18121492, 0.21415131, 0.81869811,\n",
       "       0.55325749, 0.18034543, 0.17953919, 0.90867157, 0.5133263 ,\n",
       "       0.91663045, 0.79311619, 0.18161527, 0.18097797, 0.8451917 ,\n",
       "       0.41482653, 0.89009524, 0.16829635, 0.86911706, 0.1783041 ,\n",
       "       0.91271262, 0.20318182, 0.1770167 , 0.84202708, 0.17125061,\n",
       "       0.26862598, 0.84819529, 0.87853996, 0.17720644, 0.89190348,\n",
       "       0.17743661, 0.84266477, 0.84741248, 0.17945687, 0.18150006,\n",
       "       0.90453766, 0.68286207, 0.849076  , 0.8917802 , 0.90734151,\n",
       "       0.18099518, 0.21647105, 0.91897637, 0.17836869, 0.18029693,\n",
       "       0.47741726, 0.15473999, 0.16892763, 0.84681567, 0.18035872,\n",
       "       0.18064877, 0.86007796, 0.18175586, 0.68356411, 0.26841723,\n",
       "       0.17733838, 0.904849  , 0.18128421, 0.91511174, 0.9078316 ,\n",
       "       0.16894124, 0.1822809 , 0.18800317, 0.18137062, 0.18101728,\n",
       "       0.17639768, 0.86413601, 0.17988679, 0.17973069, 0.55398842,\n",
       "       0.1823528 , 0.39531802, 0.91700435, 0.17945216, 0.84291248,\n",
       "       0.18145543, 0.84741248, 0.17945687, 0.5       , 0.86385592,\n",
       "       0.18188719, 0.89259741, 0.18014899, 0.84866998, 0.17454972,\n",
       "       0.89622986, 0.85402652, 0.17457803, 0.91275109, 0.17675354,\n",
       "       0.18120749, 0.18102919, 0.1797011 , 0.85504969, 0.1789521 ,\n",
       "       0.16806166, 0.17881669, 0.1815024 , 0.93302098, 0.07075518])"
      ]
     },
     "execution_count": 129,
     "metadata": {},
     "output_type": "execute_result"
    }
   ],
   "source": [
    "y_pred_prob2"
   ]
  },
  {
   "cell_type": "code",
   "execution_count": 130,
   "id": "27ac662a",
   "metadata": {},
   "outputs": [],
   "source": [
    "tpr,fpr,thresholds=roc_curve(y_test,y_pred_prob2)"
   ]
  },
  {
   "cell_type": "code",
   "execution_count": 131,
   "id": "e529f942",
   "metadata": {},
   "outputs": [
    {
     "data": {
      "text/plain": [
       "array([0.        , 0.        , 0.        , 0.00980392, 0.00980392,\n",
       "       0.01960784, 0.01960784, 0.02941176, 0.02941176, 0.03921569,\n",
       "       0.03921569, 0.05882353, 0.05882353, 0.05882353, 0.06862745,\n",
       "       0.06862745, 0.08823529, 0.08823529, 0.09803922, 0.09803922,\n",
       "       0.10784314, 0.10784314, 0.11764706, 0.11764706, 0.12745098,\n",
       "       0.12745098, 0.16666667, 0.16666667, 0.17647059, 0.17647059,\n",
       "       0.19607843, 0.19607843, 0.21568627, 0.21568627, 0.26470588,\n",
       "       0.26470588, 0.33333333, 0.34313725, 0.38235294, 0.41176471,\n",
       "       0.43137255, 0.43137255, 0.45098039, 0.47058824, 0.48039216,\n",
       "       0.52941176, 0.53921569, 0.53921569, 0.57843137, 0.57843137,\n",
       "       0.58823529, 0.58823529, 0.59803922, 0.61764706, 0.64705882,\n",
       "       0.66666667, 0.81372549, 0.81372549, 0.83333333, 0.83333333,\n",
       "       0.85294118, 0.85294118, 0.87254902, 0.90196078, 0.94117647,\n",
       "       0.94117647, 0.97058824, 0.97058824, 1.        ])"
      ]
     },
     "execution_count": 131,
     "metadata": {},
     "output_type": "execute_result"
    }
   ],
   "source": [
    "tpr"
   ]
  },
  {
   "cell_type": "code",
   "execution_count": 132,
   "id": "a22fcf87",
   "metadata": {},
   "outputs": [
    {
     "data": {
      "text/plain": [
       "array([0.        , 0.01020408, 0.25510204, 0.25510204, 0.26530612,\n",
       "       0.26530612, 0.28571429, 0.28571429, 0.47959184, 0.47959184,\n",
       "       0.51020408, 0.51020408, 0.54081633, 0.56122449, 0.56122449,\n",
       "       0.63265306, 0.63265306, 0.71428571, 0.71428571, 0.7244898 ,\n",
       "       0.7244898 , 0.73469388, 0.73469388, 0.75510204, 0.75510204,\n",
       "       0.76530612, 0.76530612, 0.79591837, 0.79591837, 0.80612245,\n",
       "       0.80612245, 0.82653061, 0.82653061, 0.85714286, 0.85714286,\n",
       "       0.86734694, 0.86734694, 0.87755102, 0.87755102, 0.87755102,\n",
       "       0.87755102, 0.89795918, 0.89795918, 0.89795918, 0.89795918,\n",
       "       0.89795918, 0.89795918, 0.90816327, 0.90816327, 0.91836735,\n",
       "       0.91836735, 0.92857143, 0.92857143, 0.92857143, 0.92857143,\n",
       "       0.92857143, 0.92857143, 0.94897959, 0.94897959, 0.96938776,\n",
       "       0.96938776, 0.97959184, 0.97959184, 0.97959184, 0.97959184,\n",
       "       0.98979592, 0.98979592, 1.        , 1.        ])"
      ]
     },
     "execution_count": 132,
     "metadata": {},
     "output_type": "execute_result"
    }
   ],
   "source": [
    "fpr"
   ]
  },
  {
   "cell_type": "code",
   "execution_count": 133,
   "id": "98de1f40",
   "metadata": {},
   "outputs": [
    {
     "data": {
      "text/plain": [
       "array([1.94800144, 0.94800144, 0.89622986, 0.89568069, 0.89496337,\n",
       "       0.89259741, 0.8917802 , 0.89009524, 0.85532845, 0.85504969,\n",
       "       0.85316721, 0.85226613, 0.84819529, 0.84741248, 0.84681567,\n",
       "       0.84202708, 0.82502315, 0.68356411, 0.68286207, 0.67111989,\n",
       "       0.60787644, 0.55398842, 0.55325749, 0.5       , 0.49144146,\n",
       "       0.47741726, 0.39957225, 0.39531802, 0.38262047, 0.37740847,\n",
       "       0.26862598, 0.24157946, 0.21827024, 0.20501289, 0.18776428,\n",
       "       0.18739129, 0.1815024 , 0.18150006, 0.18128421, 0.18121492,\n",
       "       0.18113973, 0.1810729 , 0.18101728, 0.18099518, 0.18097797,\n",
       "       0.1809726 , 0.18090359, 0.18064877, 0.18029693, 0.1802689 ,\n",
       "       0.18019499, 0.18014899, 0.17988679, 0.17973069, 0.17950167,\n",
       "       0.17945687, 0.17675354, 0.1763428 , 0.17457803, 0.17303829,\n",
       "       0.17125061, 0.16905281, 0.16894124, 0.16892763, 0.1606137 ,\n",
       "       0.15891566, 0.14789639, 0.13975798, 0.06422317])"
      ]
     },
     "execution_count": 133,
     "metadata": {},
     "output_type": "execute_result"
    }
   ],
   "source": [
    "thresholds"
   ]
  },
  {
   "cell_type": "code",
   "execution_count": 134,
   "id": "7753115c",
   "metadata": {},
   "outputs": [
    {
     "data": {
      "image/png": "[encoded data removed]",
      "text/plain": [
       "<Figure size 432x288 with 1 Axes>"
      ]
     },
     "metadata": {
      "needs_background": "light"
     },
     "output_type": "display_data"
    }
   ],
   "source": [
    "plt.plot([0,1],[0,1],'k--')\n",
    "plt.plot(tpr,fpr,label='SVC')\n",
    "plt.xlabel('FALSE_POSITIVE_RATE')\n",
    "plt.ylabel('TRUE_POSITIVE_RATE')\n",
    "plt.title('SVC_CLASSIFIER')\n",
    "plt.show()"
   ]
  },
  {
   "cell_type": "code",
   "execution_count": null,
   "id": "86c27d87",
   "metadata": {},
   "outputs": [],
   "source": []
  },
  {
   "cell_type": "markdown",
   "id": "eaae6e1b",
   "metadata": {},
   "source": [
    "## KNN CLASSIFIER"
   ]
  },
  {
   "cell_type": "code",
   "execution_count": 135,
   "id": "a3a7b4da",
   "metadata": {},
   "outputs": [],
   "source": [
    "knn=KNeighborsClassifier()"
   ]
  },
  {
   "cell_type": "code",
   "execution_count": 136,
   "id": "7acb13c8",
   "metadata": {},
   "outputs": [
    {
     "name": "stdout",
     "output_type": "stream",
     "text": [
      "At random_state {0} the training accuracy test is 0.8675\n",
      "At random_state {0} the testing accuracy test is 0.84\n",
      "\n",
      "\n",
      "At random_state {1} the training accuracy test is 0.88125\n",
      "At random_state {1} the testing accuracy test is 0.715\n",
      "\n",
      "\n",
      "At random_state {2} the training accuracy test is 0.86625\n",
      "At random_state {2} the testing accuracy test is 0.8\n",
      "\n",
      "\n",
      "At random_state {3} the training accuracy test is 0.86125\n",
      "At random_state {3} the testing accuracy test is 0.77\n",
      "\n",
      "\n",
      "At random_state {4} the training accuracy test is 0.86375\n",
      "At random_state {4} the testing accuracy test is 0.81\n",
      "\n",
      "\n",
      "At random_state {5} the training accuracy test is 0.8675\n",
      "At random_state {5} the testing accuracy test is 0.81\n",
      "\n",
      "\n",
      "At random_state {6} the training accuracy test is 0.8725\n",
      "At random_state {6} the testing accuracy test is 0.795\n",
      "\n",
      "\n",
      "At random_state {7} the training accuracy test is 0.8625\n",
      "At random_state {7} the testing accuracy test is 0.78\n",
      "\n",
      "\n",
      "At random_state {8} the training accuracy test is 0.86125\n",
      "At random_state {8} the testing accuracy test is 0.825\n",
      "\n",
      "\n",
      "At random_state {9} the training accuracy test is 0.85375\n",
      "At random_state {9} the testing accuracy test is 0.82\n",
      "\n",
      "\n",
      "At random_state {10} the training accuracy test is 0.86375\n",
      "At random_state {10} the testing accuracy test is 0.815\n",
      "\n",
      "\n",
      "At random_state {11} the training accuracy test is 0.86125\n",
      "At random_state {11} the testing accuracy test is 0.81\n",
      "\n",
      "\n",
      "At random_state {12} the training accuracy test is 0.865\n",
      "At random_state {12} the testing accuracy test is 0.835\n",
      "\n",
      "\n",
      "At random_state {13} the training accuracy test is 0.86125\n",
      "At random_state {13} the testing accuracy test is 0.805\n",
      "\n",
      "\n",
      "At random_state {14} the training accuracy test is 0.85125\n",
      "At random_state {14} the testing accuracy test is 0.855\n",
      "\n",
      "\n",
      "At random_state {15} the training accuracy test is 0.85625\n",
      "At random_state {15} the testing accuracy test is 0.825\n",
      "\n",
      "\n",
      "At random_state {16} the training accuracy test is 0.86375\n",
      "At random_state {16} the testing accuracy test is 0.795\n",
      "\n",
      "\n",
      "At random_state {17} the training accuracy test is 0.86125\n",
      "At random_state {17} the testing accuracy test is 0.825\n",
      "\n",
      "\n",
      "At random_state {18} the training accuracy test is 0.8675\n",
      "At random_state {18} the testing accuracy test is 0.825\n",
      "\n",
      "\n",
      "At random_state {19} the training accuracy test is 0.86625\n",
      "At random_state {19} the testing accuracy test is 0.79\n",
      "\n",
      "\n",
      "At random_state {20} the training accuracy test is 0.8475\n",
      "At random_state {20} the testing accuracy test is 0.825\n",
      "\n",
      "\n",
      "At random_state {21} the training accuracy test is 0.86375\n",
      "At random_state {21} the testing accuracy test is 0.82\n",
      "\n",
      "\n",
      "At random_state {22} the training accuracy test is 0.8575\n",
      "At random_state {22} the testing accuracy test is 0.82\n",
      "\n",
      "\n",
      "At random_state {23} the training accuracy test is 0.86375\n",
      "At random_state {23} the testing accuracy test is 0.805\n",
      "\n",
      "\n",
      "At random_state {24} the training accuracy test is 0.86\n",
      "At random_state {24} the testing accuracy test is 0.82\n",
      "\n",
      "\n",
      "At random_state {25} the training accuracy test is 0.8675\n",
      "At random_state {25} the testing accuracy test is 0.79\n",
      "\n",
      "\n",
      "At random_state {26} the training accuracy test is 0.875\n",
      "At random_state {26} the testing accuracy test is 0.79\n",
      "\n",
      "\n",
      "At random_state {27} the training accuracy test is 0.85\n",
      "At random_state {27} the testing accuracy test is 0.86\n",
      "\n",
      "\n",
      "At random_state {28} the training accuracy test is 0.86875\n",
      "At random_state {28} the testing accuracy test is 0.765\n",
      "\n",
      "\n",
      "At random_state {29} the training accuracy test is 0.87\n",
      "At random_state {29} the testing accuracy test is 0.77\n",
      "\n",
      "\n",
      "At random_state {30} the training accuracy test is 0.8675\n",
      "At random_state {30} the testing accuracy test is 0.82\n",
      "\n",
      "\n",
      "At random_state {31} the training accuracy test is 0.86875\n",
      "At random_state {31} the testing accuracy test is 0.755\n",
      "\n",
      "\n",
      "At random_state {32} the training accuracy test is 0.86625\n",
      "At random_state {32} the testing accuracy test is 0.805\n",
      "\n",
      "\n",
      "At random_state {33} the training accuracy test is 0.8675\n",
      "At random_state {33} the testing accuracy test is 0.815\n",
      "\n",
      "\n",
      "At random_state {34} the training accuracy test is 0.8625\n",
      "At random_state {34} the testing accuracy test is 0.795\n",
      "\n",
      "\n",
      "At random_state {35} the training accuracy test is 0.85625\n",
      "At random_state {35} the testing accuracy test is 0.845\n",
      "\n",
      "\n",
      "At random_state {36} the training accuracy test is 0.86375\n",
      "At random_state {36} the testing accuracy test is 0.8\n",
      "\n",
      "\n",
      "At random_state {37} the training accuracy test is 0.8775\n",
      "At random_state {37} the testing accuracy test is 0.74\n",
      "\n",
      "\n",
      "At random_state {38} the training accuracy test is 0.8625\n",
      "At random_state {38} the testing accuracy test is 0.83\n",
      "\n",
      "\n",
      "At random_state {39} the training accuracy test is 0.87125\n",
      "At random_state {39} the testing accuracy test is 0.775\n",
      "\n",
      "\n",
      "At random_state {40} the training accuracy test is 0.8775\n",
      "At random_state {40} the testing accuracy test is 0.795\n",
      "\n",
      "\n",
      "At random_state {41} the training accuracy test is 0.86125\n",
      "At random_state {41} the testing accuracy test is 0.85\n",
      "\n",
      "\n",
      "At random_state {42} the training accuracy test is 0.865\n",
      "At random_state {42} the testing accuracy test is 0.815\n",
      "\n",
      "\n",
      "At random_state {43} the training accuracy test is 0.8625\n",
      "At random_state {43} the testing accuracy test is 0.83\n",
      "\n",
      "\n",
      "At random_state {44} the training accuracy test is 0.8525\n",
      "At random_state {44} the testing accuracy test is 0.82\n",
      "\n",
      "\n",
      "At random_state {45} the training accuracy test is 0.85875\n",
      "At random_state {45} the testing accuracy test is 0.805\n",
      "\n",
      "\n",
      "At random_state {46} the training accuracy test is 0.8625\n",
      "At random_state {46} the testing accuracy test is 0.81\n",
      "\n",
      "\n",
      "At random_state {47} the training accuracy test is 0.86\n",
      "At random_state {47} the testing accuracy test is 0.815\n",
      "\n",
      "\n",
      "At random_state {48} the training accuracy test is 0.8625\n",
      "At random_state {48} the testing accuracy test is 0.82\n",
      "\n",
      "\n",
      "At random_state {49} the training accuracy test is 0.85875\n",
      "At random_state {49} the testing accuracy test is 0.825\n",
      "\n",
      "\n",
      "At random_state {50} the training accuracy test is 0.88\n",
      "At random_state {50} the testing accuracy test is 0.775\n",
      "\n",
      "\n",
      "At random_state {51} the training accuracy test is 0.87\n",
      "At random_state {51} the testing accuracy test is 0.81\n",
      "\n",
      "\n",
      "At random_state {52} the training accuracy test is 0.8575\n",
      "At random_state {52} the testing accuracy test is 0.82\n",
      "\n",
      "\n",
      "At random_state {53} the training accuracy test is 0.86\n",
      "At random_state {53} the testing accuracy test is 0.84\n",
      "\n",
      "\n",
      "At random_state {54} the training accuracy test is 0.86875\n",
      "At random_state {54} the testing accuracy test is 0.805\n",
      "\n",
      "\n",
      "At random_state {55} the training accuracy test is 0.8725\n",
      "At random_state {55} the testing accuracy test is 0.775\n",
      "\n",
      "\n",
      "At random_state {56} the training accuracy test is 0.85625\n",
      "At random_state {56} the testing accuracy test is 0.805\n",
      "\n",
      "\n",
      "At random_state {57} the training accuracy test is 0.85875\n",
      "At random_state {57} the testing accuracy test is 0.825\n",
      "\n",
      "\n",
      "At random_state {58} the training accuracy test is 0.865\n",
      "At random_state {58} the testing accuracy test is 0.79\n",
      "\n",
      "\n",
      "At random_state {59} the training accuracy test is 0.86875\n",
      "At random_state {59} the testing accuracy test is 0.81\n",
      "\n",
      "\n",
      "At random_state {60} the training accuracy test is 0.875\n",
      "At random_state {60} the testing accuracy test is 0.81\n",
      "\n",
      "\n",
      "At random_state {61} the training accuracy test is 0.8625\n",
      "At random_state {61} the testing accuracy test is 0.81\n",
      "\n",
      "\n",
      "At random_state {62} the training accuracy test is 0.8625\n",
      "At random_state {62} the testing accuracy test is 0.815\n",
      "\n",
      "\n",
      "At random_state {63} the training accuracy test is 0.8575\n",
      "At random_state {63} the testing accuracy test is 0.815\n",
      "\n",
      "\n",
      "At random_state {64} the training accuracy test is 0.87\n",
      "At random_state {64} the testing accuracy test is 0.795\n",
      "\n",
      "\n",
      "At random_state {65} the training accuracy test is 0.87125\n",
      "At random_state {65} the testing accuracy test is 0.79\n",
      "\n",
      "\n",
      "At random_state {66} the training accuracy test is 0.8675\n",
      "At random_state {66} the testing accuracy test is 0.805\n",
      "\n",
      "\n",
      "At random_state {67} the training accuracy test is 0.86375\n",
      "At random_state {67} the testing accuracy test is 0.76\n",
      "\n",
      "\n",
      "At random_state {68} the training accuracy test is 0.875\n",
      "At random_state {68} the testing accuracy test is 0.815\n",
      "\n",
      "\n",
      "At random_state {69} the training accuracy test is 0.86375\n",
      "At random_state {69} the testing accuracy test is 0.795\n",
      "\n",
      "\n",
      "At random_state {70} the training accuracy test is 0.8675\n",
      "At random_state {70} the testing accuracy test is 0.815\n",
      "\n",
      "\n",
      "At random_state {71} the training accuracy test is 0.87625\n",
      "At random_state {71} the testing accuracy test is 0.78\n",
      "\n",
      "\n",
      "At random_state {72} the training accuracy test is 0.86375\n",
      "At random_state {72} the testing accuracy test is 0.81\n",
      "\n",
      "\n",
      "At random_state {73} the training accuracy test is 0.86\n",
      "At random_state {73} the testing accuracy test is 0.795\n",
      "\n",
      "\n",
      "At random_state {74} the training accuracy test is 0.86625\n",
      "At random_state {74} the testing accuracy test is 0.8\n",
      "\n",
      "\n",
      "At random_state {75} the training accuracy test is 0.8675\n",
      "At random_state {75} the testing accuracy test is 0.815\n",
      "\n",
      "\n",
      "At random_state {76} the training accuracy test is 0.87\n",
      "At random_state {76} the testing accuracy test is 0.785\n",
      "\n",
      "\n",
      "At random_state {77} the training accuracy test is 0.8725\n",
      "At random_state {77} the testing accuracy test is 0.765\n",
      "\n",
      "\n",
      "At random_state {78} the training accuracy test is 0.87875\n",
      "At random_state {78} the testing accuracy test is 0.785\n",
      "\n",
      "\n",
      "At random_state {79} the training accuracy test is 0.86\n",
      "At random_state {79} the testing accuracy test is 0.825\n",
      "\n",
      "\n",
      "At random_state {80} the training accuracy test is 0.86625\n",
      "At random_state {80} the testing accuracy test is 0.82\n",
      "\n",
      "\n",
      "At random_state {81} the training accuracy test is 0.87125\n",
      "At random_state {81} the testing accuracy test is 0.785\n",
      "\n",
      "\n",
      "At random_state {82} the training accuracy test is 0.87125\n",
      "At random_state {82} the testing accuracy test is 0.775\n",
      "\n",
      "\n",
      "At random_state {83} the training accuracy test is 0.865\n",
      "At random_state {83} the testing accuracy test is 0.825\n",
      "\n",
      "\n",
      "At random_state {84} the training accuracy test is 0.8675\n",
      "At random_state {84} the testing accuracy test is 0.795\n",
      "\n",
      "\n",
      "At random_state {85} the training accuracy test is 0.865\n",
      "At random_state {85} the testing accuracy test is 0.785\n",
      "\n",
      "\n",
      "At random_state {86} the training accuracy test is 0.8575\n",
      "At random_state {86} the testing accuracy test is 0.83\n",
      "\n",
      "\n",
      "At random_state {87} the training accuracy test is 0.86375\n",
      "At random_state {87} the testing accuracy test is 0.8\n",
      "\n",
      "\n",
      "At random_state {88} the training accuracy test is 0.87125\n",
      "At random_state {88} the testing accuracy test is 0.79\n",
      "\n",
      "\n",
      "At random_state {89} the training accuracy test is 0.8675\n",
      "At random_state {89} the testing accuracy test is 0.81\n",
      "\n",
      "\n",
      "At random_state {90} the training accuracy test is 0.85375\n",
      "At random_state {90} the testing accuracy test is 0.83\n",
      "\n",
      "\n",
      "At random_state {91} the training accuracy test is 0.86125\n",
      "At random_state {91} the testing accuracy test is 0.825\n",
      "\n",
      "\n",
      "At random_state {92} the training accuracy test is 0.8725\n",
      "At random_state {92} the testing accuracy test is 0.825\n",
      "\n",
      "\n",
      "At random_state {93} the training accuracy test is 0.87125\n",
      "At random_state {93} the testing accuracy test is 0.8\n",
      "\n",
      "\n",
      "At random_state {94} the training accuracy test is 0.84625\n",
      "At random_state {94} the testing accuracy test is 0.84\n",
      "\n",
      "\n",
      "At random_state {95} the training accuracy test is 0.86875\n",
      "At random_state {95} the testing accuracy test is 0.79\n",
      "\n",
      "\n",
      "At random_state {96} the training accuracy test is 0.86625\n",
      "At random_state {96} the testing accuracy test is 0.84\n",
      "\n",
      "\n",
      "At random_state {97} the training accuracy test is 0.86875\n",
      "At random_state {97} the testing accuracy test is 0.78\n",
      "\n",
      "\n",
      "At random_state {98} the training accuracy test is 0.87125\n",
      "At random_state {98} the testing accuracy test is 0.815\n",
      "\n",
      "\n",
      "At random_state {99} the training accuracy test is 0.865\n",
      "At random_state {99} the testing accuracy test is 0.795\n",
      "\n",
      "\n"
     ]
    }
   ],
   "source": [
    "for i in range(0,100):\n",
    "    x_train,x_test,y_train,y_test=train_test_split(x1,y1,test_size=0.20,random_state=i)\n",
    "    knn.fit(x_train,y_train)\n",
    "    predknn=knn.predict(x_train)\n",
    "    predknn1=knn.predict(x_test)\n",
    "    print('At random_state' ,{i}, 'the training accuracy test is', accuracy_score(y_train,predknn))\n",
    "    print('At random_state' ,{i}, 'the testing accuracy test is', accuracy_score(y_test,predknn1))\n",
    "    print('\\n')"
   ]
  },
  {
   "cell_type": "markdown",
   "id": "c8890ffd",
   "metadata": {},
   "source": [
    "### AT RANDOM STATE 27 (86%) ACCURACY WE ARE GETTING, HENCE WE WILL GO AHEAD WITH THAT "
   ]
  },
  {
   "cell_type": "code",
   "execution_count": 242,
   "id": "441adf47",
   "metadata": {},
   "outputs": [],
   "source": [
    "x_train,x_test,y_train,y_test=train_test_split(x1,y1,test_size=0.20,random_state=27)"
   ]
  },
  {
   "cell_type": "code",
   "execution_count": 243,
   "id": "6f1f32e9",
   "metadata": {},
   "outputs": [
    {
     "data": {
      "text/html": [
       "<style>#sk-container-id-10 {color: black;background-color: white;}#sk-container-id-10 pre{padding: 0;}#sk-container-id-10 div.sk-toggleable {background-color: white;}#sk-container-id-10 label.sk-toggleable__label {cursor: pointer;display: block;width: 100%;margin-bottom: 0;padding: 0.3em;box-sizing: border-box;text-align: center;}#sk-container-id-10 label.sk-toggleable__label-arrow:before {content: \"▸\";float: left;margin-right: 0.25em;color: #696969;}#sk-container-id-10 label.sk-toggleable__label-arrow:hover:before {color: black;}#sk-container-id-10 div.sk-estimator:hover label.sk-toggleable__label-arrow:before {color: black;}#sk-container-id-10 div.sk-toggleable__content {max-height: 0;max-width: 0;overflow: hidden;text-align: left;background-color: #f0f8ff;}#sk-container-id-10 div.sk-toggleable__content pre {margin: 0.2em;color: black;border-radius: 0.25em;background-color: #f0f8ff;}#sk-container-id-10 input.sk-toggleable__control:checked~div.sk-toggleable__content {max-height: 200px;max-width: 100%;overflow: auto;}#sk-container-id-10 input.sk-toggleable__control:checked~label.sk-toggleable__label-arrow:before {content: \"▾\";}#sk-container-id-10 div.sk-estimator input.sk-toggleable__control:checked~label.sk-toggleable__label {background-color: #d4ebff;}#sk-container-id-10 div.sk-label input.sk-toggleable__control:checked~label.sk-toggleable__label {background-color: #d4ebff;}#sk-container-id-10 input.sk-hidden--visually {border: 0;clip: rect(1px 1px 1px 1px);clip: rect(1px, 1px, 1px, 1px);height: 1px;margin: -1px;overflow: hidden;padding: 0;position: absolute;width: 1px;}#sk-container-id-10 div.sk-estimator {font-family: monospace;background-color: #f0f8ff;border: 1px dotted black;border-radius: 0.25em;box-sizing: border-box;margin-bottom: 0.5em;}#sk-container-id-10 div.sk-estimator:hover {background-color: #d4ebff;}#sk-container-id-10 div.sk-parallel-item::after {content: \"\";width: 100%;border-bottom: 1px solid gray;flex-grow: 1;}#sk-container-id-10 div.sk-label:hover label.sk-toggleable__label {background-color: #d4ebff;}#sk-container-id-10 div.sk-serial::before {content: \"\";position: absolute;border-left: 1px solid gray;box-sizing: border-box;top: 0;bottom: 0;left: 50%;z-index: 0;}#sk-container-id-10 div.sk-serial {display: flex;flex-direction: column;align-items: center;background-color: white;padding-right: 0.2em;padding-left: 0.2em;position: relative;}#sk-container-id-10 div.sk-item {position: relative;z-index: 1;}#sk-container-id-10 div.sk-parallel {display: flex;align-items: stretch;justify-content: center;background-color: white;position: relative;}#sk-container-id-10 div.sk-item::before, #sk-container-id-10 div.sk-parallel-item::before {content: \"\";position: absolute;border-left: 1px solid gray;box-sizing: border-box;top: 0;bottom: 0;left: 50%;z-index: -1;}#sk-container-id-10 div.sk-parallel-item {display: flex;flex-direction: column;z-index: 1;position: relative;background-color: white;}#sk-container-id-10 div.sk-parallel-item:first-child::after {align-self: flex-end;width: 50%;}#sk-container-id-10 div.sk-parallel-item:last-child::after {align-self: flex-start;width: 50%;}#sk-container-id-10 div.sk-parallel-item:only-child::after {width: 0;}#sk-container-id-10 div.sk-dashed-wrapped {border: 1px dashed gray;margin: 0 0.4em 0.5em 0.4em;box-sizing: border-box;padding-bottom: 0.4em;background-color: white;}#sk-container-id-10 div.sk-label label {font-family: monospace;font-weight: bold;display: inline-block;line-height: 1.2em;}#sk-container-id-10 div.sk-label-container {text-align: center;}#sk-container-id-10 div.sk-container {/* jupyter's `normalize.less` sets `[hidden] { display: none; }` but bootstrap.min.css set `[hidden] { display: none !important; }` so we also need the `!important` here to be able to override the default hidden behavior on the sphinx rendered scikit-learn.org. See: https://github.com/scikit-learn/scikit-learn/issues/21755 */display: inline-block !important;position: relative;}#sk-container-id-10 div.sk-text-repr-fallback {display: none;}</style><div id=\"sk-container-id-10\" class=\"sk-top-container\"><div class=\"sk-text-repr-fallback\"><pre>KNeighborsClassifier()</pre><b>In a Jupyter environment, please rerun this cell to show the HTML representation or trust the notebook. <br />On GitHub, the HTML representation is unable to render, please try loading this page with nbviewer.org.</b></div><div class=\"sk-container\" hidden><div class=\"sk-item\"><div class=\"sk-estimator sk-toggleable\"><input class=\"sk-toggleable__control sk-hidden--visually\" id=\"sk-estimator-id-10\" type=\"checkbox\" checked><label for=\"sk-estimator-id-10\" class=\"sk-toggleable__label sk-toggleable__label-arrow\">KNeighborsClassifier</label><div class=\"sk-toggleable__content\"><pre>KNeighborsClassifier()</pre></div></div></div></div></div>"
      ],
      "text/plain": [
       "KNeighborsClassifier()"
      ]
     },
     "execution_count": 243,
     "metadata": {},
     "output_type": "execute_result"
    }
   ],
   "source": [
    "knn.fit(x_train,y_train)"
   ]
  },
  {
   "cell_type": "code",
   "execution_count": 244,
   "id": "17b283a7",
   "metadata": {},
   "outputs": [],
   "source": [
    "PREKNN=knn.predict(x_test)"
   ]
  },
  {
   "cell_type": "code",
   "execution_count": 245,
   "id": "a3631172",
   "metadata": {},
   "outputs": [
    {
     "name": "stdout",
     "output_type": "stream",
     "text": [
      "0.86\n"
     ]
    }
   ],
   "source": [
    "print(accuracy_score(y_test,PREKNN))"
   ]
  },
  {
   "cell_type": "code",
   "execution_count": 246,
   "id": "ba3bb169",
   "metadata": {},
   "outputs": [
    {
     "name": "stdout",
     "output_type": "stream",
     "text": [
      "[[98 13]\n",
      " [15 74]]\n"
     ]
    }
   ],
   "source": [
    "print(confusion_matrix(y_test,PREKNN))"
   ]
  },
  {
   "cell_type": "code",
   "execution_count": 247,
   "id": "6b00406b",
   "metadata": {},
   "outputs": [
    {
     "name": "stdout",
     "output_type": "stream",
     "text": [
      "              precision    recall  f1-score   support\n",
      "\n",
      "           0       0.87      0.88      0.88       111\n",
      "           1       0.85      0.83      0.84        89\n",
      "\n",
      "    accuracy                           0.86       200\n",
      "   macro avg       0.86      0.86      0.86       200\n",
      "weighted avg       0.86      0.86      0.86       200\n",
      "\n"
     ]
    }
   ],
   "source": [
    "print(classification_report(y_test,PREKNN))"
   ]
  },
  {
   "cell_type": "code",
   "execution_count": null,
   "id": "46992a6f",
   "metadata": {},
   "outputs": [],
   "source": []
  },
  {
   "cell_type": "markdown",
   "id": "2c108081",
   "metadata": {},
   "source": [
    "## AUC ROC CURVE"
   ]
  },
  {
   "cell_type": "code",
   "execution_count": 143,
   "id": "9f80b97d",
   "metadata": {},
   "outputs": [],
   "source": [
    "y_pred_prob3=knn.predict_proba(x_test)[:,1]"
   ]
  },
  {
   "cell_type": "code",
   "execution_count": 144,
   "id": "d7c63cdc",
   "metadata": {},
   "outputs": [
    {
     "data": {
      "text/plain": [
       "array([1. , 1. , 0.2, 0.2, 1. , 0.8, 0.2, 0.6, 1. , 1. , 0. , 0.2, 0.4,\n",
       "       0. , 0.8, 1. , 0.8, 0. , 0. , 0. , 1. , 1. , 0.6, 0. , 0.8, 0.2,\n",
       "       1. , 0.8, 1. , 0.8, 0.6, 1. , 0.6, 0. , 0. , 0.2, 0. , 0.8, 1. ,\n",
       "       0.4, 0.4, 0.4, 1. , 0.2, 0.8, 0.8, 0.4, 0.6, 0.2, 0.4, 1. , 0.2,\n",
       "       0.2, 0.4, 0.6, 0.6, 0. , 0.8, 0.2, 1. , 0.4, 0.8, 1. , 1. , 0.2,\n",
       "       0.8, 0.6, 0.4, 1. , 0. , 0. , 0.8, 1. , 0. , 1. , 0.4, 0.6, 0.6,\n",
       "       1. , 1. , 0.4, 0.2, 0. , 0.4, 1. , 0. , 0.8, 0.4, 0.2, 0.8, 0.2,\n",
       "       1. , 0.8, 0.2, 0.4, 0. , 0.4, 0. , 0. , 0.8, 0. , 0.2, 0.8, 1. ,\n",
       "       1. , 0. , 1. , 0.2, 0. , 0.6, 0. , 1. , 0. , 1. , 1. , 0.2, 0.2,\n",
       "       0. , 0. , 1. , 0.6, 0.4, 1. , 0.8, 0.2, 1. , 0. , 0.6, 0.6, 0. ,\n",
       "       0.2, 0.2, 1. , 0.8, 1. , 1. , 1. , 0.8, 0. , 0.2, 1. , 0.6, 0.8,\n",
       "       0.2, 0.2, 0.2, 0.2, 0.2, 0. , 0. , 0.2, 1. , 0.6, 0.6, 0.8, 0.4,\n",
       "       0. , 0.6, 1. , 1. , 0.2, 0.2, 0.6, 1. , 1. , 0. , 0.8, 0. , 1. ,\n",
       "       0.8, 0.2, 0.4, 0.2, 0. , 1. , 1. , 0.8, 0.2, 0. , 0.2, 0. , 0.2,\n",
       "       1. , 0.2, 0. , 0.2, 0.4, 1. , 0.2, 1. , 0.2, 1. , 0.6, 0. , 0. ,\n",
       "       0.6, 0. , 1. , 0. , 0.8])"
      ]
     },
     "execution_count": 144,
     "metadata": {},
     "output_type": "execute_result"
    }
   ],
   "source": [
    "y_pred_prob3"
   ]
  },
  {
   "cell_type": "code",
   "execution_count": 145,
   "id": "f5b56996",
   "metadata": {},
   "outputs": [],
   "source": [
    "tpr,fpr,thresholds=roc_curve(y_test,y_pred_prob3)"
   ]
  },
  {
   "cell_type": "code",
   "execution_count": 146,
   "id": "4ec1da64",
   "metadata": {},
   "outputs": [
    {
     "data": {
      "text/plain": [
       "array([0.  , 0.04, 0.08, 0.18, 0.27, 0.63, 1.  ])"
      ]
     },
     "execution_count": 146,
     "metadata": {},
     "output_type": "execute_result"
    }
   ],
   "source": [
    "tpr"
   ]
  },
  {
   "cell_type": "code",
   "execution_count": 147,
   "id": "3815935a",
   "metadata": {},
   "outputs": [
    {
     "data": {
      "text/plain": [
       "array([0.  , 0.47, 0.7 , 0.81, 0.91, 0.96, 1.  ])"
      ]
     },
     "execution_count": 147,
     "metadata": {},
     "output_type": "execute_result"
    }
   ],
   "source": [
    "fpr"
   ]
  },
  {
   "cell_type": "code",
   "execution_count": 148,
   "id": "7e197a7d",
   "metadata": {},
   "outputs": [
    {
     "data": {
      "text/plain": [
       "array([2. , 1. , 0.8, 0.6, 0.4, 0.2, 0. ])"
      ]
     },
     "execution_count": 148,
     "metadata": {},
     "output_type": "execute_result"
    }
   ],
   "source": [
    "thresholds"
   ]
  },
  {
   "cell_type": "code",
   "execution_count": 149,
   "id": "2c9d0402",
   "metadata": {},
   "outputs": [
    {
     "data": {
      "image/png": "[encoded data removed]",
      "text/plain": [
       "<Figure size 432x288 with 1 Axes>"
      ]
     },
     "metadata": {
      "needs_background": "light"
     },
     "output_type": "display_data"
    }
   ],
   "source": [
    "plt.plot([0,1],[0,1],'k--')\n",
    "plt.plot(tpr,fpr,label='KNN')\n",
    "plt.xlabel('FALSE_POSITIVE_RATE')\n",
    "plt.ylabel('TRUE_POSITIVE_RATE')\n",
    "plt.title('KNN_CLASSIFIER')\n",
    "plt.show()"
   ]
  },
  {
   "cell_type": "code",
   "execution_count": 150,
   "id": "bf00a7df",
   "metadata": {},
   "outputs": [
    {
     "data": {
      "text/plain": [
       "0.8150000000000001"
      ]
     },
     "execution_count": 150,
     "metadata": {},
     "output_type": "execute_result"
    }
   ],
   "source": [
    "auc_score=roc_auc_score(y_test,(knn.predict(x_test)))\n",
    "auc_score"
   ]
  },
  {
   "cell_type": "markdown",
   "id": "2b53c5da",
   "metadata": {},
   "source": [
    "## DECISION TREE CLASSIFIER"
   ]
  },
  {
   "cell_type": "code",
   "execution_count": 151,
   "id": "115a1be4",
   "metadata": {},
   "outputs": [],
   "source": [
    "from sklearn.tree import DecisionTreeClassifier"
   ]
  },
  {
   "cell_type": "code",
   "execution_count": 152,
   "id": "4d04417f",
   "metadata": {},
   "outputs": [],
   "source": [
    "dtc=DecisionTreeClassifier()"
   ]
  },
  {
   "cell_type": "code",
   "execution_count": 153,
   "id": "832379f2",
   "metadata": {},
   "outputs": [
    {
     "name": "stdout",
     "output_type": "stream",
     "text": [
      "At random_state {0} the training accuracy test is 0.9875\n",
      "At random_state {0} the testing accuracy test is 0.8\n",
      "\n",
      "\n",
      "At random_state {1} the training accuracy test is 0.985\n",
      "At random_state {1} the testing accuracy test is 0.725\n",
      "\n",
      "\n",
      "At random_state {2} the training accuracy test is 0.98625\n",
      "At random_state {2} the testing accuracy test is 0.795\n",
      "\n",
      "\n",
      "At random_state {3} the training accuracy test is 0.98875\n",
      "At random_state {3} the testing accuracy test is 0.735\n",
      "\n",
      "\n",
      "At random_state {4} the training accuracy test is 0.98875\n",
      "At random_state {4} the testing accuracy test is 0.785\n",
      "\n",
      "\n",
      "At random_state {5} the training accuracy test is 0.985\n",
      "At random_state {5} the testing accuracy test is 0.8\n",
      "\n",
      "\n",
      "At random_state {6} the training accuracy test is 0.99\n",
      "At random_state {6} the testing accuracy test is 0.805\n",
      "\n",
      "\n",
      "At random_state {7} the training accuracy test is 0.985\n",
      "At random_state {7} the testing accuracy test is 0.81\n",
      "\n",
      "\n",
      "At random_state {8} the training accuracy test is 0.9825\n",
      "At random_state {8} the testing accuracy test is 0.81\n",
      "\n",
      "\n",
      "At random_state {9} the training accuracy test is 0.98375\n",
      "At random_state {9} the testing accuracy test is 0.805\n",
      "\n",
      "\n",
      "At random_state {10} the training accuracy test is 0.985\n",
      "At random_state {10} the testing accuracy test is 0.79\n",
      "\n",
      "\n",
      "At random_state {11} the training accuracy test is 0.98375\n",
      "At random_state {11} the testing accuracy test is 0.78\n",
      "\n",
      "\n",
      "At random_state {12} the training accuracy test is 0.985\n",
      "At random_state {12} the testing accuracy test is 0.79\n",
      "\n",
      "\n",
      "At random_state {13} the training accuracy test is 0.98375\n",
      "At random_state {13} the testing accuracy test is 0.79\n",
      "\n",
      "\n",
      "At random_state {14} the training accuracy test is 0.985\n",
      "At random_state {14} the testing accuracy test is 0.835\n",
      "\n",
      "\n",
      "At random_state {15} the training accuracy test is 0.98875\n",
      "At random_state {15} the testing accuracy test is 0.805\n",
      "\n",
      "\n",
      "At random_state {16} the training accuracy test is 0.98625\n",
      "At random_state {16} the testing accuracy test is 0.755\n",
      "\n",
      "\n",
      "At random_state {17} the training accuracy test is 0.985\n",
      "At random_state {17} the testing accuracy test is 0.765\n",
      "\n",
      "\n",
      "At random_state {18} the training accuracy test is 0.98625\n",
      "At random_state {18} the testing accuracy test is 0.795\n",
      "\n",
      "\n",
      "At random_state {19} the training accuracy test is 0.98375\n",
      "At random_state {19} the testing accuracy test is 0.74\n",
      "\n",
      "\n",
      "At random_state {20} the training accuracy test is 0.9825\n",
      "At random_state {20} the testing accuracy test is 0.79\n",
      "\n",
      "\n",
      "At random_state {21} the training accuracy test is 0.9875\n",
      "At random_state {21} the testing accuracy test is 0.78\n",
      "\n",
      "\n",
      "At random_state {22} the training accuracy test is 0.985\n",
      "At random_state {22} the testing accuracy test is 0.8\n",
      "\n",
      "\n",
      "At random_state {23} the training accuracy test is 0.99\n",
      "At random_state {23} the testing accuracy test is 0.795\n",
      "\n",
      "\n",
      "At random_state {24} the training accuracy test is 0.9875\n",
      "At random_state {24} the testing accuracy test is 0.8\n",
      "\n",
      "\n",
      "At random_state {25} the training accuracy test is 0.98875\n",
      "At random_state {25} the testing accuracy test is 0.745\n",
      "\n",
      "\n",
      "At random_state {26} the training accuracy test is 0.985\n",
      "At random_state {26} the testing accuracy test is 0.73\n",
      "\n",
      "\n",
      "At random_state {27} the training accuracy test is 0.98375\n",
      "At random_state {27} the testing accuracy test is 0.83\n",
      "\n",
      "\n",
      "At random_state {28} the training accuracy test is 0.9925\n",
      "At random_state {28} the testing accuracy test is 0.765\n",
      "\n",
      "\n",
      "At random_state {29} the training accuracy test is 0.98625\n",
      "At random_state {29} the testing accuracy test is 0.785\n",
      "\n",
      "\n",
      "At random_state {30} the training accuracy test is 0.98625\n",
      "At random_state {30} the testing accuracy test is 0.79\n",
      "\n",
      "\n",
      "At random_state {31} the training accuracy test is 0.9825\n",
      "At random_state {31} the testing accuracy test is 0.76\n",
      "\n",
      "\n",
      "At random_state {32} the training accuracy test is 0.98625\n",
      "At random_state {32} the testing accuracy test is 0.78\n",
      "\n",
      "\n",
      "At random_state {33} the training accuracy test is 0.9825\n",
      "At random_state {33} the testing accuracy test is 0.815\n",
      "\n",
      "\n",
      "At random_state {34} the training accuracy test is 0.98625\n",
      "At random_state {34} the testing accuracy test is 0.805\n",
      "\n",
      "\n",
      "At random_state {35} the training accuracy test is 0.98625\n",
      "At random_state {35} the testing accuracy test is 0.845\n",
      "\n",
      "\n",
      "At random_state {36} the training accuracy test is 0.98625\n",
      "At random_state {36} the testing accuracy test is 0.78\n",
      "\n",
      "\n",
      "At random_state {37} the training accuracy test is 0.98625\n",
      "At random_state {37} the testing accuracy test is 0.775\n",
      "\n",
      "\n",
      "At random_state {38} the training accuracy test is 0.98625\n",
      "At random_state {38} the testing accuracy test is 0.805\n",
      "\n",
      "\n",
      "At random_state {39} the training accuracy test is 0.98625\n",
      "At random_state {39} the testing accuracy test is 0.755\n",
      "\n",
      "\n",
      "At random_state {40} the training accuracy test is 0.9825\n",
      "At random_state {40} the testing accuracy test is 0.81\n",
      "\n",
      "\n",
      "At random_state {41} the training accuracy test is 0.98625\n",
      "At random_state {41} the testing accuracy test is 0.825\n",
      "\n",
      "\n",
      "At random_state {42} the training accuracy test is 0.985\n",
      "At random_state {42} the testing accuracy test is 0.76\n",
      "\n",
      "\n",
      "At random_state {43} the training accuracy test is 0.985\n",
      "At random_state {43} the testing accuracy test is 0.825\n",
      "\n",
      "\n",
      "At random_state {44} the training accuracy test is 0.98625\n",
      "At random_state {44} the testing accuracy test is 0.82\n",
      "\n",
      "\n",
      "At random_state {45} the training accuracy test is 0.9875\n",
      "At random_state {45} the testing accuracy test is 0.815\n",
      "\n",
      "\n",
      "At random_state {46} the training accuracy test is 0.98375\n",
      "At random_state {46} the testing accuracy test is 0.755\n",
      "\n",
      "\n",
      "At random_state {47} the training accuracy test is 0.98375\n",
      "At random_state {47} the testing accuracy test is 0.815\n",
      "\n",
      "\n",
      "At random_state {48} the training accuracy test is 0.98125\n",
      "At random_state {48} the testing accuracy test is 0.775\n",
      "\n",
      "\n",
      "At random_state {49} the training accuracy test is 0.985\n",
      "At random_state {49} the testing accuracy test is 0.78\n",
      "\n",
      "\n",
      "At random_state {50} the training accuracy test is 0.9875\n",
      "At random_state {50} the testing accuracy test is 0.76\n",
      "\n",
      "\n",
      "At random_state {51} the training accuracy test is 0.985\n",
      "At random_state {51} the testing accuracy test is 0.795\n",
      "\n",
      "\n",
      "At random_state {52} the training accuracy test is 0.99125\n",
      "At random_state {52} the testing accuracy test is 0.775\n",
      "\n",
      "\n",
      "At random_state {53} the training accuracy test is 0.98375\n",
      "At random_state {53} the testing accuracy test is 0.785\n",
      "\n",
      "\n",
      "At random_state {54} the training accuracy test is 0.98625\n",
      "At random_state {54} the testing accuracy test is 0.745\n",
      "\n",
      "\n",
      "At random_state {55} the training accuracy test is 0.98625\n",
      "At random_state {55} the testing accuracy test is 0.72\n",
      "\n",
      "\n",
      "At random_state {56} the training accuracy test is 0.985\n",
      "At random_state {56} the testing accuracy test is 0.8\n",
      "\n",
      "\n",
      "At random_state {57} the training accuracy test is 0.98625\n",
      "At random_state {57} the testing accuracy test is 0.81\n",
      "\n",
      "\n",
      "At random_state {58} the training accuracy test is 0.98375\n",
      "At random_state {58} the testing accuracy test is 0.77\n",
      "\n",
      "\n",
      "At random_state {59} the training accuracy test is 0.985\n",
      "At random_state {59} the testing accuracy test is 0.8\n",
      "\n",
      "\n",
      "At random_state {60} the training accuracy test is 0.98625\n",
      "At random_state {60} the testing accuracy test is 0.775\n",
      "\n",
      "\n",
      "At random_state {61} the training accuracy test is 0.98625\n",
      "At random_state {61} the testing accuracy test is 0.75\n",
      "\n",
      "\n",
      "At random_state {62} the training accuracy test is 0.99125\n",
      "At random_state {62} the testing accuracy test is 0.745\n",
      "\n",
      "\n",
      "At random_state {63} the training accuracy test is 0.98375\n",
      "At random_state {63} the testing accuracy test is 0.79\n",
      "\n",
      "\n",
      "At random_state {64} the training accuracy test is 0.985\n",
      "At random_state {64} the testing accuracy test is 0.75\n",
      "\n",
      "\n",
      "At random_state {65} the training accuracy test is 0.99\n",
      "At random_state {65} the testing accuracy test is 0.77\n",
      "\n",
      "\n",
      "At random_state {66} the training accuracy test is 0.9825\n",
      "At random_state {66} the testing accuracy test is 0.81\n",
      "\n",
      "\n",
      "At random_state {67} the training accuracy test is 0.98625\n",
      "At random_state {67} the testing accuracy test is 0.81\n",
      "\n",
      "\n",
      "At random_state {68} the training accuracy test is 0.98375\n",
      "At random_state {68} the testing accuracy test is 0.785\n",
      "\n",
      "\n",
      "At random_state {69} the training accuracy test is 0.985\n",
      "At random_state {69} the testing accuracy test is 0.785\n",
      "\n",
      "\n",
      "At random_state {70} the training accuracy test is 0.98375\n",
      "At random_state {70} the testing accuracy test is 0.79\n",
      "\n",
      "\n",
      "At random_state {71} the training accuracy test is 0.98875\n",
      "At random_state {71} the testing accuracy test is 0.8\n",
      "\n",
      "\n",
      "At random_state {72} the training accuracy test is 0.98625\n",
      "At random_state {72} the testing accuracy test is 0.815\n",
      "\n",
      "\n",
      "At random_state {73} the training accuracy test is 0.9875\n",
      "At random_state {73} the testing accuracy test is 0.745\n",
      "\n",
      "\n",
      "At random_state {74} the training accuracy test is 0.9875\n",
      "At random_state {74} the testing accuracy test is 0.77\n",
      "\n",
      "\n",
      "At random_state {75} the training accuracy test is 0.98375\n",
      "At random_state {75} the testing accuracy test is 0.81\n",
      "\n",
      "\n",
      "At random_state {76} the training accuracy test is 0.985\n",
      "At random_state {76} the testing accuracy test is 0.775\n",
      "\n",
      "\n",
      "At random_state {77} the training accuracy test is 0.99\n",
      "At random_state {77} the testing accuracy test is 0.72\n",
      "\n",
      "\n",
      "At random_state {78} the training accuracy test is 0.99375\n",
      "At random_state {78} the testing accuracy test is 0.735\n",
      "\n",
      "\n",
      "At random_state {79} the training accuracy test is 0.985\n",
      "At random_state {79} the testing accuracy test is 0.81\n",
      "\n",
      "\n",
      "At random_state {80} the training accuracy test is 0.9875\n",
      "At random_state {80} the testing accuracy test is 0.75\n",
      "\n",
      "\n",
      "At random_state {81} the training accuracy test is 0.98625\n",
      "At random_state {81} the testing accuracy test is 0.78\n",
      "\n",
      "\n",
      "At random_state {82} the training accuracy test is 0.9875\n",
      "At random_state {82} the testing accuracy test is 0.765\n",
      "\n",
      "\n",
      "At random_state {83} the training accuracy test is 0.9825\n",
      "At random_state {83} the testing accuracy test is 0.81\n",
      "\n",
      "\n",
      "At random_state {84} the training accuracy test is 0.9875\n",
      "At random_state {84} the testing accuracy test is 0.765\n",
      "\n",
      "\n",
      "At random_state {85} the training accuracy test is 0.98375\n",
      "At random_state {85} the testing accuracy test is 0.8\n",
      "\n",
      "\n",
      "At random_state {86} the training accuracy test is 0.9875\n",
      "At random_state {86} the testing accuracy test is 0.815\n",
      "\n",
      "\n",
      "At random_state {87} the training accuracy test is 0.985\n",
      "At random_state {87} the testing accuracy test is 0.78\n",
      "\n",
      "\n",
      "At random_state {88} the training accuracy test is 0.98375\n",
      "At random_state {88} the testing accuracy test is 0.76\n",
      "\n",
      "\n",
      "At random_state {89} the training accuracy test is 0.9825\n",
      "At random_state {89} the testing accuracy test is 0.855\n",
      "\n",
      "\n",
      "At random_state {90} the training accuracy test is 0.985\n",
      "At random_state {90} the testing accuracy test is 0.8\n",
      "\n",
      "\n",
      "At random_state {91} the training accuracy test is 0.98375\n",
      "At random_state {91} the testing accuracy test is 0.795\n",
      "\n",
      "\n",
      "At random_state {92} the training accuracy test is 0.99\n",
      "At random_state {92} the testing accuracy test is 0.77\n",
      "\n",
      "\n",
      "At random_state {93} the training accuracy test is 0.985\n",
      "At random_state {93} the testing accuracy test is 0.775\n",
      "\n",
      "\n",
      "At random_state {94} the training accuracy test is 0.98875\n",
      "At random_state {94} the testing accuracy test is 0.785\n",
      "\n",
      "\n",
      "At random_state {95} the training accuracy test is 0.9875\n",
      "At random_state {95} the testing accuracy test is 0.785\n",
      "\n",
      "\n",
      "At random_state {96} the training accuracy test is 0.985\n",
      "At random_state {96} the testing accuracy test is 0.815\n",
      "\n",
      "\n",
      "At random_state {97} the training accuracy test is 0.98625\n",
      "At random_state {97} the testing accuracy test is 0.765\n",
      "\n",
      "\n",
      "At random_state {98} the training accuracy test is 0.98875\n",
      "At random_state {98} the testing accuracy test is 0.805\n",
      "\n",
      "\n",
      "At random_state {99} the training accuracy test is 0.98625\n",
      "At random_state {99} the testing accuracy test is 0.77\n",
      "\n",
      "\n"
     ]
    }
   ],
   "source": [
    "for i in range(0,100):\n",
    "    x_train,x_test,y_train,y_test=train_test_split(x1,y1,test_size=0.20,random_state=i)\n",
    "    dtc.fit(x_train,y_train)\n",
    "    preddtc=dtc.predict(x_train)\n",
    "    preddtc1=dtc.predict(x_test)\n",
    "    print('At random_state' ,{i}, 'the training accuracy test is', accuracy_score(y_train,preddtc))\n",
    "    print('At random_state' ,{i}, 'the testing accuracy test is', accuracy_score(y_test,preddtc1))\n",
    "    print('\\n')"
   ]
  },
  {
   "cell_type": "markdown",
   "id": "539ab2d9",
   "metadata": {},
   "source": [
    "### AT RANDOM STATE 89 (85.5%) ACCURACY WE ARE GETTING, HENCE WE WILL GO AHEAD WITH THAT "
   ]
  },
  {
   "cell_type": "code",
   "execution_count": 248,
   "id": "a38b41b0",
   "metadata": {},
   "outputs": [],
   "source": [
    "x_train,x_test,y_train,y_test=train_test_split(x1,y1,test_size=0.20,random_state=89)"
   ]
  },
  {
   "cell_type": "code",
   "execution_count": 249,
   "id": "a988e6fc",
   "metadata": {},
   "outputs": [
    {
     "data": {
      "text/html": [
       "<style>#sk-container-id-11 {color: black;background-color: white;}#sk-container-id-11 pre{padding: 0;}#sk-container-id-11 div.sk-toggleable {background-color: white;}#sk-container-id-11 label.sk-toggleable__label {cursor: pointer;display: block;width: 100%;margin-bottom: 0;padding: 0.3em;box-sizing: border-box;text-align: center;}#sk-container-id-11 label.sk-toggleable__label-arrow:before {content: \"▸\";float: left;margin-right: 0.25em;color: #696969;}#sk-container-id-11 label.sk-toggleable__label-arrow:hover:before {color: black;}#sk-container-id-11 div.sk-estimator:hover label.sk-toggleable__label-arrow:before {color: black;}#sk-container-id-11 div.sk-toggleable__content {max-height: 0;max-width: 0;overflow: hidden;text-align: left;background-color: #f0f8ff;}#sk-container-id-11 div.sk-toggleable__content pre {margin: 0.2em;color: black;border-radius: 0.25em;background-color: #f0f8ff;}#sk-container-id-11 input.sk-toggleable__control:checked~div.sk-toggleable__content {max-height: 200px;max-width: 100%;overflow: auto;}#sk-container-id-11 input.sk-toggleable__control:checked~label.sk-toggleable__label-arrow:before {content: \"▾\";}#sk-container-id-11 div.sk-estimator input.sk-toggleable__control:checked~label.sk-toggleable__label {background-color: #d4ebff;}#sk-container-id-11 div.sk-label input.sk-toggleable__control:checked~label.sk-toggleable__label {background-color: #d4ebff;}#sk-container-id-11 input.sk-hidden--visually {border: 0;clip: rect(1px 1px 1px 1px);clip: rect(1px, 1px, 1px, 1px);height: 1px;margin: -1px;overflow: hidden;padding: 0;position: absolute;width: 1px;}#sk-container-id-11 div.sk-estimator {font-family: monospace;background-color: #f0f8ff;border: 1px dotted black;border-radius: 0.25em;box-sizing: border-box;margin-bottom: 0.5em;}#sk-container-id-11 div.sk-estimator:hover {background-color: #d4ebff;}#sk-container-id-11 div.sk-parallel-item::after {content: \"\";width: 100%;border-bottom: 1px solid gray;flex-grow: 1;}#sk-container-id-11 div.sk-label:hover label.sk-toggleable__label {background-color: #d4ebff;}#sk-container-id-11 div.sk-serial::before {content: \"\";position: absolute;border-left: 1px solid gray;box-sizing: border-box;top: 0;bottom: 0;left: 50%;z-index: 0;}#sk-container-id-11 div.sk-serial {display: flex;flex-direction: column;align-items: center;background-color: white;padding-right: 0.2em;padding-left: 0.2em;position: relative;}#sk-container-id-11 div.sk-item {position: relative;z-index: 1;}#sk-container-id-11 div.sk-parallel {display: flex;align-items: stretch;justify-content: center;background-color: white;position: relative;}#sk-container-id-11 div.sk-item::before, #sk-container-id-11 div.sk-parallel-item::before {content: \"\";position: absolute;border-left: 1px solid gray;box-sizing: border-box;top: 0;bottom: 0;left: 50%;z-index: -1;}#sk-container-id-11 div.sk-parallel-item {display: flex;flex-direction: column;z-index: 1;position: relative;background-color: white;}#sk-container-id-11 div.sk-parallel-item:first-child::after {align-self: flex-end;width: 50%;}#sk-container-id-11 div.sk-parallel-item:last-child::after {align-self: flex-start;width: 50%;}#sk-container-id-11 div.sk-parallel-item:only-child::after {width: 0;}#sk-container-id-11 div.sk-dashed-wrapped {border: 1px dashed gray;margin: 0 0.4em 0.5em 0.4em;box-sizing: border-box;padding-bottom: 0.4em;background-color: white;}#sk-container-id-11 div.sk-label label {font-family: monospace;font-weight: bold;display: inline-block;line-height: 1.2em;}#sk-container-id-11 div.sk-label-container {text-align: center;}#sk-container-id-11 div.sk-container {/* jupyter's `normalize.less` sets `[hidden] { display: none; }` but bootstrap.min.css set `[hidden] { display: none !important; }` so we also need the `!important` here to be able to override the default hidden behavior on the sphinx rendered scikit-learn.org. See: https://github.com/scikit-learn/scikit-learn/issues/21755 */display: inline-block !important;position: relative;}#sk-container-id-11 div.sk-text-repr-fallback {display: none;}</style><div id=\"sk-container-id-11\" class=\"sk-top-container\"><div class=\"sk-text-repr-fallback\"><pre>DecisionTreeClassifier()</pre><b>In a Jupyter environment, please rerun this cell to show the HTML representation or trust the notebook. <br />On GitHub, the HTML representation is unable to render, please try loading this page with nbviewer.org.</b></div><div class=\"sk-container\" hidden><div class=\"sk-item\"><div class=\"sk-estimator sk-toggleable\"><input class=\"sk-toggleable__control sk-hidden--visually\" id=\"sk-estimator-id-11\" type=\"checkbox\" checked><label for=\"sk-estimator-id-11\" class=\"sk-toggleable__label sk-toggleable__label-arrow\">DecisionTreeClassifier</label><div class=\"sk-toggleable__content\"><pre>DecisionTreeClassifier()</pre></div></div></div></div></div>"
      ],
      "text/plain": [
       "DecisionTreeClassifier()"
      ]
     },
     "execution_count": 249,
     "metadata": {},
     "output_type": "execute_result"
    }
   ],
   "source": [
    "dtc.fit(x_train,y_train)"
   ]
  },
  {
   "cell_type": "code",
   "execution_count": 250,
   "id": "4d0c821b",
   "metadata": {},
   "outputs": [],
   "source": [
    "PREDTC=dtc.predict(x_test)"
   ]
  },
  {
   "cell_type": "code",
   "execution_count": 251,
   "id": "fa5028bc",
   "metadata": {},
   "outputs": [
    {
     "name": "stdout",
     "output_type": "stream",
     "text": [
      "0.87\n"
     ]
    }
   ],
   "source": [
    "print(accuracy_score(y_test,PREDTC))"
   ]
  },
  {
   "cell_type": "code",
   "execution_count": 252,
   "id": "257df547",
   "metadata": {},
   "outputs": [
    {
     "name": "stdout",
     "output_type": "stream",
     "text": [
      "[[92 10]\n",
      " [16 82]]\n"
     ]
    }
   ],
   "source": [
    "print(confusion_matrix(y_test,PREDTC))"
   ]
  },
  {
   "cell_type": "code",
   "execution_count": 253,
   "id": "789ec7c5",
   "metadata": {},
   "outputs": [
    {
     "name": "stdout",
     "output_type": "stream",
     "text": [
      "              precision    recall  f1-score   support\n",
      "\n",
      "           0       0.85      0.90      0.88       102\n",
      "           1       0.89      0.84      0.86        98\n",
      "\n",
      "    accuracy                           0.87       200\n",
      "   macro avg       0.87      0.87      0.87       200\n",
      "weighted avg       0.87      0.87      0.87       200\n",
      "\n"
     ]
    }
   ],
   "source": [
    "print(classification_report(y_test,PREDTC))"
   ]
  },
  {
   "cell_type": "code",
   "execution_count": null,
   "id": "aabe1281",
   "metadata": {},
   "outputs": [],
   "source": []
  },
  {
   "cell_type": "markdown",
   "id": "ace11972",
   "metadata": {},
   "source": [
    "## AUC/ROC CURVE"
   ]
  },
  {
   "cell_type": "code",
   "execution_count": 160,
   "id": "887f2c97",
   "metadata": {},
   "outputs": [],
   "source": [
    "y_pred_prob4=dtc.predict_proba(x_test)[:,1]"
   ]
  },
  {
   "cell_type": "code",
   "execution_count": 161,
   "id": "ff360953",
   "metadata": {},
   "outputs": [
    {
     "data": {
      "text/plain": [
       "array([0.        , 1.        , 1.        , 0.        , 1.        ,\n",
       "       1.        , 0.125     , 1.        , 1.        , 0.90909091,\n",
       "       0.        , 1.        , 1.        , 0.        , 1.        ,\n",
       "       1.        , 1.        , 0.        , 0.        , 0.        ,\n",
       "       1.        , 1.        , 0.        , 0.        , 1.        ,\n",
       "       0.        , 1.        , 1.        , 1.        , 1.        ,\n",
       "       0.        , 1.        , 0.        , 0.        , 0.        ,\n",
       "       0.        , 0.        , 1.        , 1.        , 1.        ,\n",
       "       0.        , 0.        , 1.        , 0.        , 1.        ,\n",
       "       1.        , 0.        , 0.5       , 1.        , 0.        ,\n",
       "       1.        , 0.        , 0.25      , 0.        , 1.        ,\n",
       "       1.        , 0.        , 1.        , 0.        , 1.        ,\n",
       "       0.5       , 1.        , 1.        , 1.        , 0.5       ,\n",
       "       1.        , 1.        , 0.        , 1.        , 0.        ,\n",
       "       0.        , 1.        , 1.        , 0.        , 1.        ,\n",
       "       1.        , 0.        , 0.        , 1.        , 1.        ,\n",
       "       0.        , 1.        , 0.        , 0.        , 1.        ,\n",
       "       1.        , 1.        , 1.        , 0.        , 1.        ,\n",
       "       0.        , 1.        , 1.        , 0.        , 0.5       ,\n",
       "       0.        , 0.        , 0.        , 0.        , 0.66666667,\n",
       "       0.        , 0.        , 1.        , 1.        , 1.        ,\n",
       "       0.        , 1.        , 0.        , 0.        , 1.        ,\n",
       "       0.        , 1.        , 0.        , 1.        , 1.        ,\n",
       "       0.        , 1.        , 0.        , 0.        , 1.        ,\n",
       "       1.        , 0.        , 1.        , 1.        , 0.        ,\n",
       "       1.        , 0.        , 1.        , 1.        , 0.        ,\n",
       "       0.        , 0.        , 1.        , 1.        , 1.        ,\n",
       "       1.        , 1.        , 1.        , 1.        , 1.        ,\n",
       "       1.        , 0.        , 0.        , 0.        , 0.        ,\n",
       "       0.        , 0.        , 0.        , 0.        , 0.        ,\n",
       "       0.125     , 1.        , 1.        , 1.        , 1.        ,\n",
       "       0.        , 0.        , 1.        , 1.        , 1.        ,\n",
       "       0.125     , 0.        , 1.        , 1.        , 1.        ,\n",
       "       0.        , 1.        , 1.        , 1.        , 1.        ,\n",
       "       0.125     , 0.        , 0.        , 0.        , 1.        ,\n",
       "       1.        , 0.        , 0.5       , 0.        , 0.25      ,\n",
       "       0.        , 0.        , 1.        , 0.5       , 0.        ,\n",
       "       0.        , 0.        , 0.90909091, 0.        , 1.        ,\n",
       "       1.        , 1.        , 1.        , 0.        , 0.        ,\n",
       "       1.        , 0.        , 1.        , 0.        , 0.        ])"
      ]
     },
     "execution_count": 161,
     "metadata": {},
     "output_type": "execute_result"
    }
   ],
   "source": [
    "y_pred_prob4"
   ]
  },
  {
   "cell_type": "code",
   "execution_count": 162,
   "id": "2d5f749b",
   "metadata": {},
   "outputs": [],
   "source": [
    "tpr,fpr,thresholds=roc_curve(y_test,y_pred_prob4)"
   ]
  },
  {
   "cell_type": "code",
   "execution_count": 163,
   "id": "cdf896a8",
   "metadata": {},
   "outputs": [
    {
     "data": {
      "text/plain": [
       "array([0.  , 0.19, 0.19, 0.19, 0.23, 0.25, 0.28, 1.  ])"
      ]
     },
     "execution_count": 163,
     "metadata": {},
     "output_type": "execute_result"
    }
   ],
   "source": [
    "tpr"
   ]
  },
  {
   "cell_type": "code",
   "execution_count": 164,
   "id": "a5d38120",
   "metadata": {},
   "outputs": [
    {
     "data": {
      "text/plain": [
       "array([0.  , 0.8 , 0.82, 0.83, 0.85, 0.85, 0.86, 1.  ])"
      ]
     },
     "execution_count": 164,
     "metadata": {},
     "output_type": "execute_result"
    }
   ],
   "source": [
    "fpr"
   ]
  },
  {
   "cell_type": "code",
   "execution_count": 165,
   "id": "ff649094",
   "metadata": {},
   "outputs": [
    {
     "data": {
      "text/plain": [
       "array([2.        , 1.        , 0.90909091, 0.66666667, 0.5       ,\n",
       "       0.25      , 0.125     , 0.        ])"
      ]
     },
     "execution_count": 165,
     "metadata": {},
     "output_type": "execute_result"
    }
   ],
   "source": [
    "thresholds"
   ]
  },
  {
   "cell_type": "code",
   "execution_count": 166,
   "id": "b3a26bf5",
   "metadata": {},
   "outputs": [
    {
     "data": {
      "image/png": "[encoded data removed]",
      "text/plain": [
       "<Figure size 432x288 with 1 Axes>"
      ]
     },
     "metadata": {
      "needs_background": "light"
     },
     "output_type": "display_data"
    }
   ],
   "source": [
    "plt.plot([0,1],[0,1],'k--')\n",
    "plt.plot(tpr,fpr,label='DTC')\n",
    "plt.xlabel('FALSE_POSITIVE_RATE')\n",
    "plt.ylabel('TRUE_POSITIVE_RATE')\n",
    "plt.title('DTC_CLASSIFIER')\n",
    "plt.show()"
   ]
  },
  {
   "cell_type": "code",
   "execution_count": 167,
   "id": "18706aed",
   "metadata": {},
   "outputs": [
    {
     "data": {
      "text/plain": [
       "0.8200000000000001"
      ]
     },
     "execution_count": 167,
     "metadata": {},
     "output_type": "execute_result"
    }
   ],
   "source": [
    "auc_score=roc_auc_score(y_test,(dtc.predict(x_test)))\n",
    "auc_score"
   ]
  },
  {
   "cell_type": "markdown",
   "id": "af3fad2e",
   "metadata": {},
   "source": [
    "## RANDOM FOREST CLASSIFIER"
   ]
  },
  {
   "cell_type": "code",
   "execution_count": 168,
   "id": "e879a323",
   "metadata": {},
   "outputs": [],
   "source": [
    "rm=RandomForestClassifier()"
   ]
  },
  {
   "cell_type": "code",
   "execution_count": 169,
   "id": "9785f6f7",
   "metadata": {},
   "outputs": [
    {
     "name": "stdout",
     "output_type": "stream",
     "text": [
      "At random_state {0} the training accuracy test is 0.9875\n",
      "At random_state {0} the testing accuracy test is 0.81\n",
      "\n",
      "\n",
      "At random_state {1} the training accuracy test is 0.985\n",
      "At random_state {1} the testing accuracy test is 0.775\n",
      "\n",
      "\n",
      "At random_state {2} the training accuracy test is 0.98625\n",
      "At random_state {2} the testing accuracy test is 0.82\n",
      "\n",
      "\n",
      "At random_state {3} the training accuracy test is 0.98875\n",
      "At random_state {3} the testing accuracy test is 0.835\n",
      "\n",
      "\n",
      "At random_state {4} the training accuracy test is 0.98875\n",
      "At random_state {4} the testing accuracy test is 0.825\n",
      "\n",
      "\n",
      "At random_state {5} the training accuracy test is 0.985\n",
      "At random_state {5} the testing accuracy test is 0.835\n",
      "\n",
      "\n",
      "At random_state {6} the training accuracy test is 0.99\n",
      "At random_state {6} the testing accuracy test is 0.835\n",
      "\n",
      "\n",
      "At random_state {7} the training accuracy test is 0.985\n",
      "At random_state {7} the testing accuracy test is 0.83\n",
      "\n",
      "\n",
      "At random_state {8} the training accuracy test is 0.9825\n",
      "At random_state {8} the testing accuracy test is 0.835\n",
      "\n",
      "\n",
      "At random_state {9} the training accuracy test is 0.98375\n",
      "At random_state {9} the testing accuracy test is 0.83\n",
      "\n",
      "\n",
      "At random_state {10} the training accuracy test is 0.985\n",
      "At random_state {10} the testing accuracy test is 0.84\n",
      "\n",
      "\n",
      "At random_state {11} the training accuracy test is 0.98375\n",
      "At random_state {11} the testing accuracy test is 0.815\n",
      "\n",
      "\n",
      "At random_state {12} the training accuracy test is 0.985\n",
      "At random_state {12} the testing accuracy test is 0.87\n",
      "\n",
      "\n",
      "At random_state {13} the training accuracy test is 0.98375\n",
      "At random_state {13} the testing accuracy test is 0.825\n",
      "\n",
      "\n",
      "At random_state {14} the training accuracy test is 0.985\n",
      "At random_state {14} the testing accuracy test is 0.87\n",
      "\n",
      "\n",
      "At random_state {15} the training accuracy test is 0.98875\n",
      "At random_state {15} the testing accuracy test is 0.815\n",
      "\n",
      "\n",
      "At random_state {16} the training accuracy test is 0.98625\n",
      "At random_state {16} the testing accuracy test is 0.8\n",
      "\n",
      "\n",
      "At random_state {17} the training accuracy test is 0.985\n",
      "At random_state {17} the testing accuracy test is 0.81\n",
      "\n",
      "\n",
      "At random_state {18} the training accuracy test is 0.98625\n",
      "At random_state {18} the testing accuracy test is 0.805\n",
      "\n",
      "\n",
      "At random_state {19} the training accuracy test is 0.98375\n",
      "At random_state {19} the testing accuracy test is 0.795\n",
      "\n",
      "\n",
      "At random_state {20} the training accuracy test is 0.9825\n",
      "At random_state {20} the testing accuracy test is 0.87\n",
      "\n",
      "\n",
      "At random_state {21} the training accuracy test is 0.9875\n",
      "At random_state {21} the testing accuracy test is 0.805\n",
      "\n",
      "\n",
      "At random_state {22} the training accuracy test is 0.985\n",
      "At random_state {22} the testing accuracy test is 0.84\n",
      "\n",
      "\n",
      "At random_state {23} the training accuracy test is 0.99\n",
      "At random_state {23} the testing accuracy test is 0.805\n",
      "\n",
      "\n",
      "At random_state {24} the training accuracy test is 0.9875\n",
      "At random_state {24} the testing accuracy test is 0.82\n",
      "\n",
      "\n",
      "At random_state {25} the training accuracy test is 0.98875\n",
      "At random_state {25} the testing accuracy test is 0.765\n",
      "\n",
      "\n",
      "At random_state {26} the training accuracy test is 0.985\n",
      "At random_state {26} the testing accuracy test is 0.82\n",
      "\n",
      "\n",
      "At random_state {27} the training accuracy test is 0.98375\n",
      "At random_state {27} the testing accuracy test is 0.845\n",
      "\n",
      "\n",
      "At random_state {28} the training accuracy test is 0.9925\n",
      "At random_state {28} the testing accuracy test is 0.78\n",
      "\n",
      "\n",
      "At random_state {29} the training accuracy test is 0.98625\n",
      "At random_state {29} the testing accuracy test is 0.805\n",
      "\n",
      "\n",
      "At random_state {30} the training accuracy test is 0.98625\n",
      "At random_state {30} the testing accuracy test is 0.835\n",
      "\n",
      "\n",
      "At random_state {31} the training accuracy test is 0.9825\n",
      "At random_state {31} the testing accuracy test is 0.79\n",
      "\n",
      "\n",
      "At random_state {32} the training accuracy test is 0.985\n",
      "At random_state {32} the testing accuracy test is 0.785\n",
      "\n",
      "\n",
      "At random_state {33} the training accuracy test is 0.9825\n",
      "At random_state {33} the testing accuracy test is 0.845\n",
      "\n",
      "\n",
      "At random_state {34} the training accuracy test is 0.985\n",
      "At random_state {34} the testing accuracy test is 0.85\n",
      "\n",
      "\n",
      "At random_state {35} the training accuracy test is 0.98625\n",
      "At random_state {35} the testing accuracy test is 0.88\n",
      "\n",
      "\n",
      "At random_state {36} the training accuracy test is 0.98625\n",
      "At random_state {36} the testing accuracy test is 0.8\n",
      "\n",
      "\n",
      "At random_state {37} the training accuracy test is 0.98625\n",
      "At random_state {37} the testing accuracy test is 0.805\n",
      "\n",
      "\n",
      "At random_state {38} the training accuracy test is 0.98625\n",
      "At random_state {38} the testing accuracy test is 0.83\n",
      "\n",
      "\n",
      "At random_state {39} the training accuracy test is 0.98625\n",
      "At random_state {39} the testing accuracy test is 0.78\n",
      "\n",
      "\n",
      "At random_state {40} the training accuracy test is 0.9825\n",
      "At random_state {40} the testing accuracy test is 0.825\n",
      "\n",
      "\n",
      "At random_state {41} the training accuracy test is 0.985\n",
      "At random_state {41} the testing accuracy test is 0.845\n",
      "\n",
      "\n",
      "At random_state {42} the training accuracy test is 0.985\n",
      "At random_state {42} the testing accuracy test is 0.825\n",
      "\n",
      "\n",
      "At random_state {43} the training accuracy test is 0.985\n",
      "At random_state {43} the testing accuracy test is 0.81\n",
      "\n",
      "\n",
      "At random_state {44} the training accuracy test is 0.98625\n",
      "At random_state {44} the testing accuracy test is 0.855\n",
      "\n",
      "\n",
      "At random_state {45} the training accuracy test is 0.9875\n",
      "At random_state {45} the testing accuracy test is 0.845\n",
      "\n",
      "\n",
      "At random_state {46} the training accuracy test is 0.98375\n",
      "At random_state {46} the testing accuracy test is 0.79\n",
      "\n",
      "\n",
      "At random_state {47} the training accuracy test is 0.98375\n",
      "At random_state {47} the testing accuracy test is 0.845\n",
      "\n",
      "\n",
      "At random_state {48} the training accuracy test is 0.98125\n",
      "At random_state {48} the testing accuracy test is 0.83\n",
      "\n",
      "\n",
      "At random_state {49} the training accuracy test is 0.985\n",
      "At random_state {49} the testing accuracy test is 0.84\n",
      "\n",
      "\n",
      "At random_state {50} the training accuracy test is 0.9875\n",
      "At random_state {50} the testing accuracy test is 0.79\n",
      "\n",
      "\n",
      "At random_state {51} the training accuracy test is 0.985\n",
      "At random_state {51} the testing accuracy test is 0.83\n",
      "\n",
      "\n",
      "At random_state {52} the training accuracy test is 0.99125\n",
      "At random_state {52} the testing accuracy test is 0.83\n",
      "\n",
      "\n",
      "At random_state {53} the training accuracy test is 0.98375\n",
      "At random_state {53} the testing accuracy test is 0.83\n",
      "\n",
      "\n",
      "At random_state {54} the training accuracy test is 0.98625\n",
      "At random_state {54} the testing accuracy test is 0.835\n",
      "\n",
      "\n",
      "At random_state {55} the training accuracy test is 0.98625\n",
      "At random_state {55} the testing accuracy test is 0.735\n",
      "\n",
      "\n",
      "At random_state {56} the training accuracy test is 0.98375\n",
      "At random_state {56} the testing accuracy test is 0.815\n",
      "\n",
      "\n",
      "At random_state {57} the training accuracy test is 0.98625\n",
      "At random_state {57} the testing accuracy test is 0.805\n",
      "\n",
      "\n",
      "At random_state {58} the training accuracy test is 0.98375\n",
      "At random_state {58} the testing accuracy test is 0.82\n",
      "\n",
      "\n",
      "At random_state {59} the training accuracy test is 0.985\n",
      "At random_state {59} the testing accuracy test is 0.81\n",
      "\n",
      "\n",
      "At random_state {60} the training accuracy test is 0.98625\n",
      "At random_state {60} the testing accuracy test is 0.815\n",
      "\n",
      "\n",
      "At random_state {61} the training accuracy test is 0.98625\n",
      "At random_state {61} the testing accuracy test is 0.805\n",
      "\n",
      "\n",
      "At random_state {62} the training accuracy test is 0.99125\n",
      "At random_state {62} the testing accuracy test is 0.825\n",
      "\n",
      "\n",
      "At random_state {63} the training accuracy test is 0.98375\n",
      "At random_state {63} the testing accuracy test is 0.815\n",
      "\n",
      "\n",
      "At random_state {64} the training accuracy test is 0.985\n",
      "At random_state {64} the testing accuracy test is 0.815\n",
      "\n",
      "\n",
      "At random_state {65} the training accuracy test is 0.99\n",
      "At random_state {65} the testing accuracy test is 0.79\n",
      "\n",
      "\n",
      "At random_state {66} the training accuracy test is 0.9825\n",
      "At random_state {66} the testing accuracy test is 0.84\n",
      "\n",
      "\n",
      "At random_state {67} the training accuracy test is 0.98625\n",
      "At random_state {67} the testing accuracy test is 0.825\n",
      "\n",
      "\n",
      "At random_state {68} the training accuracy test is 0.98375\n",
      "At random_state {68} the testing accuracy test is 0.815\n",
      "\n",
      "\n",
      "At random_state {69} the training accuracy test is 0.985\n",
      "At random_state {69} the testing accuracy test is 0.805\n",
      "\n",
      "\n",
      "At random_state {70} the training accuracy test is 0.98375\n",
      "At random_state {70} the testing accuracy test is 0.85\n",
      "\n",
      "\n",
      "At random_state {71} the training accuracy test is 0.98875\n",
      "At random_state {71} the testing accuracy test is 0.8\n",
      "\n",
      "\n",
      "At random_state {72} the training accuracy test is 0.98625\n",
      "At random_state {72} the testing accuracy test is 0.835\n",
      "\n",
      "\n",
      "At random_state {73} the training accuracy test is 0.9875\n",
      "At random_state {73} the testing accuracy test is 0.78\n",
      "\n",
      "\n",
      "At random_state {74} the training accuracy test is 0.9875\n",
      "At random_state {74} the testing accuracy test is 0.825\n",
      "\n",
      "\n",
      "At random_state {75} the training accuracy test is 0.98375\n",
      "At random_state {75} the testing accuracy test is 0.845\n",
      "\n",
      "\n",
      "At random_state {76} the training accuracy test is 0.985\n",
      "At random_state {76} the testing accuracy test is 0.82\n",
      "\n",
      "\n",
      "At random_state {77} the training accuracy test is 0.99\n",
      "At random_state {77} the testing accuracy test is 0.785\n",
      "\n",
      "\n",
      "At random_state {78} the training accuracy test is 0.99375\n",
      "At random_state {78} the testing accuracy test is 0.8\n",
      "\n",
      "\n",
      "At random_state {79} the training accuracy test is 0.985\n",
      "At random_state {79} the testing accuracy test is 0.82\n",
      "\n",
      "\n",
      "At random_state {80} the training accuracy test is 0.9875\n",
      "At random_state {80} the testing accuracy test is 0.785\n",
      "\n",
      "\n",
      "At random_state {81} the training accuracy test is 0.98625\n",
      "At random_state {81} the testing accuracy test is 0.795\n",
      "\n",
      "\n",
      "At random_state {82} the training accuracy test is 0.9875\n",
      "At random_state {82} the testing accuracy test is 0.805\n",
      "\n",
      "\n",
      "At random_state {83} the training accuracy test is 0.9825\n",
      "At random_state {83} the testing accuracy test is 0.84\n",
      "\n",
      "\n",
      "At random_state {84} the training accuracy test is 0.9875\n",
      "At random_state {84} the testing accuracy test is 0.815\n",
      "\n",
      "\n",
      "At random_state {85} the training accuracy test is 0.98375\n",
      "At random_state {85} the testing accuracy test is 0.84\n",
      "\n",
      "\n",
      "At random_state {86} the training accuracy test is 0.9875\n",
      "At random_state {86} the testing accuracy test is 0.855\n",
      "\n",
      "\n",
      "At random_state {87} the training accuracy test is 0.985\n",
      "At random_state {87} the testing accuracy test is 0.785\n",
      "\n",
      "\n",
      "At random_state {88} the training accuracy test is 0.98375\n",
      "At random_state {88} the testing accuracy test is 0.775\n",
      "\n",
      "\n",
      "At random_state {89} the training accuracy test is 0.9825\n",
      "At random_state {89} the testing accuracy test is 0.85\n",
      "\n",
      "\n",
      "At random_state {90} the training accuracy test is 0.985\n",
      "At random_state {90} the testing accuracy test is 0.835\n",
      "\n",
      "\n",
      "At random_state {91} the training accuracy test is 0.98375\n",
      "At random_state {91} the testing accuracy test is 0.855\n",
      "\n",
      "\n",
      "At random_state {92} the training accuracy test is 0.99\n",
      "At random_state {92} the testing accuracy test is 0.8\n",
      "\n",
      "\n",
      "At random_state {93} the training accuracy test is 0.985\n",
      "At random_state {93} the testing accuracy test is 0.8\n",
      "\n",
      "\n",
      "At random_state {94} the training accuracy test is 0.98875\n",
      "At random_state {94} the testing accuracy test is 0.835\n",
      "\n",
      "\n",
      "At random_state {95} the training accuracy test is 0.9875\n",
      "At random_state {95} the testing accuracy test is 0.815\n",
      "\n",
      "\n",
      "At random_state {96} the training accuracy test is 0.98375\n",
      "At random_state {96} the testing accuracy test is 0.835\n",
      "\n",
      "\n",
      "At random_state {97} the training accuracy test is 0.98625\n",
      "At random_state {97} the testing accuracy test is 0.79\n",
      "\n",
      "\n",
      "At random_state {98} the training accuracy test is 0.98875\n",
      "At random_state {98} the testing accuracy test is 0.81\n",
      "\n",
      "\n",
      "At random_state {99} the training accuracy test is 0.98625\n",
      "At random_state {99} the testing accuracy test is 0.795\n",
      "\n",
      "\n"
     ]
    }
   ],
   "source": [
    "for i in range(0,100):\n",
    "    x_train,x_test,y_train,y_test=train_test_split(x1,y1,test_size=0.20,random_state=i)\n",
    "    rm.fit(x_train,y_train)\n",
    "    predrm=rm.predict(x_train)\n",
    "    predrm1=rm.predict(x_test)\n",
    "    print('At random_state' ,{i}, 'the training accuracy test is', accuracy_score(y_train,predrm))\n",
    "    print('At random_state' ,{i}, 'the testing accuracy test is', accuracy_score(y_test,predrm1))\n",
    "    print('\\n')"
   ]
  },
  {
   "cell_type": "markdown",
   "id": "7199d7e2",
   "metadata": {},
   "source": [
    "### AT RANDOM STATE 35 (88%) ACCURACY WE ARE GETTING, HENCE WE WILL GO AHEAD WITH THAT "
   ]
  },
  {
   "cell_type": "code",
   "execution_count": 255,
   "id": "0c8564d5",
   "metadata": {},
   "outputs": [],
   "source": [
    "x_train,x_test,y_train,y_test=train_test_split(x1,y1,test_size=0.20,random_state=35)"
   ]
  },
  {
   "cell_type": "code",
   "execution_count": 256,
   "id": "c3158e83",
   "metadata": {},
   "outputs": [
    {
     "data": {
      "text/html": [
       "<style>#sk-container-id-12 {color: black;background-color: white;}#sk-container-id-12 pre{padding: 0;}#sk-container-id-12 div.sk-toggleable {background-color: white;}#sk-container-id-12 label.sk-toggleable__label {cursor: pointer;display: block;width: 100%;margin-bottom: 0;padding: 0.3em;box-sizing: border-box;text-align: center;}#sk-container-id-12 label.sk-toggleable__label-arrow:before {content: \"▸\";float: left;margin-right: 0.25em;color: #696969;}#sk-container-id-12 label.sk-toggleable__label-arrow:hover:before {color: black;}#sk-container-id-12 div.sk-estimator:hover label.sk-toggleable__label-arrow:before {color: black;}#sk-container-id-12 div.sk-toggleable__content {max-height: 0;max-width: 0;overflow: hidden;text-align: left;background-color: #f0f8ff;}#sk-container-id-12 div.sk-toggleable__content pre {margin: 0.2em;color: black;border-radius: 0.25em;background-color: #f0f8ff;}#sk-container-id-12 input.sk-toggleable__control:checked~div.sk-toggleable__content {max-height: 200px;max-width: 100%;overflow: auto;}#sk-container-id-12 input.sk-toggleable__control:checked~label.sk-toggleable__label-arrow:before {content: \"▾\";}#sk-container-id-12 div.sk-estimator input.sk-toggleable__control:checked~label.sk-toggleable__label {background-color: #d4ebff;}#sk-container-id-12 div.sk-label input.sk-toggleable__control:checked~label.sk-toggleable__label {background-color: #d4ebff;}#sk-container-id-12 input.sk-hidden--visually {border: 0;clip: rect(1px 1px 1px 1px);clip: rect(1px, 1px, 1px, 1px);height: 1px;margin: -1px;overflow: hidden;padding: 0;position: absolute;width: 1px;}#sk-container-id-12 div.sk-estimator {font-family: monospace;background-color: #f0f8ff;border: 1px dotted black;border-radius: 0.25em;box-sizing: border-box;margin-bottom: 0.5em;}#sk-container-id-12 div.sk-estimator:hover {background-color: #d4ebff;}#sk-container-id-12 div.sk-parallel-item::after {content: \"\";width: 100%;border-bottom: 1px solid gray;flex-grow: 1;}#sk-container-id-12 div.sk-label:hover label.sk-toggleable__label {background-color: #d4ebff;}#sk-container-id-12 div.sk-serial::before {content: \"\";position: absolute;border-left: 1px solid gray;box-sizing: border-box;top: 0;bottom: 0;left: 50%;z-index: 0;}#sk-container-id-12 div.sk-serial {display: flex;flex-direction: column;align-items: center;background-color: white;padding-right: 0.2em;padding-left: 0.2em;position: relative;}#sk-container-id-12 div.sk-item {position: relative;z-index: 1;}#sk-container-id-12 div.sk-parallel {display: flex;align-items: stretch;justify-content: center;background-color: white;position: relative;}#sk-container-id-12 div.sk-item::before, #sk-container-id-12 div.sk-parallel-item::before {content: \"\";position: absolute;border-left: 1px solid gray;box-sizing: border-box;top: 0;bottom: 0;left: 50%;z-index: -1;}#sk-container-id-12 div.sk-parallel-item {display: flex;flex-direction: column;z-index: 1;position: relative;background-color: white;}#sk-container-id-12 div.sk-parallel-item:first-child::after {align-self: flex-end;width: 50%;}#sk-container-id-12 div.sk-parallel-item:last-child::after {align-self: flex-start;width: 50%;}#sk-container-id-12 div.sk-parallel-item:only-child::after {width: 0;}#sk-container-id-12 div.sk-dashed-wrapped {border: 1px dashed gray;margin: 0 0.4em 0.5em 0.4em;box-sizing: border-box;padding-bottom: 0.4em;background-color: white;}#sk-container-id-12 div.sk-label label {font-family: monospace;font-weight: bold;display: inline-block;line-height: 1.2em;}#sk-container-id-12 div.sk-label-container {text-align: center;}#sk-container-id-12 div.sk-container {/* jupyter's `normalize.less` sets `[hidden] { display: none; }` but bootstrap.min.css set `[hidden] { display: none !important; }` so we also need the `!important` here to be able to override the default hidden behavior on the sphinx rendered scikit-learn.org. See: https://github.com/scikit-learn/scikit-learn/issues/21755 */display: inline-block !important;position: relative;}#sk-container-id-12 div.sk-text-repr-fallback {display: none;}</style><div id=\"sk-container-id-12\" class=\"sk-top-container\"><div class=\"sk-text-repr-fallback\"><pre>RandomForestClassifier()</pre><b>In a Jupyter environment, please rerun this cell to show the HTML representation or trust the notebook. <br />On GitHub, the HTML representation is unable to render, please try loading this page with nbviewer.org.</b></div><div class=\"sk-container\" hidden><div class=\"sk-item\"><div class=\"sk-estimator sk-toggleable\"><input class=\"sk-toggleable__control sk-hidden--visually\" id=\"sk-estimator-id-12\" type=\"checkbox\" checked><label for=\"sk-estimator-id-12\" class=\"sk-toggleable__label sk-toggleable__label-arrow\">RandomForestClassifier</label><div class=\"sk-toggleable__content\"><pre>RandomForestClassifier()</pre></div></div></div></div></div>"
      ],
      "text/plain": [
       "RandomForestClassifier()"
      ]
     },
     "execution_count": 256,
     "metadata": {},
     "output_type": "execute_result"
    }
   ],
   "source": [
    "rm.fit(x_train,y_train)"
   ]
  },
  {
   "cell_type": "code",
   "execution_count": 257,
   "id": "10a519b0",
   "metadata": {},
   "outputs": [],
   "source": [
    "PRERM=rm.predict(x_test)"
   ]
  },
  {
   "cell_type": "code",
   "execution_count": 258,
   "id": "605d7e0a",
   "metadata": {},
   "outputs": [
    {
     "name": "stdout",
     "output_type": "stream",
     "text": [
      "0.875\n"
     ]
    }
   ],
   "source": [
    "print(accuracy_score(y_test,PRERM))"
   ]
  },
  {
   "cell_type": "code",
   "execution_count": 259,
   "id": "9f1f71e7",
   "metadata": {},
   "outputs": [
    {
     "name": "stdout",
     "output_type": "stream",
     "text": [
      "[[88  9]\n",
      " [16 87]]\n"
     ]
    }
   ],
   "source": [
    "print(confusion_matrix(y_test,PRERM))"
   ]
  },
  {
   "cell_type": "code",
   "execution_count": 260,
   "id": "b03c0ca2",
   "metadata": {},
   "outputs": [
    {
     "name": "stdout",
     "output_type": "stream",
     "text": [
      "              precision    recall  f1-score   support\n",
      "\n",
      "           0       0.85      0.91      0.88        97\n",
      "           1       0.91      0.84      0.87       103\n",
      "\n",
      "    accuracy                           0.88       200\n",
      "   macro avg       0.88      0.88      0.87       200\n",
      "weighted avg       0.88      0.88      0.87       200\n",
      "\n"
     ]
    }
   ],
   "source": [
    "print(classification_report(y_test,PRERM))"
   ]
  },
  {
   "cell_type": "code",
   "execution_count": null,
   "id": "f89ddb61",
   "metadata": {},
   "outputs": [],
   "source": []
  },
  {
   "cell_type": "markdown",
   "id": "465e2af0",
   "metadata": {},
   "source": [
    "## AUC-ROC CURVE"
   ]
  },
  {
   "cell_type": "code",
   "execution_count": 176,
   "id": "56d0b092",
   "metadata": {},
   "outputs": [],
   "source": [
    "y_pred_prob5=rm.predict_proba(x_test)[:,1]"
   ]
  },
  {
   "cell_type": "code",
   "execution_count": 177,
   "id": "ccf9565d",
   "metadata": {},
   "outputs": [
    {
     "data": {
      "text/plain": [
       "array([0.24      , 0.99      , 1.        , 0.07      , 0.81      ,\n",
       "       0.356     , 1.        , 0.08      , 0.145     , 0.02      ,\n",
       "       0.02      , 0.69      , 0.91      , 0.31      , 0.        ,\n",
       "       0.        , 0.96      , 0.        , 0.8825    , 0.92      ,\n",
       "       0.23666667, 1.        , 0.89      , 0.63      , 0.        ,\n",
       "       0.        , 0.48      , 0.02      , 0.01      , 0.9       ,\n",
       "       0.        , 0.        , 0.02      , 0.49      , 0.02      ,\n",
       "       0.28      , 0.9       , 0.14      , 0.99      , 0.24      ,\n",
       "       0.94      , 0.85      , 1.        , 0.19197727, 1.        ,\n",
       "       0.21      , 0.02      , 0.12      , 0.07      , 0.        ,\n",
       "       0.67      , 1.        , 0.86      , 0.89      , 1.        ,\n",
       "       0.99      , 0.00507937, 0.37266667, 1.        , 0.92      ,\n",
       "       0.19      , 0.95      , 0.75      , 0.59      , 0.        ,\n",
       "       0.175     , 0.9       , 0.01      , 0.94      , 0.6       ,\n",
       "       0.05      , 0.67838095, 0.31      , 0.99      , 0.13      ,\n",
       "       0.58      , 0.32      , 0.        , 0.83833333, 0.89      ,\n",
       "       0.235     , 0.01      , 0.99      , 0.13033333, 0.38      ,\n",
       "       0.35      , 0.0125    , 0.92      , 0.03      , 0.145     ,\n",
       "       0.96      , 0.87      , 0.04      , 0.68731061, 0.96      ,\n",
       "       0.42      , 0.        , 0.14      , 0.34      , 0.99      ,\n",
       "       0.98      , 0.94      , 0.42933333, 0.07      , 0.98      ,\n",
       "       0.1085    , 1.        , 0.78      , 0.        , 0.1       ,\n",
       "       0.        , 0.17      , 0.83      , 0.75      , 0.08      ,\n",
       "       0.87      , 0.03333333, 0.        , 0.44      , 1.        ,\n",
       "       0.48083333, 0.78      , 0.74      , 0.064     , 0.77      ,\n",
       "       0.96      , 0.93      , 0.67      , 1.        , 0.03      ,\n",
       "       0.9       , 0.0625    , 0.22      , 0.65      , 0.44333333,\n",
       "       0.21      , 0.35      , 0.6       , 0.88      , 0.92      ,\n",
       "       0.06      , 0.34      , 1.        , 0.1065    , 0.20118651,\n",
       "       0.53333333, 0.99      , 0.18      , 0.01      , 0.21      ,\n",
       "       0.05      , 0.96      , 0.00666667, 1.        , 0.00285714,\n",
       "       0.02      , 0.1       , 0.43      , 0.05266667, 0.44833333,\n",
       "       0.01333333, 0.65      , 0.09      , 0.03      , 0.73      ,\n",
       "       0.36      , 0.46      , 0.74      , 0.75166667, 0.93      ,\n",
       "       0.97      , 1.        , 0.99      , 0.05      , 0.93      ,\n",
       "       0.21      , 0.62      , 0.54      , 0.15      , 0.19      ,\n",
       "       0.02166667, 0.77      , 0.01      , 0.89      , 0.18      ,\n",
       "       0.97      , 0.92      , 0.06      , 0.51      , 0.00507937,\n",
       "       0.        , 0.0225    , 0.04      , 0.924     , 0.135     ,\n",
       "       1.        , 0.99      , 0.98      , 0.3       , 0.356     ])"
      ]
     },
     "execution_count": 177,
     "metadata": {},
     "output_type": "execute_result"
    }
   ],
   "source": [
    "y_pred_prob5"
   ]
  },
  {
   "cell_type": "code",
   "execution_count": 178,
   "id": "d3544ff4",
   "metadata": {},
   "outputs": [],
   "source": [
    "tpr,fpr,thresholds=roc_curve(y_test,y_pred_prob5)"
   ]
  },
  {
   "cell_type": "code",
   "execution_count": 179,
   "id": "aabd4253",
   "metadata": {},
   "outputs": [
    {
     "data": {
      "text/plain": [
       "array([0.        , 0.00900901, 0.01801802, 0.01801802, 0.01801802,\n",
       "       0.01801802, 0.01801802, 0.01801802, 0.01801802, 0.03603604,\n",
       "       0.03603604, 0.03603604, 0.03603604, 0.03603604, 0.03603604,\n",
       "       0.04504505, 0.04504505, 0.05405405, 0.05405405, 0.05405405,\n",
       "       0.06306306, 0.06306306, 0.06306306, 0.07207207, 0.07207207,\n",
       "       0.08108108, 0.08108108, 0.09009009, 0.09009009, 0.10810811,\n",
       "       0.11711712, 0.13513514, 0.13513514, 0.14414414, 0.14414414,\n",
       "       0.15315315, 0.15315315, 0.18018018, 0.18018018, 0.20720721,\n",
       "       0.20720721, 0.22522523, 0.27927928, 0.28828829, 0.30630631,\n",
       "       0.31531532, 0.31531532, 0.33333333, 0.36036036, 0.37837838,\n",
       "       0.37837838, 0.38738739, 0.40540541, 0.41441441, 0.44144144,\n",
       "       0.47747748, 0.47747748, 0.52252252, 0.54054054, 0.54054054,\n",
       "       0.55855856, 0.58558559, 0.58558559, 0.59459459, 0.61261261,\n",
       "       0.62162162, 0.64864865, 0.66666667, 0.67567568, 0.7027027 ,\n",
       "       0.72072072, 0.78378378, 0.8018018 , 0.84684685, 0.85585586,\n",
       "       0.87387387, 0.88288288, 1.        ])"
      ]
     },
     "execution_count": 179,
     "metadata": {},
     "output_type": "execute_result"
    }
   ],
   "source": [
    "tpr"
   ]
  },
  {
   "cell_type": "code",
   "execution_count": 180,
   "id": "dc019a56",
   "metadata": {},
   "outputs": [
    {
     "data": {
      "text/plain": [
       "array([0.        , 0.15730337, 0.24719101, 0.28089888, 0.30337079,\n",
       "       0.35955056, 0.37078652, 0.43820225, 0.4494382 , 0.48314607,\n",
       "       0.49438202, 0.58426966, 0.60674157, 0.62921348, 0.64044944,\n",
       "       0.64044944, 0.65168539, 0.65168539, 0.66292135, 0.68539326,\n",
       "       0.69662921, 0.70786517, 0.73033708, 0.74157303, 0.75280899,\n",
       "       0.75280899, 0.76404494, 0.76404494, 0.80898876, 0.80898876,\n",
       "       0.82022472, 0.82022472, 0.83146067, 0.83146067, 0.85393258,\n",
       "       0.85393258, 0.86516854, 0.86516854, 0.87640449, 0.87640449,\n",
       "       0.88764045, 0.88764045, 0.88764045, 0.88764045, 0.88764045,\n",
       "       0.88764045, 0.8988764 , 0.8988764 , 0.8988764 , 0.92134831,\n",
       "       0.93258427, 0.93258427, 0.93258427, 0.94382022, 0.94382022,\n",
       "       0.94382022, 0.95505618, 0.95505618, 0.95505618, 0.96629213,\n",
       "       0.96629213, 0.96629213, 0.97752809, 0.97752809, 0.97752809,\n",
       "       0.97752809, 0.97752809, 0.97752809, 0.97752809, 0.97752809,\n",
       "       0.97752809, 0.97752809, 0.97752809, 0.97752809, 0.97752809,\n",
       "       0.97752809, 0.97752809, 1.        ])"
      ]
     },
     "execution_count": 180,
     "metadata": {},
     "output_type": "execute_result"
    }
   ],
   "source": [
    "fpr"
   ]
  },
  {
   "cell_type": "code",
   "execution_count": 181,
   "id": "8d5cdedb",
   "metadata": {},
   "outputs": [
    {
     "data": {
      "text/plain": [
       "array([2.        , 1.        , 0.99      , 0.98      , 0.97      ,\n",
       "       0.96      , 0.95      , 0.93      , 0.924     , 0.92      ,\n",
       "       0.91      , 0.89      , 0.88      , 0.87      , 0.86      ,\n",
       "       0.85      , 0.83833333, 0.83      , 0.81      , 0.78      ,\n",
       "       0.77      , 0.75166667, 0.75      , 0.74      , 0.73      ,\n",
       "       0.69      , 0.68731061, 0.67838095, 0.65      , 0.62      ,\n",
       "       0.6       , 0.58      , 0.54      , 0.53333333, 0.49      ,\n",
       "       0.48083333, 0.48      , 0.44333333, 0.44      , 0.42      ,\n",
       "       0.38      , 0.36      , 0.34      , 0.32      , 0.31      ,\n",
       "       0.3       , 0.28      , 0.24      , 0.22      , 0.21      ,\n",
       "       0.20118651, 0.19197727, 0.19      , 0.18      , 0.15      ,\n",
       "       0.14      , 0.135     , 0.1065    , 0.1       , 0.09      ,\n",
       "       0.08      , 0.07      , 0.064     , 0.0625    , 0.06      ,\n",
       "       0.05266667, 0.05      , 0.04      , 0.03333333, 0.03      ,\n",
       "       0.02166667, 0.02      , 0.0125    , 0.01      , 0.00666667,\n",
       "       0.00507937, 0.00285714, 0.        ])"
      ]
     },
     "execution_count": 181,
     "metadata": {},
     "output_type": "execute_result"
    }
   ],
   "source": [
    "thresholds"
   ]
  },
  {
   "cell_type": "code",
   "execution_count": 182,
   "id": "0598a9de",
   "metadata": {},
   "outputs": [
    {
     "data": {
      "image/png": "[encoded data removed]",
      "text/plain": [
       "<Figure size 432x288 with 1 Axes>"
      ]
     },
     "metadata": {
      "needs_background": "light"
     },
     "output_type": "display_data"
    }
   ],
   "source": [
    "plt.plot([0,1],[0,1],'k--')\n",
    "plt.plot(tpr,fpr,label='RFC')\n",
    "plt.xlabel('FALSE_POSITIVE_RATE')\n",
    "plt.ylabel('TRUE_POSITIVE_RATE')\n",
    "plt.title('RF_CLASSIFIER')\n",
    "plt.show()"
   ]
  },
  {
   "cell_type": "code",
   "execution_count": 183,
   "id": "188ab905",
   "metadata": {},
   "outputs": [
    {
     "data": {
      "text/plain": [
       "0.8492762425346696"
      ]
     },
     "execution_count": 183,
     "metadata": {},
     "output_type": "execute_result"
    }
   ],
   "source": [
    "auc_score=roc_auc_score(y_test,(rm.predict(x_test)))\n",
    "auc_score"
   ]
  },
  {
   "cell_type": "markdown",
   "id": "0e2c53af",
   "metadata": {},
   "source": [
    "## GRADIENT BOOSTING CLASSIFIER"
   ]
  },
  {
   "cell_type": "code",
   "execution_count": 261,
   "id": "6ff947dd",
   "metadata": {},
   "outputs": [],
   "source": [
    "xgb=GradientBoostingClassifier()"
   ]
  },
  {
   "cell_type": "code",
   "execution_count": 262,
   "id": "069e0c4c",
   "metadata": {},
   "outputs": [
    {
     "name": "stdout",
     "output_type": "stream",
     "text": [
      "At random_state {0} the training accuracy test is 0.88875\n",
      "At random_state {0} the testing accuracy test is 0.835\n",
      "\n",
      "\n",
      "At random_state {1} the training accuracy test is 0.92125\n",
      "At random_state {1} the testing accuracy test is 0.79\n",
      "\n",
      "\n",
      "At random_state {2} the training accuracy test is 0.89875\n",
      "At random_state {2} the testing accuracy test is 0.825\n",
      "\n",
      "\n",
      "At random_state {3} the training accuracy test is 0.905\n",
      "At random_state {3} the testing accuracy test is 0.81\n",
      "\n",
      "\n",
      "At random_state {4} the training accuracy test is 0.885\n",
      "At random_state {4} the testing accuracy test is 0.81\n",
      "\n",
      "\n",
      "At random_state {5} the training accuracy test is 0.89875\n",
      "At random_state {5} the testing accuracy test is 0.825\n",
      "\n",
      "\n",
      "At random_state {6} the training accuracy test is 0.9025\n",
      "At random_state {6} the testing accuracy test is 0.825\n",
      "\n",
      "\n",
      "At random_state {7} the training accuracy test is 0.90375\n",
      "At random_state {7} the testing accuracy test is 0.815\n",
      "\n",
      "\n",
      "At random_state {8} the training accuracy test is 0.905\n",
      "At random_state {8} the testing accuracy test is 0.805\n",
      "\n",
      "\n",
      "At random_state {9} the training accuracy test is 0.9\n",
      "At random_state {9} the testing accuracy test is 0.84\n",
      "\n",
      "\n",
      "At random_state {10} the training accuracy test is 0.8975\n",
      "At random_state {10} the testing accuracy test is 0.835\n",
      "\n",
      "\n",
      "At random_state {11} the training accuracy test is 0.89625\n",
      "At random_state {11} the testing accuracy test is 0.835\n",
      "\n",
      "\n",
      "At random_state {12} the training accuracy test is 0.895\n",
      "At random_state {12} the testing accuracy test is 0.845\n",
      "\n",
      "\n",
      "At random_state {13} the training accuracy test is 0.91125\n",
      "At random_state {13} the testing accuracy test is 0.83\n",
      "\n",
      "\n",
      "At random_state {14} the training accuracy test is 0.8925\n",
      "At random_state {14} the testing accuracy test is 0.815\n",
      "\n",
      "\n",
      "At random_state {15} the training accuracy test is 0.89875\n",
      "At random_state {15} the testing accuracy test is 0.795\n",
      "\n",
      "\n",
      "At random_state {16} the training accuracy test is 0.9\n",
      "At random_state {16} the testing accuracy test is 0.76\n",
      "\n",
      "\n",
      "At random_state {17} the training accuracy test is 0.90875\n",
      "At random_state {17} the testing accuracy test is 0.82\n",
      "\n",
      "\n",
      "At random_state {18} the training accuracy test is 0.90875\n",
      "At random_state {18} the testing accuracy test is 0.835\n",
      "\n",
      "\n",
      "At random_state {19} the training accuracy test is 0.905\n",
      "At random_state {19} the testing accuracy test is 0.77\n",
      "\n",
      "\n",
      "At random_state {20} the training accuracy test is 0.9025\n",
      "At random_state {20} the testing accuracy test is 0.85\n",
      "\n",
      "\n",
      "At random_state {21} the training accuracy test is 0.895\n",
      "At random_state {21} the testing accuracy test is 0.825\n",
      "\n",
      "\n",
      "At random_state {22} the training accuracy test is 0.88625\n",
      "At random_state {22} the testing accuracy test is 0.855\n",
      "\n",
      "\n",
      "At random_state {23} the training accuracy test is 0.9\n",
      "At random_state {23} the testing accuracy test is 0.815\n",
      "\n",
      "\n",
      "At random_state {24} the training accuracy test is 0.9\n",
      "At random_state {24} the testing accuracy test is 0.835\n",
      "\n",
      "\n",
      "At random_state {25} the training accuracy test is 0.91\n",
      "At random_state {25} the testing accuracy test is 0.775\n",
      "\n",
      "\n",
      "At random_state {26} the training accuracy test is 0.90625\n",
      "At random_state {26} the testing accuracy test is 0.81\n",
      "\n",
      "\n",
      "At random_state {27} the training accuracy test is 0.89375\n",
      "At random_state {27} the testing accuracy test is 0.835\n",
      "\n",
      "\n",
      "At random_state {28} the training accuracy test is 0.91375\n",
      "At random_state {28} the testing accuracy test is 0.79\n",
      "\n",
      "\n",
      "At random_state {29} the training accuracy test is 0.9125\n",
      "At random_state {29} the testing accuracy test is 0.805\n",
      "\n",
      "\n",
      "At random_state {30} the training accuracy test is 0.8925\n",
      "At random_state {30} the testing accuracy test is 0.82\n",
      "\n",
      "\n",
      "At random_state {31} the training accuracy test is 0.91375\n",
      "At random_state {31} the testing accuracy test is 0.79\n",
      "\n",
      "\n",
      "At random_state {32} the training accuracy test is 0.8975\n",
      "At random_state {32} the testing accuracy test is 0.815\n",
      "\n",
      "\n",
      "At random_state {33} the training accuracy test is 0.90125\n",
      "At random_state {33} the testing accuracy test is 0.825\n",
      "\n",
      "\n",
      "At random_state {34} the training accuracy test is 0.9\n",
      "At random_state {34} the testing accuracy test is 0.85\n",
      "\n",
      "\n",
      "At random_state {35} the training accuracy test is 0.8975\n",
      "At random_state {35} the testing accuracy test is 0.865\n",
      "\n",
      "\n",
      "At random_state {36} the training accuracy test is 0.9075\n",
      "At random_state {36} the testing accuracy test is 0.775\n",
      "\n",
      "\n",
      "At random_state {37} the training accuracy test is 0.91625\n",
      "At random_state {37} the testing accuracy test is 0.79\n",
      "\n",
      "\n",
      "At random_state {38} the training accuracy test is 0.895\n",
      "At random_state {38} the testing accuracy test is 0.87\n",
      "\n",
      "\n",
      "At random_state {39} the training accuracy test is 0.9125\n",
      "At random_state {39} the testing accuracy test is 0.8\n",
      "\n",
      "\n",
      "At random_state {40} the training accuracy test is 0.9125\n",
      "At random_state {40} the testing accuracy test is 0.805\n",
      "\n",
      "\n",
      "At random_state {41} the training accuracy test is 0.895\n",
      "At random_state {41} the testing accuracy test is 0.855\n",
      "\n",
      "\n",
      "At random_state {42} the training accuracy test is 0.9125\n",
      "At random_state {42} the testing accuracy test is 0.81\n",
      "\n",
      "\n",
      "At random_state {43} the training accuracy test is 0.89375\n",
      "At random_state {43} the testing accuracy test is 0.82\n",
      "\n",
      "\n",
      "At random_state {44} the training accuracy test is 0.89875\n",
      "At random_state {44} the testing accuracy test is 0.835\n",
      "\n",
      "\n",
      "At random_state {45} the training accuracy test is 0.9025\n",
      "At random_state {45} the testing accuracy test is 0.81\n",
      "\n",
      "\n",
      "At random_state {46} the training accuracy test is 0.90375\n",
      "At random_state {46} the testing accuracy test is 0.83\n",
      "\n",
      "\n",
      "At random_state {47} the training accuracy test is 0.8975\n",
      "At random_state {47} the testing accuracy test is 0.865\n",
      "\n",
      "\n",
      "At random_state {48} the training accuracy test is 0.9\n",
      "At random_state {48} the testing accuracy test is 0.845\n",
      "\n",
      "\n",
      "At random_state {49} the training accuracy test is 0.90625\n",
      "At random_state {49} the testing accuracy test is 0.81\n",
      "\n",
      "\n",
      "At random_state {50} the training accuracy test is 0.9125\n",
      "At random_state {50} the testing accuracy test is 0.815\n",
      "\n",
      "\n",
      "At random_state {51} the training accuracy test is 0.9025\n",
      "At random_state {51} the testing accuracy test is 0.85\n",
      "\n",
      "\n",
      "At random_state {52} the training accuracy test is 0.905\n",
      "At random_state {52} the testing accuracy test is 0.835\n",
      "\n",
      "\n",
      "At random_state {53} the training accuracy test is 0.9\n",
      "At random_state {53} the testing accuracy test is 0.82\n",
      "\n",
      "\n",
      "At random_state {54} the training accuracy test is 0.89875\n",
      "At random_state {54} the testing accuracy test is 0.825\n",
      "\n",
      "\n",
      "At random_state {55} the training accuracy test is 0.91625\n",
      "At random_state {55} the testing accuracy test is 0.775\n",
      "\n",
      "\n",
      "At random_state {56} the training accuracy test is 0.90625\n",
      "At random_state {56} the testing accuracy test is 0.825\n",
      "\n",
      "\n",
      "At random_state {57} the training accuracy test is 0.9\n",
      "At random_state {57} the testing accuracy test is 0.82\n",
      "\n",
      "\n",
      "At random_state {58} the training accuracy test is 0.90875\n",
      "At random_state {58} the testing accuracy test is 0.81\n",
      "\n",
      "\n",
      "At random_state {59} the training accuracy test is 0.8975\n",
      "At random_state {59} the testing accuracy test is 0.81\n",
      "\n",
      "\n",
      "At random_state {60} the training accuracy test is 0.9025\n",
      "At random_state {60} the testing accuracy test is 0.82\n",
      "\n",
      "\n",
      "At random_state {61} the training accuracy test is 0.905\n",
      "At random_state {61} the testing accuracy test is 0.8\n",
      "\n",
      "\n",
      "At random_state {62} the training accuracy test is 0.8975\n",
      "At random_state {62} the testing accuracy test is 0.8\n",
      "\n",
      "\n",
      "At random_state {63} the training accuracy test is 0.895\n",
      "At random_state {63} the testing accuracy test is 0.845\n",
      "\n",
      "\n",
      "At random_state {64} the training accuracy test is 0.915\n",
      "At random_state {64} the testing accuracy test is 0.795\n",
      "\n",
      "\n",
      "At random_state {65} the training accuracy test is 0.9125\n",
      "At random_state {65} the testing accuracy test is 0.825\n",
      "\n",
      "\n",
      "At random_state {66} the training accuracy test is 0.90625\n",
      "At random_state {66} the testing accuracy test is 0.81\n",
      "\n",
      "\n",
      "At random_state {67} the training accuracy test is 0.90125\n",
      "At random_state {67} the testing accuracy test is 0.82\n",
      "\n",
      "\n",
      "At random_state {68} the training accuracy test is 0.9\n",
      "At random_state {68} the testing accuracy test is 0.835\n",
      "\n",
      "\n",
      "At random_state {69} the training accuracy test is 0.90125\n",
      "At random_state {69} the testing accuracy test is 0.835\n",
      "\n",
      "\n",
      "At random_state {70} the training accuracy test is 0.88875\n",
      "At random_state {70} the testing accuracy test is 0.825\n",
      "\n",
      "\n",
      "At random_state {71} the training accuracy test is 0.91\n",
      "At random_state {71} the testing accuracy test is 0.8\n",
      "\n",
      "\n",
      "At random_state {72} the training accuracy test is 0.90375\n",
      "At random_state {72} the testing accuracy test is 0.8\n",
      "\n",
      "\n",
      "At random_state {73} the training accuracy test is 0.9025\n",
      "At random_state {73} the testing accuracy test is 0.8\n",
      "\n",
      "\n",
      "At random_state {74} the training accuracy test is 0.91\n",
      "At random_state {74} the testing accuracy test is 0.81\n",
      "\n",
      "\n",
      "At random_state {75} the training accuracy test is 0.89375\n",
      "At random_state {75} the testing accuracy test is 0.885\n",
      "\n",
      "\n",
      "At random_state {76} the training accuracy test is 0.9075\n",
      "At random_state {76} the testing accuracy test is 0.785\n",
      "\n",
      "\n",
      "At random_state {77} the training accuracy test is 0.90875\n",
      "At random_state {77} the testing accuracy test is 0.805\n",
      "\n",
      "\n",
      "At random_state {78} the training accuracy test is 0.91375\n",
      "At random_state {78} the testing accuracy test is 0.82\n",
      "\n",
      "\n",
      "At random_state {79} the training accuracy test is 0.8975\n",
      "At random_state {79} the testing accuracy test is 0.815\n",
      "\n",
      "\n",
      "At random_state {80} the training accuracy test is 0.92125\n",
      "At random_state {80} the testing accuracy test is 0.805\n",
      "\n",
      "\n",
      "At random_state {81} the training accuracy test is 0.89875\n",
      "At random_state {81} the testing accuracy test is 0.8\n",
      "\n",
      "\n",
      "At random_state {82} the training accuracy test is 0.90875\n",
      "At random_state {82} the testing accuracy test is 0.795\n",
      "\n",
      "\n",
      "At random_state {83} the training accuracy test is 0.89625\n",
      "At random_state {83} the testing accuracy test is 0.86\n",
      "\n",
      "\n",
      "At random_state {84} the training accuracy test is 0.91\n",
      "At random_state {84} the testing accuracy test is 0.8\n",
      "\n",
      "\n",
      "At random_state {85} the training accuracy test is 0.89625\n",
      "At random_state {85} the testing accuracy test is 0.865\n",
      "\n",
      "\n",
      "At random_state {86} the training accuracy test is 0.9075\n",
      "At random_state {86} the testing accuracy test is 0.825\n",
      "\n",
      "\n",
      "At random_state {87} the training accuracy test is 0.90625\n",
      "At random_state {87} the testing accuracy test is 0.815\n",
      "\n",
      "\n",
      "At random_state {88} the training accuracy test is 0.905\n",
      "At random_state {88} the testing accuracy test is 0.81\n",
      "\n",
      "\n",
      "At random_state {89} the training accuracy test is 0.8975\n",
      "At random_state {89} the testing accuracy test is 0.84\n",
      "\n",
      "\n",
      "At random_state {90} the training accuracy test is 0.905\n",
      "At random_state {90} the testing accuracy test is 0.815\n",
      "\n",
      "\n",
      "At random_state {91} the training accuracy test is 0.89\n",
      "At random_state {91} the testing accuracy test is 0.86\n",
      "\n",
      "\n",
      "At random_state {92} the training accuracy test is 0.91\n",
      "At random_state {92} the testing accuracy test is 0.825\n",
      "\n",
      "\n",
      "At random_state {93} the training accuracy test is 0.89875\n",
      "At random_state {93} the testing accuracy test is 0.805\n",
      "\n",
      "\n",
      "At random_state {94} the training accuracy test is 0.89875\n",
      "At random_state {94} the testing accuracy test is 0.855\n",
      "\n",
      "\n",
      "At random_state {95} the training accuracy test is 0.905\n",
      "At random_state {95} the testing accuracy test is 0.795\n",
      "\n",
      "\n",
      "At random_state {96} the training accuracy test is 0.8975\n",
      "At random_state {96} the testing accuracy test is 0.84\n",
      "\n",
      "\n",
      "At random_state {97} the training accuracy test is 0.8925\n",
      "At random_state {97} the testing accuracy test is 0.785\n",
      "\n",
      "\n",
      "At random_state {98} the training accuracy test is 0.89375\n",
      "At random_state {98} the testing accuracy test is 0.825\n",
      "\n",
      "\n",
      "At random_state {99} the training accuracy test is 0.89\n",
      "At random_state {99} the testing accuracy test is 0.83\n",
      "\n",
      "\n"
     ]
    }
   ],
   "source": [
    "for i in range(0,100):\n",
    "    x_train,x_test,y_train,y_test=train_test_split(x1,y1,test_size=0.20,random_state=i)\n",
    "    xgb.fit(x_train,y_train)\n",
    "    predxgb=xgb.predict(x_train)\n",
    "    predxgb1=xgb.predict(x_test)\n",
    "    print('At random_state' ,{i}, 'the training accuracy test is', accuracy_score(y_train,predxgb))\n",
    "    print('At random_state' ,{i}, 'the testing accuracy test is', accuracy_score(y_test,predxgb1))\n",
    "    print('\\n')"
   ]
  },
  {
   "cell_type": "markdown",
   "id": "ad6fd261",
   "metadata": {},
   "source": [
    "### AT RANDOM STATE 75(88.5%) ACCURACY WE ARE GETTING, HENCE WE WILL PROCEED WITH THAT "
   ]
  },
  {
   "cell_type": "code",
   "execution_count": 263,
   "id": "8651a8fc",
   "metadata": {},
   "outputs": [],
   "source": [
    "x_train,x_test,y_train,y_test=train_test_split(x1,y1,test_size=0.20,random_state=75)"
   ]
  },
  {
   "cell_type": "code",
   "execution_count": 264,
   "id": "e3b2618a",
   "metadata": {},
   "outputs": [
    {
     "data": {
      "text/html": [
       "<style>#sk-container-id-13 {color: black;background-color: white;}#sk-container-id-13 pre{padding: 0;}#sk-container-id-13 div.sk-toggleable {background-color: white;}#sk-container-id-13 label.sk-toggleable__label {cursor: pointer;display: block;width: 100%;margin-bottom: 0;padding: 0.3em;box-sizing: border-box;text-align: center;}#sk-container-id-13 label.sk-toggleable__label-arrow:before {content: \"▸\";float: left;margin-right: 0.25em;color: #696969;}#sk-container-id-13 label.sk-toggleable__label-arrow:hover:before {color: black;}#sk-container-id-13 div.sk-estimator:hover label.sk-toggleable__label-arrow:before {color: black;}#sk-container-id-13 div.sk-toggleable__content {max-height: 0;max-width: 0;overflow: hidden;text-align: left;background-color: #f0f8ff;}#sk-container-id-13 div.sk-toggleable__content pre {margin: 0.2em;color: black;border-radius: 0.25em;background-color: #f0f8ff;}#sk-container-id-13 input.sk-toggleable__control:checked~div.sk-toggleable__content {max-height: 200px;max-width: 100%;overflow: auto;}#sk-container-id-13 input.sk-toggleable__control:checked~label.sk-toggleable__label-arrow:before {content: \"▾\";}#sk-container-id-13 div.sk-estimator input.sk-toggleable__control:checked~label.sk-toggleable__label {background-color: #d4ebff;}#sk-container-id-13 div.sk-label input.sk-toggleable__control:checked~label.sk-toggleable__label {background-color: #d4ebff;}#sk-container-id-13 input.sk-hidden--visually {border: 0;clip: rect(1px 1px 1px 1px);clip: rect(1px, 1px, 1px, 1px);height: 1px;margin: -1px;overflow: hidden;padding: 0;position: absolute;width: 1px;}#sk-container-id-13 div.sk-estimator {font-family: monospace;background-color: #f0f8ff;border: 1px dotted black;border-radius: 0.25em;box-sizing: border-box;margin-bottom: 0.5em;}#sk-container-id-13 div.sk-estimator:hover {background-color: #d4ebff;}#sk-container-id-13 div.sk-parallel-item::after {content: \"\";width: 100%;border-bottom: 1px solid gray;flex-grow: 1;}#sk-container-id-13 div.sk-label:hover label.sk-toggleable__label {background-color: #d4ebff;}#sk-container-id-13 div.sk-serial::before {content: \"\";position: absolute;border-left: 1px solid gray;box-sizing: border-box;top: 0;bottom: 0;left: 50%;z-index: 0;}#sk-container-id-13 div.sk-serial {display: flex;flex-direction: column;align-items: center;background-color: white;padding-right: 0.2em;padding-left: 0.2em;position: relative;}#sk-container-id-13 div.sk-item {position: relative;z-index: 1;}#sk-container-id-13 div.sk-parallel {display: flex;align-items: stretch;justify-content: center;background-color: white;position: relative;}#sk-container-id-13 div.sk-item::before, #sk-container-id-13 div.sk-parallel-item::before {content: \"\";position: absolute;border-left: 1px solid gray;box-sizing: border-box;top: 0;bottom: 0;left: 50%;z-index: -1;}#sk-container-id-13 div.sk-parallel-item {display: flex;flex-direction: column;z-index: 1;position: relative;background-color: white;}#sk-container-id-13 div.sk-parallel-item:first-child::after {align-self: flex-end;width: 50%;}#sk-container-id-13 div.sk-parallel-item:last-child::after {align-self: flex-start;width: 50%;}#sk-container-id-13 div.sk-parallel-item:only-child::after {width: 0;}#sk-container-id-13 div.sk-dashed-wrapped {border: 1px dashed gray;margin: 0 0.4em 0.5em 0.4em;box-sizing: border-box;padding-bottom: 0.4em;background-color: white;}#sk-container-id-13 div.sk-label label {font-family: monospace;font-weight: bold;display: inline-block;line-height: 1.2em;}#sk-container-id-13 div.sk-label-container {text-align: center;}#sk-container-id-13 div.sk-container {/* jupyter's `normalize.less` sets `[hidden] { display: none; }` but bootstrap.min.css set `[hidden] { display: none !important; }` so we also need the `!important` here to be able to override the default hidden behavior on the sphinx rendered scikit-learn.org. See: https://github.com/scikit-learn/scikit-learn/issues/21755 */display: inline-block !important;position: relative;}#sk-container-id-13 div.sk-text-repr-fallback {display: none;}</style><div id=\"sk-container-id-13\" class=\"sk-top-container\"><div class=\"sk-text-repr-fallback\"><pre>GradientBoostingClassifier()</pre><b>In a Jupyter environment, please rerun this cell to show the HTML representation or trust the notebook. <br />On GitHub, the HTML representation is unable to render, please try loading this page with nbviewer.org.</b></div><div class=\"sk-container\" hidden><div class=\"sk-item\"><div class=\"sk-estimator sk-toggleable\"><input class=\"sk-toggleable__control sk-hidden--visually\" id=\"sk-estimator-id-13\" type=\"checkbox\" checked><label for=\"sk-estimator-id-13\" class=\"sk-toggleable__label sk-toggleable__label-arrow\">GradientBoostingClassifier</label><div class=\"sk-toggleable__content\"><pre>GradientBoostingClassifier()</pre></div></div></div></div></div>"
      ],
      "text/plain": [
       "GradientBoostingClassifier()"
      ]
     },
     "execution_count": 264,
     "metadata": {},
     "output_type": "execute_result"
    }
   ],
   "source": [
    "xgb.fit(x_train,y_train)"
   ]
  },
  {
   "cell_type": "code",
   "execution_count": 265,
   "id": "2b06f5f9",
   "metadata": {},
   "outputs": [],
   "source": [
    "PREXGB=xgb.predict(x_test)"
   ]
  },
  {
   "cell_type": "code",
   "execution_count": 266,
   "id": "3fdc2d31",
   "metadata": {},
   "outputs": [
    {
     "name": "stdout",
     "output_type": "stream",
     "text": [
      "0.885\n"
     ]
    }
   ],
   "source": [
    "print(accuracy_score(y_test,PREXGB))"
   ]
  },
  {
   "cell_type": "code",
   "execution_count": 267,
   "id": "3e5bcc1c",
   "metadata": {},
   "outputs": [
    {
     "name": "stdout",
     "output_type": "stream",
     "text": [
      "[[90 10]\n",
      " [13 87]]\n"
     ]
    }
   ],
   "source": [
    "print(confusion_matrix(y_test,PREXGB))"
   ]
  },
  {
   "cell_type": "code",
   "execution_count": 268,
   "id": "914e2620",
   "metadata": {},
   "outputs": [
    {
     "name": "stdout",
     "output_type": "stream",
     "text": [
      "              precision    recall  f1-score   support\n",
      "\n",
      "           0       0.87      0.90      0.89       100\n",
      "           1       0.90      0.87      0.88       100\n",
      "\n",
      "    accuracy                           0.89       200\n",
      "   macro avg       0.89      0.89      0.88       200\n",
      "weighted avg       0.89      0.89      0.88       200\n",
      "\n"
     ]
    }
   ],
   "source": [
    "print(classification_report(y_test,PREXGB))"
   ]
  },
  {
   "cell_type": "code",
   "execution_count": null,
   "id": "af349019",
   "metadata": {},
   "outputs": [],
   "source": []
  },
  {
   "cell_type": "markdown",
   "id": "c4598675",
   "metadata": {},
   "source": [
    "## AUC-ROC CURVE"
   ]
  },
  {
   "cell_type": "code",
   "execution_count": 192,
   "id": "be8cfd07",
   "metadata": {},
   "outputs": [],
   "source": [
    "y_pred_prob6=xgb.predict_proba(x_test)[:,1]"
   ]
  },
  {
   "cell_type": "code",
   "execution_count": 193,
   "id": "2740cd12",
   "metadata": {},
   "outputs": [
    {
     "data": {
      "text/plain": [
       "array([0.68902566, 0.98769021, 0.26210834, 0.56271368, 0.89609485,\n",
       "       0.39010862, 0.17824216, 0.79014477, 0.96915997, 0.77757709,\n",
       "       0.1337161 , 0.29512225, 0.59417891, 0.11174448, 0.91632872,\n",
       "       0.97138128, 0.95369804, 0.29058878, 0.27685742, 0.03946868,\n",
       "       0.97828473, 0.93510651, 0.36415057, 0.11599312, 0.32683994,\n",
       "       0.19539877, 0.98068956, 0.91632872, 0.96915997, 0.89598493,\n",
       "       0.48938091, 0.96411766, 0.26273715, 0.07543184, 0.15551683,\n",
       "       0.08337713, 0.27685742, 0.89654642, 0.90233793, 0.08324343,\n",
       "       0.33033211, 0.6654576 , 0.888551  , 0.2061145 , 0.8935299 ,\n",
       "       0.71062431, 0.68993819, 0.31900853, 0.56600777, 0.22088327,\n",
       "       0.87410253, 0.09620512, 0.26635   , 0.18763307, 0.11677919,\n",
       "       0.20472367, 0.07916818, 0.71062431, 0.16496221, 0.83798071,\n",
       "       0.28905371, 0.67815088, 0.98685131, 0.91237837, 0.18459204,\n",
       "       0.97268015, 0.95503644, 0.47800714, 0.85414154, 0.18148776,\n",
       "       0.15551683, 0.50206542, 0.96600547, 0.12348102, 0.9471542 ,\n",
       "       0.52056381, 0.27537843, 0.57981795, 0.65648515, 0.97783268,\n",
       "       0.19587533, 0.17653493, 0.03946868, 0.08777784, 0.92824815,\n",
       "       0.24362739, 0.66838773, 0.85309358, 0.38579755, 0.97064198,\n",
       "       0.0272275 , 0.98475173, 0.72962013, 0.14940198, 0.2508623 ,\n",
       "       0.05081272, 0.6963417 , 0.16254332, 0.10337056, 0.69488636,\n",
       "       0.03090155, 0.09497092, 0.98821496, 0.98902417, 0.9802073 ,\n",
       "       0.26125989, 0.9808915 , 0.07320315, 0.19321505, 0.53273854,\n",
       "       0.19727315, 0.9692068 , 0.13308806, 0.96769528, 0.98068956,\n",
       "       0.14933587, 0.22338976, 0.09954053, 0.20265544, 0.98475173,\n",
       "       0.62614656, 0.59417891, 0.89189779, 0.99345784, 0.22494629,\n",
       "       0.97996739, 0.09954053, 0.83971223, 0.95730807, 0.10337056,\n",
       "       0.13319469, 0.14030054, 0.81543923, 0.96279243, 0.98189062,\n",
       "       0.96722178, 0.98013328, 0.71120116, 0.90582491, 0.17878931,\n",
       "       0.94564968, 0.06089425, 0.98286896, 0.13981122, 0.17036317,\n",
       "       0.283874  , 0.18420473, 0.07918436, 0.04735959, 0.09688001,\n",
       "       0.3980355 , 0.888551  , 0.95503644, 0.02237971, 0.59417891,\n",
       "       0.55803084, 0.15551683, 0.19112276, 0.98324149, 0.98451377,\n",
       "       0.17824216, 0.1223723 , 0.66060095, 0.93812006, 0.92229397,\n",
       "       0.09954053, 0.89671267, 0.18122598, 0.94877459, 0.96602098,\n",
       "       0.13513007, 0.10914276, 0.23330216, 0.27685742, 0.93912669,\n",
       "       0.85180661, 0.74434727, 0.13151511, 0.32819616, 0.26635   ,\n",
       "       0.10337056, 0.0251472 , 0.9831893 , 0.31998788, 0.15551683,\n",
       "       0.13151511, 0.2559782 , 0.77757709, 0.16109002, 0.97782312,\n",
       "       0.15855753, 0.98012401, 0.32963955, 0.15551683, 0.09954053,\n",
       "       0.90228913, 0.10337056, 0.89463353, 0.07503878, 0.54012263])"
      ]
     },
     "execution_count": 193,
     "metadata": {},
     "output_type": "execute_result"
    }
   ],
   "source": [
    "y_pred_prob6"
   ]
  },
  {
   "cell_type": "code",
   "execution_count": 194,
   "id": "9d17e91b",
   "metadata": {},
   "outputs": [],
   "source": [
    "tpr,fpr,thresholds=roc_curve(y_test,y_pred_prob6)"
   ]
  },
  {
   "cell_type": "code",
   "execution_count": 195,
   "id": "cef65d81",
   "metadata": {},
   "outputs": [
    {
     "data": {
      "text/plain": [
       "array([0.  , 0.  , 0.  , 0.  , 0.  , 0.01, 0.01, 0.01, 0.01, 0.01, 0.01,\n",
       "       0.01, 0.01, 0.02, 0.02, 0.02, 0.02, 0.03, 0.03, 0.04, 0.04, 0.05,\n",
       "       0.05, 0.05, 0.05, 0.05, 0.05, 0.06, 0.06, 0.07, 0.07, 0.07, 0.07,\n",
       "       0.08, 0.08, 0.09, 0.09, 0.1 , 0.1 , 0.12, 0.12, 0.15, 0.15, 0.2 ,\n",
       "       0.2 , 0.21, 0.21, 0.22, 0.23, 0.24, 0.26, 0.26, 0.28, 0.28, 0.4 ,\n",
       "       0.4 , 0.46, 0.48, 0.54, 0.59, 0.67, 0.69, 0.75, 0.83, 0.85, 0.85,\n",
       "       0.9 , 0.9 , 0.95, 0.97, 0.98, 0.98, 1.  ])"
      ]
     },
     "execution_count": 195,
     "metadata": {},
     "output_type": "execute_result"
    }
   ],
   "source": [
    "tpr"
   ]
  },
  {
   "cell_type": "code",
   "execution_count": 196,
   "id": "c1f7f734",
   "metadata": {},
   "outputs": [
    {
     "data": {
      "text/plain": [
       "array([0.  , 0.01, 0.05, 0.07, 0.1 , 0.1 , 0.12, 0.14, 0.25, 0.27, 0.34,\n",
       "       0.36, 0.38, 0.38, 0.44, 0.46, 0.49, 0.49, 0.56, 0.57, 0.58, 0.58,\n",
       "       0.64, 0.66, 0.69, 0.71, 0.74, 0.74, 0.76, 0.76, 0.79, 0.82, 0.84,\n",
       "       0.84, 0.85, 0.85, 0.86, 0.86, 0.87, 0.87, 0.88, 0.88, 0.89, 0.89,\n",
       "       0.9 , 0.9 , 0.91, 0.91, 0.93, 0.93, 0.93, 0.94, 0.94, 0.96, 0.96,\n",
       "       0.97, 0.97, 0.97, 0.97, 0.97, 0.97, 0.97, 0.97, 0.97, 0.97, 0.98,\n",
       "       0.98, 0.99, 0.99, 0.99, 0.99, 1.  , 1.  ])"
      ]
     },
     "execution_count": 196,
     "metadata": {},
     "output_type": "execute_result"
    }
   ],
   "source": [
    "fpr"
   ]
  },
  {
   "cell_type": "code",
   "execution_count": 197,
   "id": "05bc6089",
   "metadata": {},
   "outputs": [
    {
     "data": {
      "text/plain": [
       "array([1.99345784, 0.99345784, 0.98685131, 0.98475173, 0.9831893 ,\n",
       "       0.98286896, 0.9808915 , 0.98068956, 0.9692068 , 0.96915997,\n",
       "       0.95730807, 0.95503644, 0.94877459, 0.9471542 , 0.92229397,\n",
       "       0.91632872, 0.90233793, 0.90228913, 0.89189779, 0.888551  ,\n",
       "       0.87410253, 0.85414154, 0.79014477, 0.77757709, 0.71120116,\n",
       "       0.71062431, 0.68993819, 0.68902566, 0.66838773, 0.6654576 ,\n",
       "       0.62614656, 0.59417891, 0.56600777, 0.56271368, 0.55803084,\n",
       "       0.54012263, 0.53273854, 0.52056381, 0.50206542, 0.47800714,\n",
       "       0.3980355 , 0.36415057, 0.33033211, 0.31900853, 0.29512225,\n",
       "       0.29058878, 0.28905371, 0.283874  , 0.27685742, 0.27537843,\n",
       "       0.26635   , 0.26273715, 0.26125989, 0.2508623 , 0.19321505,\n",
       "       0.19112276, 0.17878931, 0.17824216, 0.15855753, 0.15551683,\n",
       "       0.13308806, 0.13151511, 0.10914276, 0.09954053, 0.09620512,\n",
       "       0.09497092, 0.07916818, 0.07543184, 0.04735959, 0.03946868,\n",
       "       0.03090155, 0.0272275 , 0.02237971])"
      ]
     },
     "execution_count": 197,
     "metadata": {},
     "output_type": "execute_result"
    }
   ],
   "source": [
    "thresholds"
   ]
  },
  {
   "cell_type": "code",
   "execution_count": 198,
   "id": "74ccc4ec",
   "metadata": {},
   "outputs": [
    {
     "data": {
      "image/png": "[encoded data removed]",
      "text/plain": [
       "<Figure size 432x288 with 1 Axes>"
      ]
     },
     "metadata": {
      "needs_background": "light"
     },
     "output_type": "display_data"
    }
   ],
   "source": [
    "plt.plot([0,1],[0,1],'k--')\n",
    "plt.plot(tpr,fpr,label='XGB')\n",
    "plt.xlabel('FALSE_POSITIVE_RATE')\n",
    "plt.ylabel('TRUE_POSITIVE_RATE')\n",
    "plt.title('XGB_CLASSIFIER')\n",
    "plt.show()"
   ]
  },
  {
   "cell_type": "code",
   "execution_count": 199,
   "id": "c2be2a46",
   "metadata": {},
   "outputs": [
    {
     "data": {
      "text/plain": [
       "0.885"
      ]
     },
     "execution_count": 199,
     "metadata": {},
     "output_type": "execute_result"
    }
   ],
   "source": [
    "auc_score=roc_auc_score(y_test,(xgb.predict(x_test)))\n",
    "auc_score"
   ]
  },
  {
   "cell_type": "markdown",
   "id": "b7e3bd3f",
   "metadata": {},
   "source": [
    "## CROSS VAL SCORE"
   ]
  },
  {
   "cell_type": "code",
   "execution_count": 269,
   "id": "d21eef85",
   "metadata": {},
   "outputs": [
    {
     "name": "stdout",
     "output_type": "stream",
     "text": [
      "CV is 0.788\n",
      "CV is 0.802\n",
      "CV is 0.8150000000000001\n",
      "CV is 0.79\n",
      "CV is 0.8190000000000001\n",
      "CV is 0.8210000000000001\n"
     ]
    }
   ],
   "source": [
    "for m in [lr,svc,knn,dtc,rm,xgb]:\n",
    "    cv=cross_val_score(m,x1,y1,cv=8)\n",
    "    print('CV','is',(cv.mean()))"
   ]
  },
  {
   "cell_type": "markdown",
   "id": "caaef26b",
   "metadata": {},
   "source": [
    "### ACCURACY SCORES OF MODEL "
   ]
  },
  {
   "cell_type": "markdown",
   "id": "d262a63e",
   "metadata": {},
   "source": [
    "### LR-86\n",
    "### SVR-84\n",
    "### KNN-86\n",
    "### DTC-87\n",
    "### RM-87.5\n",
    "### XGB-88.5"
   ]
  },
  {
   "cell_type": "code",
   "execution_count": 270,
   "id": "d460e274",
   "metadata": {},
   "outputs": [
    {
     "data": {
      "text/plain": [
       "7.200000000000003"
      ]
     },
     "execution_count": 270,
     "metadata": {},
     "output_type": "execute_result"
    }
   ],
   "source": [
    "(86-78.8)"
   ]
  },
  {
   "cell_type": "code",
   "execution_count": 271,
   "id": "3e56de80",
   "metadata": {},
   "outputs": [
    {
     "data": {
      "text/plain": [
       "3.799999999999997"
      ]
     },
     "execution_count": 271,
     "metadata": {},
     "output_type": "execute_result"
    }
   ],
   "source": [
    "(84-80.20)"
   ]
  },
  {
   "cell_type": "code",
   "execution_count": 272,
   "id": "30773e4f",
   "metadata": {},
   "outputs": [
    {
     "data": {
      "text/plain": [
       "4.5"
      ]
     },
     "execution_count": 272,
     "metadata": {},
     "output_type": "execute_result"
    }
   ],
   "source": [
    "(86.-81.50)"
   ]
  },
  {
   "cell_type": "code",
   "execution_count": 273,
   "id": "40930a8c",
   "metadata": {},
   "outputs": [
    {
     "data": {
      "text/plain": [
       "8"
      ]
     },
     "execution_count": 273,
     "metadata": {},
     "output_type": "execute_result"
    }
   ],
   "source": [
    "(87-79)"
   ]
  },
  {
   "cell_type": "code",
   "execution_count": 274,
   "id": "46a9dc9f",
   "metadata": {},
   "outputs": [
    {
     "data": {
      "text/plain": [
       "5.599999999999994"
      ]
     },
     "execution_count": 274,
     "metadata": {},
     "output_type": "execute_result"
    }
   ],
   "source": [
    "(87.5-81.9)"
   ]
  },
  {
   "cell_type": "code",
   "execution_count": 275,
   "id": "c6beca56",
   "metadata": {},
   "outputs": [
    {
     "data": {
      "text/plain": [
       "6.400000000000006"
      ]
     },
     "execution_count": 275,
     "metadata": {},
     "output_type": "execute_result"
    }
   ],
   "source": [
    "(88.5-82.10)"
   ]
  },
  {
   "cell_type": "markdown",
   "id": "ea13c9d0",
   "metadata": {},
   "source": [
    "### THERE IS A VERY SLIGHT CASE OF OVERFITTING IN ALL THE MODELS "
   ]
  },
  {
   "cell_type": "markdown",
   "id": "32b3d9b0",
   "metadata": {},
   "source": [
    "### WE WILL DO HYPER TUNING ON SVC AS THE DIFFERENCE BETWEEN CV SCORE AND ACCURACY IS THE LEAST \n"
   ]
  },
  {
   "cell_type": "markdown",
   "id": "b845d57f",
   "metadata": {},
   "source": [
    "## SVC CLASSIFIER- HYPER TUNING"
   ]
  },
  {
   "cell_type": "code",
   "execution_count": 207,
   "id": "f5671425",
   "metadata": {},
   "outputs": [],
   "source": [
    "SVC1=SVC()"
   ]
  },
  {
   "cell_type": "code",
   "execution_count": 291,
   "id": "69993c71",
   "metadata": {},
   "outputs": [],
   "source": [
    "dct={'kernel':['poly','rbf','linear','sigmoid'],'gamma':['scale','auto'],'random_state':list(range(10)),'decision_function_shape':['ovo','ovr'],'degree':[1,2,3,4]}"
   ]
  },
  {
   "cell_type": "code",
   "execution_count": 292,
   "id": "efb92efd",
   "metadata": {},
   "outputs": [],
   "source": [
    "gd=GridSearchCV(SVC1,dct,cv=8,scoring='accuracy')"
   ]
  },
  {
   "cell_type": "code",
   "execution_count": 293,
   "id": "0be6d03e",
   "metadata": {},
   "outputs": [
    {
     "data": {
      "text/html": [
       "<style>#sk-container-id-17 {color: black;background-color: white;}#sk-container-id-17 pre{padding: 0;}#sk-container-id-17 div.sk-toggleable {background-color: white;}#sk-container-id-17 label.sk-toggleable__label {cursor: pointer;display: block;width: 100%;margin-bottom: 0;padding: 0.3em;box-sizing: border-box;text-align: center;}#sk-container-id-17 label.sk-toggleable__label-arrow:before {content: \"▸\";float: left;margin-right: 0.25em;color: #696969;}#sk-container-id-17 label.sk-toggleable__label-arrow:hover:before {color: black;}#sk-container-id-17 div.sk-estimator:hover label.sk-toggleable__label-arrow:before {color: black;}#sk-container-id-17 div.sk-toggleable__content {max-height: 0;max-width: 0;overflow: hidden;text-align: left;background-color: #f0f8ff;}#sk-container-id-17 div.sk-toggleable__content pre {margin: 0.2em;color: black;border-radius: 0.25em;background-color: #f0f8ff;}#sk-container-id-17 input.sk-toggleable__control:checked~div.sk-toggleable__content {max-height: 200px;max-width: 100%;overflow: auto;}#sk-container-id-17 input.sk-toggleable__control:checked~label.sk-toggleable__label-arrow:before {content: \"▾\";}#sk-container-id-17 div.sk-estimator input.sk-toggleable__control:checked~label.sk-toggleable__label {background-color: #d4ebff;}#sk-container-id-17 div.sk-label input.sk-toggleable__control:checked~label.sk-toggleable__label {background-color: #d4ebff;}#sk-container-id-17 input.sk-hidden--visually {border: 0;clip: rect(1px 1px 1px 1px);clip: rect(1px, 1px, 1px, 1px);height: 1px;margin: -1px;overflow: hidden;padding: 0;position: absolute;width: 1px;}#sk-container-id-17 div.sk-estimator {font-family: monospace;background-color: #f0f8ff;border: 1px dotted black;border-radius: 0.25em;box-sizing: border-box;margin-bottom: 0.5em;}#sk-container-id-17 div.sk-estimator:hover {background-color: #d4ebff;}#sk-container-id-17 div.sk-parallel-item::after {content: \"\";width: 100%;border-bottom: 1px solid gray;flex-grow: 1;}#sk-container-id-17 div.sk-label:hover label.sk-toggleable__label {background-color: #d4ebff;}#sk-container-id-17 div.sk-serial::before {content: \"\";position: absolute;border-left: 1px solid gray;box-sizing: border-box;top: 0;bottom: 0;left: 50%;z-index: 0;}#sk-container-id-17 div.sk-serial {display: flex;flex-direction: column;align-items: center;background-color: white;padding-right: 0.2em;padding-left: 0.2em;position: relative;}#sk-container-id-17 div.sk-item {position: relative;z-index: 1;}#sk-container-id-17 div.sk-parallel {display: flex;align-items: stretch;justify-content: center;background-color: white;position: relative;}#sk-container-id-17 div.sk-item::before, #sk-container-id-17 div.sk-parallel-item::before {content: \"\";position: absolute;border-left: 1px solid gray;box-sizing: border-box;top: 0;bottom: 0;left: 50%;z-index: -1;}#sk-container-id-17 div.sk-parallel-item {display: flex;flex-direction: column;z-index: 1;position: relative;background-color: white;}#sk-container-id-17 div.sk-parallel-item:first-child::after {align-self: flex-end;width: 50%;}#sk-container-id-17 div.sk-parallel-item:last-child::after {align-self: flex-start;width: 50%;}#sk-container-id-17 div.sk-parallel-item:only-child::after {width: 0;}#sk-container-id-17 div.sk-dashed-wrapped {border: 1px dashed gray;margin: 0 0.4em 0.5em 0.4em;box-sizing: border-box;padding-bottom: 0.4em;background-color: white;}#sk-container-id-17 div.sk-label label {font-family: monospace;font-weight: bold;display: inline-block;line-height: 1.2em;}#sk-container-id-17 div.sk-label-container {text-align: center;}#sk-container-id-17 div.sk-container {/* jupyter's `normalize.less` sets `[hidden] { display: none; }` but bootstrap.min.css set `[hidden] { display: none !important; }` so we also need the `!important` here to be able to override the default hidden behavior on the sphinx rendered scikit-learn.org. See: https://github.com/scikit-learn/scikit-learn/issues/21755 */display: inline-block !important;position: relative;}#sk-container-id-17 div.sk-text-repr-fallback {display: none;}</style><div id=\"sk-container-id-17\" class=\"sk-top-container\"><div class=\"sk-text-repr-fallback\"><pre>GridSearchCV(cv=8, estimator=SVC(),\n",
       "             param_grid={&#x27;decision_function_shape&#x27;: [&#x27;ovo&#x27;, &#x27;ovr&#x27;],\n",
       "                         &#x27;degree&#x27;: [1, 2, 3, 4], &#x27;gamma&#x27;: [&#x27;scale&#x27;, &#x27;auto&#x27;],\n",
       "                         &#x27;kernel&#x27;: [&#x27;poly&#x27;, &#x27;rbf&#x27;, &#x27;linear&#x27;, &#x27;sigmoid&#x27;],\n",
       "                         &#x27;random_state&#x27;: [0, 1, 2, 3, 4, 5, 6, 7, 8, 9]},\n",
       "             scoring=&#x27;accuracy&#x27;)</pre><b>In a Jupyter environment, please rerun this cell to show the HTML representation or trust the notebook. <br />On GitHub, the HTML representation is unable to render, please try loading this page with nbviewer.org.</b></div><div class=\"sk-container\" hidden><div class=\"sk-item sk-dashed-wrapped\"><div class=\"sk-label-container\"><div class=\"sk-label sk-toggleable\"><input class=\"sk-toggleable__control sk-hidden--visually\" id=\"sk-estimator-id-23\" type=\"checkbox\" ><label for=\"sk-estimator-id-23\" class=\"sk-toggleable__label sk-toggleable__label-arrow\">GridSearchCV</label><div class=\"sk-toggleable__content\"><pre>GridSearchCV(cv=8, estimator=SVC(),\n",
       "             param_grid={&#x27;decision_function_shape&#x27;: [&#x27;ovo&#x27;, &#x27;ovr&#x27;],\n",
       "                         &#x27;degree&#x27;: [1, 2, 3, 4], &#x27;gamma&#x27;: [&#x27;scale&#x27;, &#x27;auto&#x27;],\n",
       "                         &#x27;kernel&#x27;: [&#x27;poly&#x27;, &#x27;rbf&#x27;, &#x27;linear&#x27;, &#x27;sigmoid&#x27;],\n",
       "                         &#x27;random_state&#x27;: [0, 1, 2, 3, 4, 5, 6, 7, 8, 9]},\n",
       "             scoring=&#x27;accuracy&#x27;)</pre></div></div></div><div class=\"sk-parallel\"><div class=\"sk-parallel-item\"><div class=\"sk-item\"><div class=\"sk-label-container\"><div class=\"sk-label sk-toggleable\"><input class=\"sk-toggleable__control sk-hidden--visually\" id=\"sk-estimator-id-24\" type=\"checkbox\" ><label for=\"sk-estimator-id-24\" class=\"sk-toggleable__label sk-toggleable__label-arrow\">estimator: SVC</label><div class=\"sk-toggleable__content\"><pre>SVC()</pre></div></div></div><div class=\"sk-serial\"><div class=\"sk-item\"><div class=\"sk-estimator sk-toggleable\"><input class=\"sk-toggleable__control sk-hidden--visually\" id=\"sk-estimator-id-25\" type=\"checkbox\" ><label for=\"sk-estimator-id-25\" class=\"sk-toggleable__label sk-toggleable__label-arrow\">SVC</label><div class=\"sk-toggleable__content\"><pre>SVC()</pre></div></div></div></div></div></div></div></div></div></div>"
      ],
      "text/plain": [
       "GridSearchCV(cv=8, estimator=SVC(),\n",
       "             param_grid={'decision_function_shape': ['ovo', 'ovr'],\n",
       "                         'degree': [1, 2, 3, 4], 'gamma': ['scale', 'auto'],\n",
       "                         'kernel': ['poly', 'rbf', 'linear', 'sigmoid'],\n",
       "                         'random_state': [0, 1, 2, 3, 4, 5, 6, 7, 8, 9]},\n",
       "             scoring='accuracy')"
      ]
     },
     "execution_count": 293,
     "metadata": {},
     "output_type": "execute_result"
    }
   ],
   "source": [
    "gd.fit(x_train,y_train)"
   ]
  },
  {
   "cell_type": "code",
   "execution_count": 294,
   "id": "ebac0747",
   "metadata": {},
   "outputs": [
    {
     "data": {
      "text/plain": [
       "{'decision_function_shape': 'ovo',\n",
       " 'degree': 1,\n",
       " 'gamma': 'scale',\n",
       " 'kernel': 'rbf',\n",
       " 'random_state': 0}"
      ]
     },
     "execution_count": 294,
     "metadata": {},
     "output_type": "execute_result"
    }
   ],
   "source": [
    "gd.best_params_"
   ]
  },
  {
   "cell_type": "code",
   "execution_count": 300,
   "id": "66c1b907",
   "metadata": {},
   "outputs": [],
   "source": [
    "SVC2=SVC(kernel='rbf',random_state=0,gamma='scale',degree=1,decision_function_shape='ovo',probability=True)"
   ]
  },
  {
   "cell_type": "code",
   "execution_count": 301,
   "id": "3186c4c5",
   "metadata": {},
   "outputs": [
    {
     "data": {
      "text/html": [
       "<style>#sk-container-id-19 {color: black;background-color: white;}#sk-container-id-19 pre{padding: 0;}#sk-container-id-19 div.sk-toggleable {background-color: white;}#sk-container-id-19 label.sk-toggleable__label {cursor: pointer;display: block;width: 100%;margin-bottom: 0;padding: 0.3em;box-sizing: border-box;text-align: center;}#sk-container-id-19 label.sk-toggleable__label-arrow:before {content: \"▸\";float: left;margin-right: 0.25em;color: #696969;}#sk-container-id-19 label.sk-toggleable__label-arrow:hover:before {color: black;}#sk-container-id-19 div.sk-estimator:hover label.sk-toggleable__label-arrow:before {color: black;}#sk-container-id-19 div.sk-toggleable__content {max-height: 0;max-width: 0;overflow: hidden;text-align: left;background-color: #f0f8ff;}#sk-container-id-19 div.sk-toggleable__content pre {margin: 0.2em;color: black;border-radius: 0.25em;background-color: #f0f8ff;}#sk-container-id-19 input.sk-toggleable__control:checked~div.sk-toggleable__content {max-height: 200px;max-width: 100%;overflow: auto;}#sk-container-id-19 input.sk-toggleable__control:checked~label.sk-toggleable__label-arrow:before {content: \"▾\";}#sk-container-id-19 div.sk-estimator input.sk-toggleable__control:checked~label.sk-toggleable__label {background-color: #d4ebff;}#sk-container-id-19 div.sk-label input.sk-toggleable__control:checked~label.sk-toggleable__label {background-color: #d4ebff;}#sk-container-id-19 input.sk-hidden--visually {border: 0;clip: rect(1px 1px 1px 1px);clip: rect(1px, 1px, 1px, 1px);height: 1px;margin: -1px;overflow: hidden;padding: 0;position: absolute;width: 1px;}#sk-container-id-19 div.sk-estimator {font-family: monospace;background-color: #f0f8ff;border: 1px dotted black;border-radius: 0.25em;box-sizing: border-box;margin-bottom: 0.5em;}#sk-container-id-19 div.sk-estimator:hover {background-color: #d4ebff;}#sk-container-id-19 div.sk-parallel-item::after {content: \"\";width: 100%;border-bottom: 1px solid gray;flex-grow: 1;}#sk-container-id-19 div.sk-label:hover label.sk-toggleable__label {background-color: #d4ebff;}#sk-container-id-19 div.sk-serial::before {content: \"\";position: absolute;border-left: 1px solid gray;box-sizing: border-box;top: 0;bottom: 0;left: 50%;z-index: 0;}#sk-container-id-19 div.sk-serial {display: flex;flex-direction: column;align-items: center;background-color: white;padding-right: 0.2em;padding-left: 0.2em;position: relative;}#sk-container-id-19 div.sk-item {position: relative;z-index: 1;}#sk-container-id-19 div.sk-parallel {display: flex;align-items: stretch;justify-content: center;background-color: white;position: relative;}#sk-container-id-19 div.sk-item::before, #sk-container-id-19 div.sk-parallel-item::before {content: \"\";position: absolute;border-left: 1px solid gray;box-sizing: border-box;top: 0;bottom: 0;left: 50%;z-index: -1;}#sk-container-id-19 div.sk-parallel-item {display: flex;flex-direction: column;z-index: 1;position: relative;background-color: white;}#sk-container-id-19 div.sk-parallel-item:first-child::after {align-self: flex-end;width: 50%;}#sk-container-id-19 div.sk-parallel-item:last-child::after {align-self: flex-start;width: 50%;}#sk-container-id-19 div.sk-parallel-item:only-child::after {width: 0;}#sk-container-id-19 div.sk-dashed-wrapped {border: 1px dashed gray;margin: 0 0.4em 0.5em 0.4em;box-sizing: border-box;padding-bottom: 0.4em;background-color: white;}#sk-container-id-19 div.sk-label label {font-family: monospace;font-weight: bold;display: inline-block;line-height: 1.2em;}#sk-container-id-19 div.sk-label-container {text-align: center;}#sk-container-id-19 div.sk-container {/* jupyter's `normalize.less` sets `[hidden] { display: none; }` but bootstrap.min.css set `[hidden] { display: none !important; }` so we also need the `!important` here to be able to override the default hidden behavior on the sphinx rendered scikit-learn.org. See: https://github.com/scikit-learn/scikit-learn/issues/21755 */display: inline-block !important;position: relative;}#sk-container-id-19 div.sk-text-repr-fallback {display: none;}</style><div id=\"sk-container-id-19\" class=\"sk-top-container\"><div class=\"sk-text-repr-fallback\"><pre>SVC(decision_function_shape=&#x27;ovo&#x27;, degree=1, probability=True, random_state=0)</pre><b>In a Jupyter environment, please rerun this cell to show the HTML representation or trust the notebook. <br />On GitHub, the HTML representation is unable to render, please try loading this page with nbviewer.org.</b></div><div class=\"sk-container\" hidden><div class=\"sk-item\"><div class=\"sk-estimator sk-toggleable\"><input class=\"sk-toggleable__control sk-hidden--visually\" id=\"sk-estimator-id-27\" type=\"checkbox\" checked><label for=\"sk-estimator-id-27\" class=\"sk-toggleable__label sk-toggleable__label-arrow\">SVC</label><div class=\"sk-toggleable__content\"><pre>SVC(decision_function_shape=&#x27;ovo&#x27;, degree=1, probability=True, random_state=0)</pre></div></div></div></div></div>"
      ],
      "text/plain": [
       "SVC(decision_function_shape='ovo', degree=1, probability=True, random_state=0)"
      ]
     },
     "execution_count": 301,
     "metadata": {},
     "output_type": "execute_result"
    }
   ],
   "source": [
    "SVC2.fit(x_train,y_train)"
   ]
  },
  {
   "cell_type": "code",
   "execution_count": 314,
   "id": "f1c2b60c",
   "metadata": {},
   "outputs": [],
   "source": [
    "PRESVC2=SVC2.predict(x_test)"
   ]
  },
  {
   "cell_type": "code",
   "execution_count": 316,
   "id": "55550e5e",
   "metadata": {},
   "outputs": [
    {
     "name": "stdout",
     "output_type": "stream",
     "text": [
      "0.81\n"
     ]
    }
   ],
   "source": [
    "print(accuracy_score(y_test,PRESVC2))"
   ]
  },
  {
   "cell_type": "markdown",
   "id": "8fb0d104",
   "metadata": {},
   "source": [
    "## THE ACCURACY SCORE HAS SLIGHLY IMPORVED WRT TO THE CV MEAN SCORE, HENCE WE WILL SELECT & SAVE THIS MODEL "
   ]
  },
  {
   "cell_type": "markdown",
   "id": "880ca7cf",
   "metadata": {},
   "source": [
    "## AUC-ROC CURVE -SVC MODEL "
   ]
  },
  {
   "cell_type": "code",
   "execution_count": 304,
   "id": "213ad44e",
   "metadata": {},
   "outputs": [],
   "source": [
    "y_pred_prob7=SVC2.predict_proba(x_test)[:,1]"
   ]
  },
  {
   "cell_type": "code",
   "execution_count": 306,
   "id": "dffe95e6",
   "metadata": {},
   "outputs": [
    {
     "data": {
      "text/plain": [
       "array([0.85307997, 0.87232853, 0.19842855, 0.29939636, 0.93346864,\n",
       "       0.21330539, 0.1847686 , 0.28372373, 0.87019438, 0.85511745,\n",
       "       0.19837012, 0.29021835, 0.27078599, 0.19736585, 0.88474201,\n",
       "       0.93863336, 0.87530812, 0.183182  , 0.19792216, 0.16615685,\n",
       "       0.9089937 , 0.87439955, 0.43776432, 0.20795147, 0.21202506,\n",
       "       0.24129339, 0.86045339, 0.88474201, 0.87148035, 0.85543052,\n",
       "       0.26738678, 0.86794583, 0.29230929, 0.37065375, 0.19830674,\n",
       "       0.18273928, 0.19783675, 0.89597822, 0.92973962, 0.1632531 ,\n",
       "       0.2900339 , 0.27445475, 0.88794504, 0.24288025, 0.83618803,\n",
       "       0.84179218, 0.27416067, 0.19856216, 0.19837089, 0.2468351 ,\n",
       "       0.85521385, 0.19167153, 0.19845078, 0.18788641, 0.75037208,\n",
       "       0.78276829, 0.19839503, 0.84032409, 0.1856813 , 0.85545177,\n",
       "       0.1984805 , 0.84984129, 0.89702849, 0.89485303, 0.19806858,\n",
       "       0.80638595, 0.85075044, 0.84866949, 0.85474113, 0.1985476 ,\n",
       "       0.19830674, 0.83866977, 0.89423496, 0.08410718, 0.85322155,\n",
       "       0.84439298, 0.19771245, 0.3043729 , 0.84690213, 0.93939149,\n",
       "       0.19800896, 0.19573491, 0.16615685, 0.39562339, 0.93733313,\n",
       "       0.19820114, 0.27137552, 0.72205762, 0.21202266, 0.86101309,\n",
       "       0.18797856, 0.89818669, 0.85460901, 0.19492273, 0.19834323,\n",
       "       0.18528695, 0.33287206, 0.19764166, 0.19653438, 0.27504011,\n",
       "       0.19698038, 0.18601032, 0.81981958, 0.9009998 , 0.91779404,\n",
       "       0.19451793, 0.91138854, 0.19861441, 0.19431488, 0.26203029,\n",
       "       0.19741807, 0.93463857, 0.18274233, 0.91243263, 0.8602805 ,\n",
       "       0.19253588, 0.19376439, 0.19831173, 0.10054229, 0.89753858,\n",
       "       0.26117189, 0.27047177, 0.84219013, 0.90842525, 0.19984918,\n",
       "       0.89737776, 0.19831173, 0.86859664, 0.6710646 , 0.19450389,\n",
       "       0.19845421, 0.19781378, 0.86342957, 0.85299858, 0.86676231,\n",
       "       0.87855829, 0.87552158, 0.79596412, 0.3032509 , 0.19821338,\n",
       "       0.86484927, 0.19429721, 0.84127472, 0.19904624, 0.15277382,\n",
       "       0.19717339, 0.20249839, 0.19638269, 0.19030837, 0.1940962 ,\n",
       "       0.18508588, 0.88794504, 0.84972791, 0.19473897, 0.26778494,\n",
       "       0.27548928, 0.19830674, 0.48206579, 0.89079378, 0.89636484,\n",
       "       0.1847686 , 0.19723483, 0.48729915, 0.86751813, 0.86842215,\n",
       "       0.19831173, 0.84532345, 0.19818354, 0.89267898, 0.86379568,\n",
       "       0.18560031, 0.19910644, 0.19061507, 0.19785402, 0.92966497,\n",
       "       0.8399835 , 0.84365202, 0.19668035, 0.19796237, 0.19845078,\n",
       "       0.19667983, 0.21965977, 0.87277644, 0.18473568, 0.19830674,\n",
       "       0.19807233, 0.19852873, 0.85511745, 0.19125105, 0.86115892,\n",
       "       0.15692663, 0.89479469, 0.2036986 , 0.19830674, 0.19831173,\n",
       "       0.28256609, 0.19406849, 0.8791815 , 0.1973595 , 0.76825291])"
      ]
     },
     "execution_count": 306,
     "metadata": {},
     "output_type": "execute_result"
    }
   ],
   "source": [
    "y_pred_prob7"
   ]
  },
  {
   "cell_type": "code",
   "execution_count": 307,
   "id": "91395c9b",
   "metadata": {},
   "outputs": [],
   "source": [
    "tpr,fpr,thresholds=roc_curve(y_test,y_pred_prob7)"
   ]
  },
  {
   "cell_type": "code",
   "execution_count": 308,
   "id": "a82e5c81",
   "metadata": {},
   "outputs": [
    {
     "data": {
      "text/plain": [
       "array([0.  , 0.  , 0.  , 0.01, 0.01, 0.01, 0.01, 0.02, 0.02, 0.04, 0.04,\n",
       "       0.05, 0.05, 0.06, 0.06, 0.07, 0.07, 0.1 , 0.1 , 0.12, 0.12, 0.13,\n",
       "       0.13, 0.14, 0.14, 0.15, 0.15, 0.16, 0.16, 0.32, 0.32, 0.33, 0.35,\n",
       "       0.37, 0.37, 0.38, 0.38, 0.42, 0.47, 0.55, 0.55, 0.83, 0.83, 0.84,\n",
       "       0.84, 0.87, 0.87, 0.89, 0.93, 0.95, 1.  ])"
      ]
     },
     "execution_count": 308,
     "metadata": {},
     "output_type": "execute_result"
    }
   ],
   "source": [
    "tpr"
   ]
  },
  {
   "cell_type": "code",
   "execution_count": 309,
   "id": "1d02ac5c",
   "metadata": {},
   "outputs": [
    {
     "data": {
      "text/plain": [
       "array([0.  , 0.01, 0.24, 0.25, 0.27, 0.51, 0.53, 0.53, 0.54, 0.54, 0.58,\n",
       "       0.58, 0.6 , 0.6 , 0.63, 0.63, 0.7 , 0.7 , 0.74, 0.74, 0.78, 0.78,\n",
       "       0.82, 0.82, 0.84, 0.84, 0.89, 0.89, 0.91, 0.91, 0.93, 0.93, 0.93,\n",
       "       0.93, 0.94, 0.94, 0.95, 0.95, 0.95, 0.95, 0.97, 0.97, 0.98, 0.98,\n",
       "       0.99, 0.99, 1.  , 1.  , 1.  , 1.  , 1.  ])"
      ]
     },
     "execution_count": 309,
     "metadata": {},
     "output_type": "execute_result"
    }
   ],
   "source": [
    "fpr"
   ]
  },
  {
   "cell_type": "code",
   "execution_count": 310,
   "id": "7471daca",
   "metadata": {},
   "outputs": [
    {
     "data": {
      "text/plain": [
       "array([1.93939149, 0.93939149, 0.89079378, 0.88794504, 0.88474201,\n",
       "       0.85521385, 0.85511745, 0.85474113, 0.85460901, 0.85307997,\n",
       "       0.84972791, 0.84866949, 0.84532345, 0.84439298, 0.84179218,\n",
       "       0.84127472, 0.79596412, 0.75037208, 0.48206579, 0.39562339,\n",
       "       0.3032509 , 0.29939636, 0.28372373, 0.28256609, 0.27504011,\n",
       "       0.27445475, 0.26778494, 0.26738678, 0.26117189, 0.1985476 ,\n",
       "       0.1984805 , 0.19845421, 0.19845078, 0.19839503, 0.19837089,\n",
       "       0.19837012, 0.19834323, 0.19831173, 0.19830674, 0.19792216,\n",
       "       0.19783675, 0.19030837, 0.18797856, 0.18788641, 0.18601032,\n",
       "       0.18528695, 0.18508588, 0.1847686 , 0.18273928, 0.16615685,\n",
       "       0.08410718])"
      ]
     },
     "execution_count": 310,
     "metadata": {},
     "output_type": "execute_result"
    }
   ],
   "source": [
    "thresholds"
   ]
  },
  {
   "cell_type": "code",
   "execution_count": 311,
   "id": "5103bcda",
   "metadata": {},
   "outputs": [
    {
     "data": {
      "image/png": "[encoded data removed]",
      "text/plain": [
       "<Figure size 432x288 with 1 Axes>"
      ]
     },
     "metadata": {
      "needs_background": "light"
     },
     "output_type": "display_data"
    }
   ],
   "source": [
    "plt.plot([0,1],[0,1],'k--')\n",
    "plt.plot(tpr,fpr,label='SVC')\n",
    "plt.xlabel('FALSE_POSITIVE_RATE')\n",
    "plt.ylabel('TRUE_POSITIVE_RATE')\n",
    "plt.title('SVC_CLASSIFIER')\n",
    "plt.show()"
   ]
  },
  {
   "cell_type": "code",
   "execution_count": 312,
   "id": "dc714881",
   "metadata": {},
   "outputs": [
    {
     "data": {
      "text/plain": [
       "0.81"
      ]
     },
     "execution_count": 312,
     "metadata": {},
     "output_type": "execute_result"
    }
   ],
   "source": [
    "auc_score=roc_auc_score(y_test,(SVC2.predict(x_test)))\n",
    "auc_score"
   ]
  },
  {
   "cell_type": "markdown",
   "id": "12fbfff5",
   "metadata": {},
   "source": [
    "## SAVING THE MODEL "
   ]
  },
  {
   "cell_type": "code",
   "execution_count": 319,
   "id": "2ef3f8fa",
   "metadata": {},
   "outputs": [],
   "source": [
    "import pickle"
   ]
  },
  {
   "cell_type": "code",
   "execution_count": 320,
   "id": "0b054e2d",
   "metadata": {},
   "outputs": [],
   "source": [
    "filename='churn.pkl'\n",
    "pickle.dump(SVC2,open(filename,'wb'))"
   ]
  },
  {
   "cell_type": "code",
   "execution_count": 321,
   "id": "4cd40b03",
   "metadata": {},
   "outputs": [],
   "source": [
    "loaded_model=pickle.load(open('churn.pkl','rb'))"
   ]
  },
  {
   "cell_type": "code",
   "execution_count": 323,
   "id": "ec84bd73",
   "metadata": {},
   "outputs": [],
   "source": [
    "conclusion=pd.DataFrame([loaded_model.predict(x_test)[:],y_test[:]],index=['PREDICTED','ORIGINAL'])"
   ]
  },
  {
   "cell_type": "code",
   "execution_count": 324,
   "id": "9900c598",
   "metadata": {},
   "outputs": [
    {
     "data": {
      "text/html": [
       "<div>\n",
       "<style scoped>\n",
       "    .dataframe tbody tr th:only-of-type {\n",
       "        vertical-align: middle;\n",
       "    }\n",
       "\n",
       "    .dataframe tbody tr th {\n",
       "        vertical-align: top;\n",
       "    }\n",
       "\n",
       "    .dataframe thead th {\n",
       "        text-align: right;\n",
       "    }\n",
       "</style>\n",
       "<table border=\"1\" class=\"dataframe\">\n",
       "  <thead>\n",
       "    <tr style=\"text-align: right;\">\n",
       "      <th></th>\n",
       "      <th>0</th>\n",
       "      <th>1</th>\n",
       "      <th>2</th>\n",
       "      <th>3</th>\n",
       "      <th>4</th>\n",
       "      <th>5</th>\n",
       "      <th>6</th>\n",
       "      <th>7</th>\n",
       "      <th>8</th>\n",
       "      <th>9</th>\n",
       "      <th>...</th>\n",
       "      <th>190</th>\n",
       "      <th>191</th>\n",
       "      <th>192</th>\n",
       "      <th>193</th>\n",
       "      <th>194</th>\n",
       "      <th>195</th>\n",
       "      <th>196</th>\n",
       "      <th>197</th>\n",
       "      <th>198</th>\n",
       "      <th>199</th>\n",
       "    </tr>\n",
       "  </thead>\n",
       "  <tbody>\n",
       "    <tr>\n",
       "      <th>PREDICTED</th>\n",
       "      <td>1</td>\n",
       "      <td>1</td>\n",
       "      <td>0</td>\n",
       "      <td>0</td>\n",
       "      <td>1</td>\n",
       "      <td>0</td>\n",
       "      <td>0</td>\n",
       "      <td>0</td>\n",
       "      <td>1</td>\n",
       "      <td>1</td>\n",
       "      <td>...</td>\n",
       "      <td>0</td>\n",
       "      <td>1</td>\n",
       "      <td>0</td>\n",
       "      <td>0</td>\n",
       "      <td>0</td>\n",
       "      <td>0</td>\n",
       "      <td>0</td>\n",
       "      <td>1</td>\n",
       "      <td>0</td>\n",
       "      <td>1</td>\n",
       "    </tr>\n",
       "    <tr>\n",
       "      <th>ORIGINAL</th>\n",
       "      <td>0</td>\n",
       "      <td>1</td>\n",
       "      <td>0</td>\n",
       "      <td>0</td>\n",
       "      <td>1</td>\n",
       "      <td>0</td>\n",
       "      <td>0</td>\n",
       "      <td>1</td>\n",
       "      <td>1</td>\n",
       "      <td>1</td>\n",
       "      <td>...</td>\n",
       "      <td>0</td>\n",
       "      <td>1</td>\n",
       "      <td>0</td>\n",
       "      <td>0</td>\n",
       "      <td>0</td>\n",
       "      <td>0</td>\n",
       "      <td>0</td>\n",
       "      <td>1</td>\n",
       "      <td>0</td>\n",
       "      <td>0</td>\n",
       "    </tr>\n",
       "  </tbody>\n",
       "</table>\n",
       "<p>2 rows × 200 columns</p>\n",
       "</div>"
      ],
      "text/plain": [
       "           0    1    2    3    4    5    6    7    8    9    ...  190  191  \\\n",
       "PREDICTED    1    1    0    0    1    0    0    0    1    1  ...    0    1   \n",
       "ORIGINAL     0    1    0    0    1    0    0    1    1    1  ...    0    1   \n",
       "\n",
       "           192  193  194  195  196  197  198  199  \n",
       "PREDICTED    0    0    0    0    0    1    0    1  \n",
       "ORIGINAL     0    0    0    0    0    1    0    0  \n",
       "\n",
       "[2 rows x 200 columns]"
      ]
     },
     "execution_count": 324,
     "metadata": {},
     "output_type": "execute_result"
    }
   ],
   "source": [
    "conclusion"
   ]
  },
  {
   "cell_type": "code",
   "execution_count": null,
   "id": "a91f3e77",
   "metadata": {},
   "outputs": [],
   "source": []
  }
 ],
 "metadata": {
  "kernelspec": {
   "display_name": "Python 3 (ipykernel)",
   "language": "python",
   "name": "python3"
  },
  "language_info": {
   "codemirror_mode": {
    "name": "ipython",
    "version": 3
   },
   "file_extension": ".py",
   "mimetype": "text/x-python",
   "name": "python",
   "nbconvert_exporter": "python",
   "pygments_lexer": "ipython3",
   "version": "3.9.7"
  }
 },
 "nbformat": 4,
 "nbformat_minor": 5
}
